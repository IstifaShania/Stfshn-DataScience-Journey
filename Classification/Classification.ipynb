{
 "cells": [
  {
   "cell_type": "markdown",
   "id": "34532235",
   "metadata": {
    "papermill": {
     "duration": 0.012584,
     "end_time": "2023-09-30T09:53:56.543752",
     "exception": false,
     "start_time": "2023-09-30T09:53:56.531168",
     "status": "completed"
    },
    "tags": []
   },
   "source": [
    "# Lab 2 - Classification"
   ]
  },
  {
   "cell_type": "markdown",
   "id": "456f7122",
   "metadata": {
    "papermill": {
     "duration": 0.011458,
     "end_time": "2023-09-30T09:53:56.567446",
     "exception": false,
     "start_time": "2023-09-30T09:53:56.555988",
     "status": "completed"
    },
    "tags": []
   },
   "source": [
    "Nama: Istifa Shania\n",
    "\n",
    "NIM: 23523007"
   ]
  },
  {
   "cell_type": "markdown",
   "id": "5a6fbe15",
   "metadata": {
    "papermill": {
     "duration": 0.011721,
     "end_time": "2023-09-30T09:53:56.591405",
     "exception": false,
     "start_time": "2023-09-30T09:53:56.579684",
     "status": "completed"
    },
    "tags": []
   },
   "source": [
    "## Dataset\n",
    "Link dataset: \n",
    "Deskripsi dari dataset:\n",
    "- First Name : Nama depan \n",
    "- Last Name : Nama belakang\n",
    "- Birthday : Tanggal lahir\n",
    "- Species : Jenis spesies (manusia atau bukan)\n",
    "- Blood Status : Status darah penyihir (darah murni, darah campuran, darah non-penyihir)\n",
    "- Best Hand : Tangan terbaik saat menggunakan tongkat sihir (kanan atau kiri)\n",
    "- Arithmancy : Kemahiran dalam mempelajari sihir yang berhubungan dengan angka  \n",
    "- Astronomy : Kemahiran dalam mempelajari sihir yang berhubungan dengan fenomena angkasa \n",
    "- Herbology : Kemahiran dalam mempelajari tumbuhan dan jamur di dunia sihir\n",
    "- Defense Against the Dark Arts : Kemahiran dalam ilmu pertahanan diri dari sihir yang gelap\n",
    "- Divination : Kemahiran dalam menerawang masa depan\n",
    "- Muggle Studies : Kemahiran dalam mempelajari dunia dan sejarah muggle (non-penyihir)\n",
    "- Ancient Runes : Kemahiran dalam mempelajari artefak sihir kuno\n",
    "- History of Magic : Kemahiran dalam ilmu sejarah di dunia sihir\n",
    "- Transfiguration : Kemahiran dalam ilmu perubahan bentuk menjadi sebuah benda, hewan, atau orang lain\n",
    "- Potions : Kemahiran dalam membuat ramuan sihir\n",
    "- Care of Magical Creatures : Kemahiran dalam komunikasi dan pemeliharaan hewan sihir\n",
    "- Charms : Kemahiran dalam menguasai matra sihir\n",
    "- Flying : Kemahiran dalam terbang menggunakan sapu terbang\n",
    "- Hogwarts House : Asrama Hogwarts (Gryffindor, Ravenclaw, Hufflepuff, Slytherin)"
   ]
  },
  {
   "cell_type": "markdown",
   "id": "1280a884",
   "metadata": {
    "papermill": {
     "duration": 0.011906,
     "end_time": "2023-09-30T09:53:56.615230",
     "exception": false,
     "start_time": "2023-09-30T09:53:56.603324",
     "status": "completed"
    },
    "tags": []
   },
   "source": [
    "## Import libraries and dataset"
   ]
  },
  {
   "cell_type": "code",
   "execution_count": 1,
   "id": "c1e188cc",
   "metadata": {
    "execution": {
     "iopub.execute_input": "2023-09-30T09:53:56.640893Z",
     "iopub.status.busy": "2023-09-30T09:53:56.640514Z",
     "iopub.status.idle": "2023-09-30T09:53:58.604388Z",
     "shell.execute_reply": "2023-09-30T09:53:58.603391Z"
    },
    "papermill": {
     "duration": 1.979053,
     "end_time": "2023-09-30T09:53:58.606518",
     "exception": false,
     "start_time": "2023-09-30T09:53:56.627465",
     "status": "completed"
    },
    "tags": []
   },
   "outputs": [],
   "source": [
    "# Import libraries\n",
    "import joblib\n",
    "import seaborn as sns\n",
    "import numpy as np\n",
    "import pandas as pd\n",
    "import matplotlib.pyplot as plt\n",
    "from sklearn.model_selection import train_test_split\n",
    "from sklearn.metrics import mean_squared_error, r2_score\n",
    "%matplotlib inline"
   ]
  },
  {
   "cell_type": "code",
   "execution_count": 2,
   "id": "1c919d2a",
   "metadata": {
    "execution": {
     "iopub.execute_input": "2023-09-30T09:53:58.632116Z",
     "iopub.status.busy": "2023-09-30T09:53:58.631624Z",
     "iopub.status.idle": "2023-09-30T09:53:58.725197Z",
     "shell.execute_reply": "2023-09-30T09:53:58.724181Z"
    },
    "papermill": {
     "duration": 0.109281,
     "end_time": "2023-09-30T09:53:58.727807",
     "exception": false,
     "start_time": "2023-09-30T09:53:58.618526",
     "status": "completed"
    },
    "tags": []
   },
   "outputs": [
    {
     "data": {
      "text/html": [
       "<div>\n",
       "<style scoped>\n",
       "    .dataframe tbody tr th:only-of-type {\n",
       "        vertical-align: middle;\n",
       "    }\n",
       "\n",
       "    .dataframe tbody tr th {\n",
       "        vertical-align: top;\n",
       "    }\n",
       "\n",
       "    .dataframe thead th {\n",
       "        text-align: right;\n",
       "    }\n",
       "</style>\n",
       "<table border=\"1\" class=\"dataframe\">\n",
       "  <thead>\n",
       "    <tr style=\"text-align: right;\">\n",
       "      <th></th>\n",
       "      <th>First Name</th>\n",
       "      <th>Last Name</th>\n",
       "      <th>Birthday</th>\n",
       "      <th>Species</th>\n",
       "      <th>Blood Status</th>\n",
       "      <th>Best Hand</th>\n",
       "      <th>Arithmancy</th>\n",
       "      <th>Astronomy</th>\n",
       "      <th>Herbology</th>\n",
       "      <th>Defense Against the Dark Arts</th>\n",
       "      <th>Divination</th>\n",
       "      <th>Muggle Studies</th>\n",
       "      <th>Ancient Runes</th>\n",
       "      <th>History of Magic</th>\n",
       "      <th>Transfiguration</th>\n",
       "      <th>Potions</th>\n",
       "      <th>Care of Magical Creatures</th>\n",
       "      <th>Charms</th>\n",
       "      <th>Flying</th>\n",
       "      <th>House</th>\n",
       "    </tr>\n",
       "  </thead>\n",
       "  <tbody>\n",
       "    <tr>\n",
       "      <th>0</th>\n",
       "      <td>Lorna</td>\n",
       "      <td>Graves</td>\n",
       "      <td>2000-03-28</td>\n",
       "      <td>Human</td>\n",
       "      <td>Pure Blood</td>\n",
       "      <td>Left</td>\n",
       "      <td>71.864900</td>\n",
       "      <td>4.110278</td>\n",
       "      <td>7.229907</td>\n",
       "      <td>70.801332</td>\n",
       "      <td>4.182763</td>\n",
       "      <td>0.364469</td>\n",
       "      <td>2.148078</td>\n",
       "      <td>49.956951</td>\n",
       "      <td>19.132938</td>\n",
       "      <td>13.123478</td>\n",
       "      <td>45.667927</td>\n",
       "      <td>32.392948</td>\n",
       "      <td>13.806618</td>\n",
       "      <td>Slytherin</td>\n",
       "    </tr>\n",
       "    <tr>\n",
       "      <th>1</th>\n",
       "      <td>Rudolf</td>\n",
       "      <td>Childs</td>\n",
       "      <td>1997-11-25</td>\n",
       "      <td>Human</td>\n",
       "      <td>Pure Blood</td>\n",
       "      <td>Left</td>\n",
       "      <td>99.507072</td>\n",
       "      <td>18.928583</td>\n",
       "      <td>32.056387</td>\n",
       "      <td>5.682743</td>\n",
       "      <td>2.829717</td>\n",
       "      <td>0.442748</td>\n",
       "      <td>NaN</td>\n",
       "      <td>36.908021</td>\n",
       "      <td>12.428255</td>\n",
       "      <td>99.790793</td>\n",
       "      <td>67.814478</td>\n",
       "      <td>47.704101</td>\n",
       "      <td>39.883615</td>\n",
       "      <td>Gryffindor</td>\n",
       "    </tr>\n",
       "    <tr>\n",
       "      <th>2</th>\n",
       "      <td>Selina</td>\n",
       "      <td>Mccune</td>\n",
       "      <td>2001-08-17</td>\n",
       "      <td>Human</td>\n",
       "      <td>Half Blood</td>\n",
       "      <td>Left</td>\n",
       "      <td>54.992809</td>\n",
       "      <td>18.792944</td>\n",
       "      <td>4.149932</td>\n",
       "      <td>22.180558</td>\n",
       "      <td>3.045631</td>\n",
       "      <td>0.907479</td>\n",
       "      <td>37.485514</td>\n",
       "      <td>12.474482</td>\n",
       "      <td>11.052692</td>\n",
       "      <td>6.889890</td>\n",
       "      <td>55.768311</td>\n",
       "      <td>8.670640</td>\n",
       "      <td>18.831155</td>\n",
       "      <td>Hufflepuff</td>\n",
       "    </tr>\n",
       "    <tr>\n",
       "      <th>3</th>\n",
       "      <td>Earle</td>\n",
       "      <td>Branson</td>\n",
       "      <td>1997-12-29</td>\n",
       "      <td>Human</td>\n",
       "      <td>Half Blood</td>\n",
       "      <td>Left</td>\n",
       "      <td>62.608447</td>\n",
       "      <td>7.215338</td>\n",
       "      <td>34.951626</td>\n",
       "      <td>17.553261</td>\n",
       "      <td>3.928367</td>\n",
       "      <td>0.680672</td>\n",
       "      <td>14.083917</td>\n",
       "      <td>75.705431</td>\n",
       "      <td>1.864171</td>\n",
       "      <td>12.640418</td>\n",
       "      <td>43.712479</td>\n",
       "      <td>60.746181</td>\n",
       "      <td>15.827073</td>\n",
       "      <td>Ravenclaw</td>\n",
       "    </tr>\n",
       "    <tr>\n",
       "      <th>4</th>\n",
       "      <td>Tracie</td>\n",
       "      <td>Sturgeon</td>\n",
       "      <td>2001-03-28</td>\n",
       "      <td>Human</td>\n",
       "      <td>Pure Blood</td>\n",
       "      <td>Right</td>\n",
       "      <td>51.557305</td>\n",
       "      <td>9.500778</td>\n",
       "      <td>27.557312</td>\n",
       "      <td>79.759675</td>\n",
       "      <td>4.542559</td>\n",
       "      <td>0.151740</td>\n",
       "      <td>10.918093</td>\n",
       "      <td>66.517545</td>\n",
       "      <td>10.998838</td>\n",
       "      <td>17.016210</td>\n",
       "      <td>45.666188</td>\n",
       "      <td>70.829111</td>\n",
       "      <td>10.600599</td>\n",
       "      <td>Slytherin</td>\n",
       "    </tr>\n",
       "    <tr>\n",
       "      <th>...</th>\n",
       "      <td>...</td>\n",
       "      <td>...</td>\n",
       "      <td>...</td>\n",
       "      <td>...</td>\n",
       "      <td>...</td>\n",
       "      <td>...</td>\n",
       "      <td>...</td>\n",
       "      <td>...</td>\n",
       "      <td>...</td>\n",
       "      <td>...</td>\n",
       "      <td>...</td>\n",
       "      <td>...</td>\n",
       "      <td>...</td>\n",
       "      <td>...</td>\n",
       "      <td>...</td>\n",
       "      <td>...</td>\n",
       "      <td>...</td>\n",
       "      <td>...</td>\n",
       "      <td>...</td>\n",
       "      <td>...</td>\n",
       "    </tr>\n",
       "    <tr>\n",
       "      <th>745</th>\n",
       "      <td>Lorna</td>\n",
       "      <td>Metzler</td>\n",
       "      <td>1997-11-24</td>\n",
       "      <td>Human</td>\n",
       "      <td>Pure Blood</td>\n",
       "      <td>Left</td>\n",
       "      <td>67.315157</td>\n",
       "      <td>18.946705</td>\n",
       "      <td>8.150471</td>\n",
       "      <td>15.133536</td>\n",
       "      <td>0.255047</td>\n",
       "      <td>0.201176</td>\n",
       "      <td>19.428234</td>\n",
       "      <td>48.191744</td>\n",
       "      <td>4.745998</td>\n",
       "      <td>10.744286</td>\n",
       "      <td>38.819768</td>\n",
       "      <td>16.904711</td>\n",
       "      <td>15.642507</td>\n",
       "      <td>Hufflepuff</td>\n",
       "    </tr>\n",
       "    <tr>\n",
       "      <th>746</th>\n",
       "      <td>Sammie</td>\n",
       "      <td>Zimmerman</td>\n",
       "      <td>2001-09-30</td>\n",
       "      <td>Werewolf</td>\n",
       "      <td>Half Blood</td>\n",
       "      <td>Right</td>\n",
       "      <td>52.521535</td>\n",
       "      <td>4.500041</td>\n",
       "      <td>19.124358</td>\n",
       "      <td>NaN</td>\n",
       "      <td>0.542054</td>\n",
       "      <td>0.560615</td>\n",
       "      <td>19.904610</td>\n",
       "      <td>74.674729</td>\n",
       "      <td>14.471406</td>\n",
       "      <td>16.289617</td>\n",
       "      <td>59.076540</td>\n",
       "      <td>23.158266</td>\n",
       "      <td>11.620055</td>\n",
       "      <td>Slytherin</td>\n",
       "    </tr>\n",
       "    <tr>\n",
       "      <th>747</th>\n",
       "      <td>Sunny</td>\n",
       "      <td>Hadley</td>\n",
       "      <td>1998-09-24</td>\n",
       "      <td>Human</td>\n",
       "      <td>Half Blood</td>\n",
       "      <td>Right</td>\n",
       "      <td>50.316255</td>\n",
       "      <td>NaN</td>\n",
       "      <td>17.981266</td>\n",
       "      <td>33.613810</td>\n",
       "      <td>4.764172</td>\n",
       "      <td>0.335701</td>\n",
       "      <td>4.515237</td>\n",
       "      <td>18.429482</td>\n",
       "      <td>2.711447</td>\n",
       "      <td>7.887857</td>\n",
       "      <td>49.098758</td>\n",
       "      <td>23.691784</td>\n",
       "      <td>43.066835</td>\n",
       "      <td>Gryffindor</td>\n",
       "    </tr>\n",
       "    <tr>\n",
       "      <th>748</th>\n",
       "      <td>Alana</td>\n",
       "      <td>Kersey</td>\n",
       "      <td>1998-01-03</td>\n",
       "      <td>Human</td>\n",
       "      <td>Pure Blood</td>\n",
       "      <td>Left</td>\n",
       "      <td>92.688550</td>\n",
       "      <td>7.319343</td>\n",
       "      <td>3.525477</td>\n",
       "      <td>27.050675</td>\n",
       "      <td>3.064530</td>\n",
       "      <td>0.253095</td>\n",
       "      <td>38.945828</td>\n",
       "      <td>30.363082</td>\n",
       "      <td>4.006290</td>\n",
       "      <td>97.817280</td>\n",
       "      <td>56.756892</td>\n",
       "      <td>44.853591</td>\n",
       "      <td>24.431103</td>\n",
       "      <td>Hufflepuff</td>\n",
       "    </tr>\n",
       "    <tr>\n",
       "      <th>749</th>\n",
       "      <td>Aubrey</td>\n",
       "      <td>Box</td>\n",
       "      <td>1997-08-04</td>\n",
       "      <td>Human</td>\n",
       "      <td>Muggle</td>\n",
       "      <td>Right</td>\n",
       "      <td>99.111813</td>\n",
       "      <td>10.822420</td>\n",
       "      <td>27.601047</td>\n",
       "      <td>14.408460</td>\n",
       "      <td>1.664894</td>\n",
       "      <td>0.870159</td>\n",
       "      <td>18.377196</td>\n",
       "      <td>14.238551</td>\n",
       "      <td>11.378392</td>\n",
       "      <td>96.843261</td>\n",
       "      <td>76.760942</td>\n",
       "      <td>34.663203</td>\n",
       "      <td>42.064750</td>\n",
       "      <td>Gryffindor</td>\n",
       "    </tr>\n",
       "  </tbody>\n",
       "</table>\n",
       "<p>750 rows × 20 columns</p>\n",
       "</div>"
      ],
      "text/plain": [
       "    First Name  Last Name    Birthday   Species Blood Status Best Hand  \\\n",
       "0        Lorna     Graves  2000-03-28     Human   Pure Blood      Left   \n",
       "1       Rudolf     Childs  1997-11-25     Human   Pure Blood      Left   \n",
       "2       Selina     Mccune  2001-08-17     Human   Half Blood      Left   \n",
       "3        Earle    Branson  1997-12-29     Human   Half Blood      Left   \n",
       "4       Tracie   Sturgeon  2001-03-28     Human   Pure Blood     Right   \n",
       "..         ...        ...         ...       ...          ...       ...   \n",
       "745      Lorna    Metzler  1997-11-24     Human   Pure Blood      Left   \n",
       "746     Sammie  Zimmerman  2001-09-30  Werewolf   Half Blood     Right   \n",
       "747      Sunny     Hadley  1998-09-24     Human   Half Blood     Right   \n",
       "748      Alana     Kersey  1998-01-03     Human   Pure Blood      Left   \n",
       "749     Aubrey        Box  1997-08-04     Human       Muggle     Right   \n",
       "\n",
       "     Arithmancy  Astronomy  Herbology  Defense Against the Dark Arts  \\\n",
       "0     71.864900   4.110278   7.229907                      70.801332   \n",
       "1     99.507072  18.928583  32.056387                       5.682743   \n",
       "2     54.992809  18.792944   4.149932                      22.180558   \n",
       "3     62.608447   7.215338  34.951626                      17.553261   \n",
       "4     51.557305   9.500778  27.557312                      79.759675   \n",
       "..          ...        ...        ...                            ...   \n",
       "745   67.315157  18.946705   8.150471                      15.133536   \n",
       "746   52.521535   4.500041  19.124358                            NaN   \n",
       "747   50.316255        NaN  17.981266                      33.613810   \n",
       "748   92.688550   7.319343   3.525477                      27.050675   \n",
       "749   99.111813  10.822420  27.601047                      14.408460   \n",
       "\n",
       "     Divination  Muggle Studies  Ancient Runes  History of Magic  \\\n",
       "0      4.182763        0.364469       2.148078         49.956951   \n",
       "1      2.829717        0.442748            NaN         36.908021   \n",
       "2      3.045631        0.907479      37.485514         12.474482   \n",
       "3      3.928367        0.680672      14.083917         75.705431   \n",
       "4      4.542559        0.151740      10.918093         66.517545   \n",
       "..          ...             ...            ...               ...   \n",
       "745    0.255047        0.201176      19.428234         48.191744   \n",
       "746    0.542054        0.560615      19.904610         74.674729   \n",
       "747    4.764172        0.335701       4.515237         18.429482   \n",
       "748    3.064530        0.253095      38.945828         30.363082   \n",
       "749    1.664894        0.870159      18.377196         14.238551   \n",
       "\n",
       "     Transfiguration    Potions  Care of Magical Creatures     Charms  \\\n",
       "0          19.132938  13.123478                  45.667927  32.392948   \n",
       "1          12.428255  99.790793                  67.814478  47.704101   \n",
       "2          11.052692   6.889890                  55.768311   8.670640   \n",
       "3           1.864171  12.640418                  43.712479  60.746181   \n",
       "4          10.998838  17.016210                  45.666188  70.829111   \n",
       "..               ...        ...                        ...        ...   \n",
       "745         4.745998  10.744286                  38.819768  16.904711   \n",
       "746        14.471406  16.289617                  59.076540  23.158266   \n",
       "747         2.711447   7.887857                  49.098758  23.691784   \n",
       "748         4.006290  97.817280                  56.756892  44.853591   \n",
       "749        11.378392  96.843261                  76.760942  34.663203   \n",
       "\n",
       "        Flying       House  \n",
       "0    13.806618   Slytherin  \n",
       "1    39.883615  Gryffindor  \n",
       "2    18.831155  Hufflepuff  \n",
       "3    15.827073   Ravenclaw  \n",
       "4    10.600599   Slytherin  \n",
       "..         ...         ...  \n",
       "745  15.642507  Hufflepuff  \n",
       "746  11.620055   Slytherin  \n",
       "747  43.066835  Gryffindor  \n",
       "748  24.431103  Hufflepuff  \n",
       "749  42.064750  Gryffindor  \n",
       "\n",
       "[750 rows x 20 columns]"
      ]
     },
     "execution_count": 2,
     "metadata": {},
     "output_type": "execute_result"
    }
   ],
   "source": [
    "x_latih = pd.read_csv('/kaggle/input/if517101-modul-2-klasifikasi/x_train.csv')\n",
    "y_latih =  pd.read_csv('/kaggle/input/if517101-modul-2-klasifikasi/y_train.csv')\n",
    "x_val = pd.read_csv('/kaggle/input/if517101-modul-2-klasifikasi/x_validate.csv')\n",
    "y_val = pd.read_csv('/kaggle/input/if517101-modul-2-klasifikasi/y_validate.csv')\n",
    "x_uji = pd.read_csv('/kaggle/input/if517101-modul-2-klasifikasi/x_test.csv')\n",
    "x_comp = x_latih.join(y_latih)\n",
    "x_comp"
   ]
  },
  {
   "cell_type": "markdown",
   "id": "25e7395f",
   "metadata": {
    "papermill": {
     "duration": 0.011989,
     "end_time": "2023-09-30T09:53:58.752468",
     "exception": false,
     "start_time": "2023-09-30T09:53:58.740479",
     "status": "completed"
    },
    "tags": []
   },
   "source": [
    "## EDA (Exploratory Data Analysis)"
   ]
  },
  {
   "cell_type": "markdown",
   "id": "bc8b779c",
   "metadata": {
    "papermill": {
     "duration": 0.012074,
     "end_time": "2023-09-30T09:53:58.776751",
     "exception": false,
     "start_time": "2023-09-30T09:53:58.764677",
     "status": "completed"
    },
    "tags": []
   },
   "source": [
    "### Descriptive Analysis\n",
    "Analisis dataset secara deskriptif untuk mendapatkan gambaran singkat terkait dataset seperti jumlah kolom dan baris, tipe data, jumlah null values pada dataset, dan lain-lain. Analisis dapat menggunakan beberapa fungsi seperti \n",
    "- `df.info()` \n",
    "- `df.describe()`\n",
    "- `df.duplicated`\n",
    "- dst.\n"
   ]
  },
  {
   "cell_type": "code",
   "execution_count": 3,
   "id": "9815beee",
   "metadata": {
    "execution": {
     "iopub.execute_input": "2023-09-30T09:53:58.803629Z",
     "iopub.status.busy": "2023-09-30T09:53:58.802651Z",
     "iopub.status.idle": "2023-09-30T09:53:58.808682Z",
     "shell.execute_reply": "2023-09-30T09:53:58.808051Z"
    },
    "papermill": {
     "duration": 0.021283,
     "end_time": "2023-09-30T09:53:58.810341",
     "exception": false,
     "start_time": "2023-09-30T09:53:58.789058",
     "status": "completed"
    },
    "tags": []
   },
   "outputs": [
    {
     "data": {
      "text/plain": [
       "Index(['First Name', 'Last Name', 'Birthday', 'Species', 'Blood Status',\n",
       "       'Best Hand', 'Arithmancy', 'Astronomy', 'Herbology',\n",
       "       'Defense Against the Dark Arts', 'Divination', 'Muggle Studies',\n",
       "       'Ancient Runes', 'History of Magic', 'Transfiguration', 'Potions',\n",
       "       'Care of Magical Creatures', 'Charms', 'Flying', 'House'],\n",
       "      dtype='object')"
      ]
     },
     "execution_count": 3,
     "metadata": {},
     "output_type": "execute_result"
    }
   ],
   "source": [
    "# mengambil semua nama kolom dari dataset latih\n",
    "x_comp.columns"
   ]
  },
  {
   "cell_type": "code",
   "execution_count": 4,
   "id": "25655e3f",
   "metadata": {
    "execution": {
     "iopub.execute_input": "2023-09-30T09:53:58.837072Z",
     "iopub.status.busy": "2023-09-30T09:53:58.836555Z",
     "iopub.status.idle": "2023-09-30T09:53:58.859054Z",
     "shell.execute_reply": "2023-09-30T09:53:58.857859Z"
    },
    "papermill": {
     "duration": 0.038784,
     "end_time": "2023-09-30T09:53:58.861511",
     "exception": false,
     "start_time": "2023-09-30T09:53:58.822727",
     "status": "completed"
    },
    "tags": []
   },
   "outputs": [
    {
     "name": "stdout",
     "output_type": "stream",
     "text": [
      "<class 'pandas.core.frame.DataFrame'>\n",
      "RangeIndex: 750 entries, 0 to 749\n",
      "Data columns (total 20 columns):\n",
      " #   Column                         Non-Null Count  Dtype  \n",
      "---  ------                         --------------  -----  \n",
      " 0   First Name                     750 non-null    object \n",
      " 1   Last Name                      750 non-null    object \n",
      " 2   Birthday                       750 non-null    object \n",
      " 3   Species                        750 non-null    object \n",
      " 4   Blood Status                   750 non-null    object \n",
      " 5   Best Hand                      750 non-null    object \n",
      " 6   Arithmancy                     740 non-null    float64\n",
      " 7   Astronomy                      747 non-null    float64\n",
      " 8   Herbology                      741 non-null    float64\n",
      " 9   Defense Against the Dark Arts  740 non-null    float64\n",
      " 10  Divination                     747 non-null    float64\n",
      " 11  Muggle Studies                 748 non-null    float64\n",
      " 12  Ancient Runes                  746 non-null    float64\n",
      " 13  History of Magic               746 non-null    float64\n",
      " 14  Transfiguration                741 non-null    float64\n",
      " 15  Potions                        744 non-null    float64\n",
      " 16  Care of Magical Creatures      748 non-null    float64\n",
      " 17  Charms                         743 non-null    float64\n",
      " 18  Flying                         750 non-null    float64\n",
      " 19  House                          750 non-null    object \n",
      "dtypes: float64(13), object(7)\n",
      "memory usage: 117.3+ KB\n"
     ]
    }
   ],
   "source": [
    "# tipe data dari dataset training (x_comp)\n",
    "x_comp.info()"
   ]
  },
  {
   "cell_type": "code",
   "execution_count": 5,
   "id": "87e49ad2",
   "metadata": {
    "execution": {
     "iopub.execute_input": "2023-09-30T09:53:58.943890Z",
     "iopub.status.busy": "2023-09-30T09:53:58.943288Z",
     "iopub.status.idle": "2023-09-30T09:53:58.985847Z",
     "shell.execute_reply": "2023-09-30T09:53:58.984803Z"
    },
    "papermill": {
     "duration": 0.113496,
     "end_time": "2023-09-30T09:53:58.988158",
     "exception": false,
     "start_time": "2023-09-30T09:53:58.874662",
     "status": "completed"
    },
    "tags": []
   },
   "outputs": [
    {
     "data": {
      "text/html": [
       "<div>\n",
       "<style scoped>\n",
       "    .dataframe tbody tr th:only-of-type {\n",
       "        vertical-align: middle;\n",
       "    }\n",
       "\n",
       "    .dataframe tbody tr th {\n",
       "        vertical-align: top;\n",
       "    }\n",
       "\n",
       "    .dataframe thead th {\n",
       "        text-align: right;\n",
       "    }\n",
       "</style>\n",
       "<table border=\"1\" class=\"dataframe\">\n",
       "  <thead>\n",
       "    <tr style=\"text-align: right;\">\n",
       "      <th></th>\n",
       "      <th>Arithmancy</th>\n",
       "      <th>Astronomy</th>\n",
       "      <th>Herbology</th>\n",
       "      <th>Defense Against the Dark Arts</th>\n",
       "      <th>Divination</th>\n",
       "      <th>Muggle Studies</th>\n",
       "      <th>Ancient Runes</th>\n",
       "      <th>History of Magic</th>\n",
       "      <th>Transfiguration</th>\n",
       "      <th>Potions</th>\n",
       "      <th>Care of Magical Creatures</th>\n",
       "      <th>Charms</th>\n",
       "      <th>Flying</th>\n",
       "    </tr>\n",
       "  </thead>\n",
       "  <tbody>\n",
       "    <tr>\n",
       "      <th>count</th>\n",
       "      <td>740.000000</td>\n",
       "      <td>747.000000</td>\n",
       "      <td>741.000000</td>\n",
       "      <td>740.000000</td>\n",
       "      <td>747.000000</td>\n",
       "      <td>748.000000</td>\n",
       "      <td>746.000000</td>\n",
       "      <td>746.000000</td>\n",
       "      <td>741.000000</td>\n",
       "      <td>744.000000</td>\n",
       "      <td>748.000000</td>\n",
       "      <td>743.000000</td>\n",
       "      <td>750.000000</td>\n",
       "    </tr>\n",
       "    <tr>\n",
       "      <th>mean</th>\n",
       "      <td>71.664166</td>\n",
       "      <td>10.109807</td>\n",
       "      <td>20.056835</td>\n",
       "      <td>33.473444</td>\n",
       "      <td>2.406754</td>\n",
       "      <td>0.630984</td>\n",
       "      <td>19.979781</td>\n",
       "      <td>43.752234</td>\n",
       "      <td>10.030153</td>\n",
       "      <td>44.037082</td>\n",
       "      <td>51.198636</td>\n",
       "      <td>41.173826</td>\n",
       "      <td>22.546806</td>\n",
       "    </tr>\n",
       "    <tr>\n",
       "      <th>std</th>\n",
       "      <td>21.116292</td>\n",
       "      <td>5.822681</td>\n",
       "      <td>11.060622</td>\n",
       "      <td>24.644382</td>\n",
       "      <td>1.468923</td>\n",
       "      <td>0.260078</td>\n",
       "      <td>11.368680</td>\n",
       "      <td>24.175414</td>\n",
       "      <td>5.869990</td>\n",
       "      <td>41.165968</td>\n",
       "      <td>15.043452</td>\n",
       "      <td>23.757428</td>\n",
       "      <td>10.708875</td>\n",
       "    </tr>\n",
       "    <tr>\n",
       "      <th>min</th>\n",
       "      <td>8.094273</td>\n",
       "      <td>0.024997</td>\n",
       "      <td>0.002112</td>\n",
       "      <td>0.036267</td>\n",
       "      <td>0.004158</td>\n",
       "      <td>0.001206</td>\n",
       "      <td>0.051494</td>\n",
       "      <td>0.000000</td>\n",
       "      <td>0.002903</td>\n",
       "      <td>2.104433</td>\n",
       "      <td>5.659518</td>\n",
       "      <td>0.071751</td>\n",
       "      <td>0.000000</td>\n",
       "    </tr>\n",
       "    <tr>\n",
       "      <th>25%</th>\n",
       "      <td>54.596524</td>\n",
       "      <td>4.853462</td>\n",
       "      <td>11.486113</td>\n",
       "      <td>16.718236</td>\n",
       "      <td>1.125453</td>\n",
       "      <td>0.420149</td>\n",
       "      <td>10.296691</td>\n",
       "      <td>20.782676</td>\n",
       "      <td>4.929953</td>\n",
       "      <td>10.293103</td>\n",
       "      <td>41.508800</td>\n",
       "      <td>21.090728</td>\n",
       "      <td>15.644949</td>\n",
       "    </tr>\n",
       "    <tr>\n",
       "      <th>50%</th>\n",
       "      <td>68.502853</td>\n",
       "      <td>10.216517</td>\n",
       "      <td>19.739419</td>\n",
       "      <td>26.909037</td>\n",
       "      <td>2.333651</td>\n",
       "      <td>0.710823</td>\n",
       "      <td>19.642168</td>\n",
       "      <td>49.245950</td>\n",
       "      <td>10.014430</td>\n",
       "      <td>14.575508</td>\n",
       "      <td>51.163321</td>\n",
       "      <td>40.432883</td>\n",
       "      <td>19.631845</td>\n",
       "    </tr>\n",
       "    <tr>\n",
       "      <th>75%</th>\n",
       "      <td>93.867889</td>\n",
       "      <td>15.096216</td>\n",
       "      <td>29.337988</td>\n",
       "      <td>38.429973</td>\n",
       "      <td>3.642077</td>\n",
       "      <td>0.841963</td>\n",
       "      <td>29.573731</td>\n",
       "      <td>64.772008</td>\n",
       "      <td>15.336881</td>\n",
       "      <td>94.036642</td>\n",
       "      <td>61.072096</td>\n",
       "      <td>63.129476</td>\n",
       "      <td>25.520313</td>\n",
       "    </tr>\n",
       "    <tr>\n",
       "      <th>max</th>\n",
       "      <td>99.924923</td>\n",
       "      <td>19.989258</td>\n",
       "      <td>39.833888</td>\n",
       "      <td>93.329885</td>\n",
       "      <td>4.997587</td>\n",
       "      <td>0.999597</td>\n",
       "      <td>39.873752</td>\n",
       "      <td>100.000000</td>\n",
       "      <td>19.956164</td>\n",
       "      <td>99.987874</td>\n",
       "      <td>100.000000</td>\n",
       "      <td>79.972928</td>\n",
       "      <td>49.636297</td>\n",
       "    </tr>\n",
       "  </tbody>\n",
       "</table>\n",
       "</div>"
      ],
      "text/plain": [
       "       Arithmancy   Astronomy   Herbology  Defense Against the Dark Arts  \\\n",
       "count  740.000000  747.000000  741.000000                     740.000000   \n",
       "mean    71.664166   10.109807   20.056835                      33.473444   \n",
       "std     21.116292    5.822681   11.060622                      24.644382   \n",
       "min      8.094273    0.024997    0.002112                       0.036267   \n",
       "25%     54.596524    4.853462   11.486113                      16.718236   \n",
       "50%     68.502853   10.216517   19.739419                      26.909037   \n",
       "75%     93.867889   15.096216   29.337988                      38.429973   \n",
       "max     99.924923   19.989258   39.833888                      93.329885   \n",
       "\n",
       "       Divination  Muggle Studies  Ancient Runes  History of Magic  \\\n",
       "count  747.000000      748.000000     746.000000        746.000000   \n",
       "mean     2.406754        0.630984      19.979781         43.752234   \n",
       "std      1.468923        0.260078      11.368680         24.175414   \n",
       "min      0.004158        0.001206       0.051494          0.000000   \n",
       "25%      1.125453        0.420149      10.296691         20.782676   \n",
       "50%      2.333651        0.710823      19.642168         49.245950   \n",
       "75%      3.642077        0.841963      29.573731         64.772008   \n",
       "max      4.997587        0.999597      39.873752        100.000000   \n",
       "\n",
       "       Transfiguration     Potions  Care of Magical Creatures      Charms  \\\n",
       "count       741.000000  744.000000                 748.000000  743.000000   \n",
       "mean         10.030153   44.037082                  51.198636   41.173826   \n",
       "std           5.869990   41.165968                  15.043452   23.757428   \n",
       "min           0.002903    2.104433                   5.659518    0.071751   \n",
       "25%           4.929953   10.293103                  41.508800   21.090728   \n",
       "50%          10.014430   14.575508                  51.163321   40.432883   \n",
       "75%          15.336881   94.036642                  61.072096   63.129476   \n",
       "max          19.956164   99.987874                 100.000000   79.972928   \n",
       "\n",
       "           Flying  \n",
       "count  750.000000  \n",
       "mean    22.546806  \n",
       "std     10.708875  \n",
       "min      0.000000  \n",
       "25%     15.644949  \n",
       "50%     19.631845  \n",
       "75%     25.520313  \n",
       "max     49.636297  "
      ]
     },
     "execution_count": 5,
     "metadata": {},
     "output_type": "execute_result"
    }
   ],
   "source": [
    "# deskripsi stastistika dari dataset latih\n",
    "x_comp.describe()"
   ]
  },
  {
   "cell_type": "code",
   "execution_count": 6,
   "id": "e6962ac9",
   "metadata": {
    "execution": {
     "iopub.execute_input": "2023-09-30T09:53:59.016148Z",
     "iopub.status.busy": "2023-09-30T09:53:59.015775Z",
     "iopub.status.idle": "2023-09-30T09:53:59.022704Z",
     "shell.execute_reply": "2023-09-30T09:53:59.021613Z"
    },
    "papermill": {
     "duration": 0.023733,
     "end_time": "2023-09-30T09:53:59.025140",
     "exception": false,
     "start_time": "2023-09-30T09:53:59.001407",
     "status": "completed"
    },
    "tags": []
   },
   "outputs": [
    {
     "name": "stdout",
     "output_type": "stream",
     "text": [
      "First Name                        0\n",
      "Last Name                         0\n",
      "Birthday                          0\n",
      "Species                           0\n",
      "Blood Status                      0\n",
      "Best Hand                         0\n",
      "Arithmancy                       10\n",
      "Astronomy                         3\n",
      "Herbology                         9\n",
      "Defense Against the Dark Arts    10\n",
      "Divination                        3\n",
      "Muggle Studies                    2\n",
      "Ancient Runes                     4\n",
      "History of Magic                  4\n",
      "Transfiguration                   9\n",
      "Potions                           6\n",
      "Care of Magical Creatures         2\n",
      "Charms                            7\n",
      "Flying                            0\n",
      "House                             0\n",
      "dtype: int64\n"
     ]
    }
   ],
   "source": [
    "# Melihat kolom dengan null value\n",
    "check_null = pd.isnull(x_comp).sum()\n",
    "print(check_null)"
   ]
  },
  {
   "cell_type": "code",
   "execution_count": 7,
   "id": "491e9c97",
   "metadata": {
    "execution": {
     "iopub.execute_input": "2023-09-30T09:53:59.053509Z",
     "iopub.status.busy": "2023-09-30T09:53:59.053176Z",
     "iopub.status.idle": "2023-09-30T09:53:59.060103Z",
     "shell.execute_reply": "2023-09-30T09:53:59.059085Z"
    },
    "papermill": {
     "duration": 0.023949,
     "end_time": "2023-09-30T09:53:59.062382",
     "exception": false,
     "start_time": "2023-09-30T09:53:59.038433",
     "status": "completed"
    },
    "tags": []
   },
   "outputs": [
    {
     "name": "stdout",
     "output_type": "stream",
     "text": [
      "ID                               0\n",
      "First Name                       0\n",
      "Last Name                        0\n",
      "Birthday                         0\n",
      "Species                          0\n",
      "Blood Status                     0\n",
      "Best Hand                        0\n",
      "Arithmancy                       0\n",
      "Astronomy                        0\n",
      "Herbology                        0\n",
      "Defense Against the Dark Arts    0\n",
      "Divination                       0\n",
      "Muggle Studies                   0\n",
      "Ancient Runes                    0\n",
      "History of Magic                 0\n",
      "Transfiguration                  0\n",
      "Potions                          0\n",
      "Care of Magical Creatures        0\n",
      "Charms                           0\n",
      "Flying                           0\n",
      "dtype: int64\n"
     ]
    }
   ],
   "source": [
    "# Melihat kolom dengan null value x_uji\n",
    "check_null = pd.isnull(x_uji).sum()\n",
    "print(check_null)"
   ]
  },
  {
   "cell_type": "code",
   "execution_count": 8,
   "id": "214b6f8a",
   "metadata": {
    "execution": {
     "iopub.execute_input": "2023-09-30T09:53:59.090255Z",
     "iopub.status.busy": "2023-09-30T09:53:59.089899Z",
     "iopub.status.idle": "2023-09-30T09:53:59.100252Z",
     "shell.execute_reply": "2023-09-30T09:53:59.099577Z"
    },
    "papermill": {
     "duration": 0.026589,
     "end_time": "2023-09-30T09:53:59.102148",
     "exception": false,
     "start_time": "2023-09-30T09:53:59.075559",
     "status": "completed"
    },
    "tags": []
   },
   "outputs": [
    {
     "data": {
      "text/plain": [
       "False"
      ]
     },
     "execution_count": 8,
     "metadata": {},
     "output_type": "execute_result"
    }
   ],
   "source": [
    "# Menampilkan jika ada data yang duplikat\n",
    "x_comp.duplicated().any()"
   ]
  },
  {
   "cell_type": "code",
   "execution_count": 9,
   "id": "3dd27f58",
   "metadata": {
    "execution": {
     "iopub.execute_input": "2023-09-30T09:53:59.130698Z",
     "iopub.status.busy": "2023-09-30T09:53:59.130302Z",
     "iopub.status.idle": "2023-09-30T09:53:59.137407Z",
     "shell.execute_reply": "2023-09-30T09:53:59.136255Z"
    },
    "papermill": {
     "duration": 0.023562,
     "end_time": "2023-09-30T09:53:59.139277",
     "exception": false,
     "start_time": "2023-09-30T09:53:59.115715",
     "status": "completed"
    },
    "tags": []
   },
   "outputs": [
    {
     "name": "stdout",
     "output_type": "stream",
     "text": [
      "species=  ['Human', 'Werewolf', 'Half Giant']\n",
      "Blood Status=  ['Pure Blood', 'Half Blood', 'Muggle']\n",
      "Best Hand=  ['Left', 'Right']\n",
      "House=  ['Slytherin', 'Gryffindor', 'Hufflepuff', 'Ravenclaw']\n"
     ]
    }
   ],
   "source": [
    "#  Cek variasi value fitur tipe kategorikal (species, blood status, best hand, house)\n",
    "nilai_unik_species = x_comp['Species'].drop_duplicates()\n",
    "nilai_unik_blood = x_comp['Blood Status'].drop_duplicates()\n",
    "nilai_unik_hand = x_comp['Best Hand'].drop_duplicates()\n",
    "nilai_unik_house = x_comp['House'].drop_duplicates()\n",
    "\n",
    "print(\"species= \", nilai_unik_species.values.tolist())\n",
    "print(\"Blood Status= \", nilai_unik_blood.values.tolist())\n",
    "print(\"Best Hand= \", nilai_unik_hand.values.tolist())\n",
    "print(\"House= \", nilai_unik_house.values.tolist())"
   ]
  },
  {
   "cell_type": "code",
   "execution_count": 10,
   "id": "15706ca4",
   "metadata": {
    "execution": {
     "iopub.execute_input": "2023-09-30T09:53:59.167971Z",
     "iopub.status.busy": "2023-09-30T09:53:59.167606Z",
     "iopub.status.idle": "2023-09-30T09:53:59.182450Z",
     "shell.execute_reply": "2023-09-30T09:53:59.181263Z"
    },
    "papermill": {
     "duration": 0.03117,
     "end_time": "2023-09-30T09:53:59.184552",
     "exception": false,
     "start_time": "2023-09-30T09:53:59.153382",
     "status": "completed"
    },
    "tags": []
   },
   "outputs": [
    {
     "name": "stdout",
     "output_type": "stream",
     "text": [
      "<class 'pandas.core.frame.DataFrame'>\n",
      "RangeIndex: 750 entries, 0 to 749\n",
      "Data columns (total 20 columns):\n",
      " #   Column                         Non-Null Count  Dtype  \n",
      "---  ------                         --------------  -----  \n",
      " 0   First Name                     750 non-null    object \n",
      " 1   Last Name                      750 non-null    object \n",
      " 2   Birthday                       750 non-null    object \n",
      " 3   Species                        750 non-null    int64  \n",
      " 4   Blood Status                   750 non-null    int64  \n",
      " 5   Best Hand                      750 non-null    int64  \n",
      " 6   Arithmancy                     740 non-null    float64\n",
      " 7   Astronomy                      747 non-null    float64\n",
      " 8   Herbology                      741 non-null    float64\n",
      " 9   Defense Against the Dark Arts  740 non-null    float64\n",
      " 10  Divination                     747 non-null    float64\n",
      " 11  Muggle Studies                 748 non-null    float64\n",
      " 12  Ancient Runes                  746 non-null    float64\n",
      " 13  History of Magic               746 non-null    float64\n",
      " 14  Transfiguration                741 non-null    float64\n",
      " 15  Potions                        744 non-null    float64\n",
      " 16  Care of Magical Creatures      748 non-null    float64\n",
      " 17  Charms                         743 non-null    float64\n",
      " 18  Flying                         750 non-null    float64\n",
      " 19  House                          750 non-null    object \n",
      "dtypes: float64(13), int64(3), object(4)\n",
      "memory usage: 117.3+ KB\n"
     ]
    }
   ],
   "source": [
    "# Substitusi value domain kategorikal ke numerikal\n",
    "x_comp['Species'] = x_comp['Species'].replace({'Human':1,'Werewolf':2,'Half Giant':3})\n",
    "x_comp['Blood Status'] = x_comp['Blood Status'].replace({'Pure Blood':1, 'Half Blood':2, 'Muggle':3})\n",
    "x_comp['Best Hand'] = x_comp['Best Hand'].replace({'Left':1, 'Right':2})\n",
    "x_comp.info()"
   ]
  },
  {
   "cell_type": "code",
   "execution_count": 11,
   "id": "7c418ab9",
   "metadata": {
    "execution": {
     "iopub.execute_input": "2023-09-30T09:53:59.212715Z",
     "iopub.status.busy": "2023-09-30T09:53:59.212328Z",
     "iopub.status.idle": "2023-09-30T09:53:59.220040Z",
     "shell.execute_reply": "2023-09-30T09:53:59.218793Z"
    },
    "papermill": {
     "duration": 0.023948,
     "end_time": "2023-09-30T09:53:59.221966",
     "exception": false,
     "start_time": "2023-09-30T09:53:59.198018",
     "status": "completed"
    },
    "tags": []
   },
   "outputs": [],
   "source": [
    "# convert target ke int untuk viz heatmap dan slicing kolom numerikal fitur saja\n",
    "x_comp_heat = x_comp\n",
    "x_comp_heat['House'] = x_comp['House'].replace({'Slytherin':1, 'Gryffindor':2,'Hufflepuff':3,'Ravenclaw':4})\n",
    "\n",
    "x_comp_heat = x_comp_heat.iloc[:,3:20]"
   ]
  },
  {
   "cell_type": "markdown",
   "id": "8baa72d7",
   "metadata": {
    "papermill": {
     "duration": 0.01291,
     "end_time": "2023-09-30T09:53:59.248227",
     "exception": false,
     "start_time": "2023-09-30T09:53:59.235317",
     "status": "completed"
    },
    "tags": []
   },
   "source": [
    "### Visualization\n",
    "Berikan contoh minimal 3 (tiga) visualisasi hasil eksplorasi dataset dan berikan penjelasan singkat untuk setiap visualisasi."
   ]
  },
  {
   "cell_type": "code",
   "execution_count": 12,
   "id": "019697db",
   "metadata": {
    "execution": {
     "iopub.execute_input": "2023-09-30T09:53:59.276711Z",
     "iopub.status.busy": "2023-09-30T09:53:59.276080Z",
     "iopub.status.idle": "2023-09-30T09:54:00.229418Z",
     "shell.execute_reply": "2023-09-30T09:54:00.228389Z"
    },
    "papermill": {
     "duration": 0.970751,
     "end_time": "2023-09-30T09:54:00.232635",
     "exception": false,
     "start_time": "2023-09-30T09:53:59.261884",
     "status": "completed"
    },
    "tags": []
   },
   "outputs": [
    {
     "data": {
      "image/png": "[encoded data removed]",
      "text/plain": [
       "<Figure size 1000x700 with 2 Axes>"
      ]
     },
     "metadata": {},
     "output_type": "display_data"
    }
   ],
   "source": [
    "# Visualisasi 1: Melihat korelasi setiap variabel\n",
    "plt.figure(figsize=(10, 7))\n",
    "sns.heatmap(round(x_comp_heat.corr(),2), annot = True, cmap=\"BuPu\")\n",
    "plt.show()"
   ]
  },
  {
   "cell_type": "markdown",
   "id": "707b8056",
   "metadata": {
    "papermill": {
     "duration": 0.01618,
     "end_time": "2023-09-30T09:54:00.265604",
     "exception": false,
     "start_time": "2023-09-30T09:54:00.249424",
     "status": "completed"
    },
    "tags": []
   },
   "source": [
    "**Interpretasi:** Heatmap dari nilai korelasi antar variabel menunjukkan Blood Status merupakan fitur yang memberikan nilai korelasi paling tinggi diantara variabel independent lainnya."
   ]
  },
  {
   "cell_type": "code",
   "execution_count": 13,
   "id": "a9ef7727",
   "metadata": {
    "execution": {
     "iopub.execute_input": "2023-09-30T09:54:00.299918Z",
     "iopub.status.busy": "2023-09-30T09:54:00.299550Z",
     "iopub.status.idle": "2023-09-30T09:54:00.473182Z",
     "shell.execute_reply": "2023-09-30T09:54:00.472113Z"
    },
    "papermill": {
     "duration": 0.193179,
     "end_time": "2023-09-30T09:54:00.475255",
     "exception": false,
     "start_time": "2023-09-30T09:54:00.282076",
     "status": "completed"
    },
    "tags": []
   },
   "outputs": [
    {
     "data": {
      "image/png": "[encoded data removed]",
      "text/plain": [
       "<Figure size 500x200 with 1 Axes>"
      ]
     },
     "metadata": {},
     "output_type": "display_data"
    }
   ],
   "source": [
    "# Visualisasi 2: Membuat boxplot untuk fitur numerikal ('Arithmancy')\n",
    "plt.figure(figsize=(5, 2))\n",
    "sns.boxplot(x=x_comp['Arithmancy'])\n",
    "plt.title('Outlier Fitur Arithmancy')\n",
    "plt.show()"
   ]
  },
  {
   "cell_type": "markdown",
   "id": "fd7e59ed",
   "metadata": {
    "papermill": {
     "duration": 0.016622,
     "end_time": "2023-09-30T09:54:00.509272",
     "exception": false,
     "start_time": "2023-09-30T09:54:00.492650",
     "status": "completed"
    },
    "tags": []
   },
   "source": [
    "**Interpretasi:** Untuk fitur arithmancy terlihat tidak ada outliers."
   ]
  },
  {
   "cell_type": "code",
   "execution_count": 14,
   "id": "2c49a2b5",
   "metadata": {
    "execution": {
     "iopub.execute_input": "2023-09-30T09:54:00.544383Z",
     "iopub.status.busy": "2023-09-30T09:54:00.544038Z",
     "iopub.status.idle": "2023-09-30T09:54:00.722077Z",
     "shell.execute_reply": "2023-09-30T09:54:00.720985Z"
    },
    "papermill": {
     "duration": 0.198019,
     "end_time": "2023-09-30T09:54:00.724082",
     "exception": false,
     "start_time": "2023-09-30T09:54:00.526063",
     "status": "completed"
    },
    "tags": []
   },
   "outputs": [
    {
     "data": {
      "image/png": "[encoded data removed]",
      "text/plain": [
       "<Figure size 500x200 with 1 Axes>"
      ]
     },
     "metadata": {},
     "output_type": "display_data"
    }
   ],
   "source": [
    "# Visualisasi 2: Cek outlier fitur flying\n",
    "plt.figure(figsize=(5, 2))\n",
    "sns.boxplot(x=x_comp['Flying'])\n",
    "plt.title('Outlier Fitur Flying')\n",
    "plt.show()"
   ]
  },
  {
   "cell_type": "markdown",
   "id": "dbdb223f",
   "metadata": {
    "papermill": {
     "duration": 0.01701,
     "end_time": "2023-09-30T09:54:00.758467",
     "exception": false,
     "start_time": "2023-09-30T09:54:00.741457",
     "status": "completed"
    },
    "tags": []
   },
   "source": [
    "**Interpretasi**: Untuk fitur flying terlihat **ada outliers**. Dikarenakan fitur ini menggambarkan kemahiran murid dalam menggunakan sapu terbang (ability), diasumsikan outliers pada kasus ini sebagai nilai ekstrim mewakili kemahiran murid. Outliers pada kasus ini tidak dilihat sebagai kesalahan pengisian, sehingga dirasa tidak perlu dilakukan handling outliers berupa remove instances yang outliers."
   ]
  },
  {
   "cell_type": "code",
   "execution_count": 15,
   "id": "a3324907",
   "metadata": {
    "execution": {
     "iopub.execute_input": "2023-09-30T09:54:00.794613Z",
     "iopub.status.busy": "2023-09-30T09:54:00.794265Z",
     "iopub.status.idle": "2023-09-30T09:54:00.971134Z",
     "shell.execute_reply": "2023-09-30T09:54:00.969990Z"
    },
    "papermill": {
     "duration": 0.197665,
     "end_time": "2023-09-30T09:54:00.973293",
     "exception": false,
     "start_time": "2023-09-30T09:54:00.775628",
     "status": "completed"
    },
    "tags": []
   },
   "outputs": [
    {
     "data": {
      "image/png": "[encoded data removed]",
      "text/plain": [
       "<Figure size 500x200 with 1 Axes>"
      ]
     },
     "metadata": {},
     "output_type": "display_data"
    }
   ],
   "source": [
    "# Visualisasi 2: Outlier fitur Care of Magical Creatures\n",
    "plt.figure(figsize=(5, 2))\n",
    "sns.boxplot(x=x_comp['Care of Magical Creatures'])\n",
    "plt.title('Outlier Fitur Care of Magical Creatures')\n",
    "plt.show()"
   ]
  },
  {
   "cell_type": "markdown",
   "id": "b039d1c8",
   "metadata": {
    "papermill": {
     "duration": 0.016923,
     "end_time": "2023-09-30T09:54:01.007752",
     "exception": false,
     "start_time": "2023-09-30T09:54:00.990829",
     "status": "completed"
    },
    "tags": []
   },
   "source": [
    "**Interpretasi**: Untuk fitur Care of Magical Creatures terlihat **ada outliers**. Sama seperti fitur flying, fitur ini menggambarkan kemahiran murid dalam berkomunikasi dengan hewan gaib. Sehingga outliers dipandang sebagai nilai ekstrims kemahiran murid, tidak dipandang sebagai kesalahan yang tidak disengaja."
   ]
  },
  {
   "cell_type": "code",
   "execution_count": 16,
   "id": "1aedd56d",
   "metadata": {
    "execution": {
     "iopub.execute_input": "2023-09-30T09:54:01.044630Z",
     "iopub.status.busy": "2023-09-30T09:54:01.044250Z",
     "iopub.status.idle": "2023-09-30T09:54:01.334538Z",
     "shell.execute_reply": "2023-09-30T09:54:01.333781Z"
    },
    "papermill": {
     "duration": 0.310692,
     "end_time": "2023-09-30T09:54:01.336312",
     "exception": false,
     "start_time": "2023-09-30T09:54:01.025620",
     "status": "completed"
    },
    "tags": []
   },
   "outputs": [
    {
     "data": {
      "image/png": "[encoded data removed]",
      "text/plain": [
       "<Figure size 1000x400 with 1 Axes>"
      ]
     },
     "metadata": {},
     "output_type": "display_data"
    }
   ],
   "source": [
    "# Visualisasi 3: check value apa yang paling dominan dari fitur Blood Status untuk target house\n",
    "awal = x_latih.join(y_latih)\n",
    "count_data = awal.groupby(['Blood Status', 'House']).size().reset_index(name='Count')\n",
    "\n",
    "\n",
    "plt.figure(figsize=(10, 4))\n",
    "sns.barplot(data=count_data, x='House', y='Count', hue='Blood Status', palette='Paired')\n",
    "plt.xlabel('House')\n",
    "plt.ylabel('Count')\n",
    "plt.title('Blood Status vs House')\n",
    "plt.legend(title='Best Hand', loc='upper left')\n",
    "plt.show()"
   ]
  },
  {
   "cell_type": "markdown",
   "id": "85ff5882",
   "metadata": {
    "papermill": {
     "duration": 0.017693,
     "end_time": "2023-09-30T09:54:01.372037",
     "exception": false,
     "start_time": "2023-09-30T09:54:01.354344",
     "status": "completed"
    },
    "tags": []
   },
   "source": [
    "**Interpretasi:** Grouped bar chart diatas mengindikasikan murid dengan blood status pure blood merupakan golongan yang paling banyak mendominasi di setiap house. "
   ]
  },
  {
   "cell_type": "markdown",
   "id": "95d2bac8",
   "metadata": {
    "papermill": {
     "duration": 0.018018,
     "end_time": "2023-09-30T09:54:01.407861",
     "exception": false,
     "start_time": "2023-09-30T09:54:01.389843",
     "status": "completed"
    },
    "tags": []
   },
   "source": [
    "## Data Preprocessing\n",
    "Tahap ini dilakukan untuk mempersiapkan data sebelum nantinya menjadi input ke dalam model. Beberapa hal yang dapat dilakukan:\n",
    "- Handle missing / nan values\n",
    "- Handle categorical data\n",
    "- Handle imbalance data\n",
    "- Feature selection\n",
    "- dst."
   ]
  },
  {
   "cell_type": "code",
   "execution_count": 17,
   "id": "c6ffc96c",
   "metadata": {
    "execution": {
     "iopub.execute_input": "2023-09-30T09:54:01.445899Z",
     "iopub.status.busy": "2023-09-30T09:54:01.445322Z",
     "iopub.status.idle": "2023-09-30T09:54:01.460200Z",
     "shell.execute_reply": "2023-09-30T09:54:01.458823Z"
    },
    "papermill": {
     "duration": 0.036575,
     "end_time": "2023-09-30T09:54:01.462277",
     "exception": false,
     "start_time": "2023-09-30T09:54:01.425702",
     "status": "completed"
    },
    "tags": []
   },
   "outputs": [
    {
     "name": "stdout",
     "output_type": "stream",
     "text": [
      "Species                          0\n",
      "Blood Status                     0\n",
      "Best Hand                        0\n",
      "Arithmancy                       0\n",
      "Astronomy                        0\n",
      "Herbology                        0\n",
      "Defense Against the Dark Arts    0\n",
      "Divination                       0\n",
      "Muggle Studies                   0\n",
      "Ancient Runes                    0\n",
      "History of Magic                 0\n",
      "Transfiguration                  0\n",
      "Potions                          0\n",
      "Care of Magical Creatures        0\n",
      "Charms                           0\n",
      "Flying                           0\n",
      "House                            0\n",
      "dtype: int64\n"
     ]
    }
   ],
   "source": [
    "# Handling missing value dengan fill mean\n",
    "handel_1 = x_comp_heat.fillna(x_comp_heat.mean())\n",
    "check_null = pd.isnull(handel_1).sum()\n",
    "print(check_null)"
   ]
  },
  {
   "cell_type": "markdown",
   "id": "1026ccc8",
   "metadata": {
    "papermill": {
     "duration": 0.017457,
     "end_time": "2023-09-30T09:54:01.499494",
     "exception": false,
     "start_time": "2023-09-30T09:54:01.482037",
     "status": "completed"
    },
    "tags": []
   },
   "source": [
    "**Handling categorical data yakni mengganti values string pada fitur domain kategorikal menjadi values numerical (sudah dilakukan pada tahap sebelumnya untuk membuat heatmap nilai korelasi antar fitur).** "
   ]
  },
  {
   "cell_type": "code",
   "execution_count": 18,
   "id": "acc783cf",
   "metadata": {
    "execution": {
     "iopub.execute_input": "2023-09-30T09:54:01.536202Z",
     "iopub.status.busy": "2023-09-30T09:54:01.535817Z",
     "iopub.status.idle": "2023-09-30T09:54:01.544590Z",
     "shell.execute_reply": "2023-09-30T09:54:01.543664Z"
    },
    "papermill": {
     "duration": 0.029335,
     "end_time": "2023-09-30T09:54:01.546389",
     "exception": false,
     "start_time": "2023-09-30T09:54:01.517054",
     "status": "completed"
    },
    "tags": []
   },
   "outputs": [
    {
     "data": {
      "text/plain": [
       "House\n",
       "Hufflepuff    258\n",
       "Ravenclaw     208\n",
       "Gryffindor    161\n",
       "Slytherin     123\n",
       "Name: count, dtype: int64"
      ]
     },
     "execution_count": 18,
     "metadata": {},
     "output_type": "execute_result"
    }
   ],
   "source": [
    "# check imbalance data\n",
    "spare = x_latih.join(y_latih)\n",
    "spare['House'].value_counts()"
   ]
  },
  {
   "cell_type": "markdown",
   "id": "6181bbf5",
   "metadata": {
    "papermill": {
     "duration": 0.017954,
     "end_time": "2023-09-30T09:54:01.582281",
     "exception": false,
     "start_time": "2023-09-30T09:54:01.564327",
     "status": "completed"
    },
    "tags": []
   },
   "source": [
    "**Interpretasi:** kelas hufflepuff merupakan kelas yang paling mendominan dalam data latih, sehingga dilakukan handling imblanced berupa undersampling untuk kelas hufflepuff, ravenclaw, gryffindor. Semua kelas diambil sebanyak 123 instances."
   ]
  },
  {
   "cell_type": "code",
   "execution_count": 19,
   "id": "886ac1ef",
   "metadata": {
    "execution": {
     "iopub.execute_input": "2023-09-30T09:54:01.620466Z",
     "iopub.status.busy": "2023-09-30T09:54:01.619751Z",
     "iopub.status.idle": "2023-09-30T09:54:01.636290Z",
     "shell.execute_reply": "2023-09-30T09:54:01.634856Z"
    },
    "papermill": {
     "duration": 0.037759,
     "end_time": "2023-09-30T09:54:01.638297",
     "exception": false,
     "start_time": "2023-09-30T09:54:01.600538",
     "status": "completed"
    },
    "tags": []
   },
   "outputs": [
    {
     "name": "stdout",
     "output_type": "stream",
     "text": [
      "<class 'pandas.core.frame.DataFrame'>\n",
      "RangeIndex: 250 entries, 0 to 249\n",
      "Data columns (total 20 columns):\n",
      " #   Column                         Non-Null Count  Dtype  \n",
      "---  ------                         --------------  -----  \n",
      " 0   First Name                     250 non-null    object \n",
      " 1   Last Name                      250 non-null    object \n",
      " 2   Birthday                       250 non-null    object \n",
      " 3   Species                        250 non-null    int64  \n",
      " 4   Blood Status                   250 non-null    int64  \n",
      " 5   Best Hand                      250 non-null    int64  \n",
      " 6   Arithmancy                     250 non-null    float64\n",
      " 7   Astronomy                      250 non-null    float64\n",
      " 8   Herbology                      250 non-null    float64\n",
      " 9   Defense Against the Dark Arts  250 non-null    float64\n",
      " 10  Divination                     250 non-null    float64\n",
      " 11  Muggle Studies                 250 non-null    float64\n",
      " 12  Ancient Runes                  250 non-null    float64\n",
      " 13  History of Magic               250 non-null    float64\n",
      " 14  Transfiguration                250 non-null    float64\n",
      " 15  Potions                        250 non-null    float64\n",
      " 16  Care of Magical Creatures      250 non-null    float64\n",
      " 17  Charms                         250 non-null    float64\n",
      " 18  Flying                         250 non-null    float64\n",
      " 19  House                          250 non-null    object \n",
      "dtypes: float64(13), int64(3), object(4)\n",
      "memory usage: 39.2+ KB\n"
     ]
    }
   ],
   "source": [
    "# Data validasi preparasi (convert predicktor menjadi numerikal, target tetap object, nama ultah belum di drop)\n",
    "# Joinkan data\n",
    "df_val = x_val.join(y_val)\n",
    "\n",
    "# replace kategorikal dengan numerikal\n",
    "df_val['Species'] = df_val['Species'].replace({'Human':1,'Werewolf':2,'Half Giant':3})\n",
    "df_val['Blood Status'] = df_val['Blood Status'].replace({'Pure Blood':1, 'Half Blood':2, 'Muggle':3})\n",
    "df_val['Best Hand'] = df_val['Best Hand'].replace({'Left':1, 'Right':2})\n",
    "#df_val['House'] = df_val['House'].replace({'Slytherin':1, 'Gryffindor':2,'Hufflepuff':3,'Ravenclaw':4})\n",
    "df_val.info()"
   ]
  },
  {
   "cell_type": "code",
   "execution_count": 20,
   "id": "cae82a1e",
   "metadata": {
    "execution": {
     "iopub.execute_input": "2023-09-30T09:54:01.676542Z",
     "iopub.status.busy": "2023-09-30T09:54:01.675879Z",
     "iopub.status.idle": "2023-09-30T09:54:01.835289Z",
     "shell.execute_reply": "2023-09-30T09:54:01.834410Z"
    },
    "papermill": {
     "duration": 0.180906,
     "end_time": "2023-09-30T09:54:01.837530",
     "exception": false,
     "start_time": "2023-09-30T09:54:01.656624",
     "status": "completed"
    },
    "tags": []
   },
   "outputs": [],
   "source": [
    "from sklearn.model_selection import train_test_split\n",
    "from sklearn.preprocessing import StandardScaler\n",
    "from sklearn.decomposition import PCA\n",
    "from sklearn.svm import SVC\n",
    "from sklearn.metrics import accuracy_score"
   ]
  },
  {
   "cell_type": "code",
   "execution_count": 21,
   "id": "274931a6",
   "metadata": {
    "execution": {
     "iopub.execute_input": "2023-09-30T09:54:01.877029Z",
     "iopub.status.busy": "2023-09-30T09:54:01.876153Z",
     "iopub.status.idle": "2023-09-30T09:54:02.336445Z",
     "shell.execute_reply": "2023-09-30T09:54:02.335482Z"
    },
    "papermill": {
     "duration": 0.483583,
     "end_time": "2023-09-30T09:54:02.340216",
     "exception": false,
     "start_time": "2023-09-30T09:54:01.856633",
     "status": "completed"
    },
    "tags": []
   },
   "outputs": [
    {
     "data": {
      "image/png": "[encoded data removed]",
      "text/plain": [
       "<Figure size 800x600 with 1 Axes>"
      ]
     },
     "metadata": {},
     "output_type": "display_data"
    }
   ],
   "source": [
    "# Feature selection dengan cara reduksi dimensi\n",
    "\n",
    "# Splitting data\n",
    "X_train, X_test, y_train, y_test = handel_1.drop(['House'],axis=1), df_val.drop(['House','First Name', 'Last Name', 'Birthday'], axis=1), handel_1['House'], df_val['House']\n",
    "\n",
    "# Normalisasi\n",
    "scaler = StandardScaler()\n",
    "X_train = scaler.fit_transform(X_train)\n",
    "X_test = scaler.transform(X_test)\n",
    "\n",
    "# PCA\n",
    "pca = PCA(n_components=2)\n",
    "X_train_pca = pca.fit_transform(X_train)\n",
    "\n",
    "# Plot\n",
    "plt.figure(figsize=(8, 6))\n",
    "plt.scatter(X_train_pca[:, 0], X_train_pca[:, 1], c=y_train, cmap=plt.cm.Set1)\n",
    "plt.title('Plot PCA')\n",
    "plt.xlabel('Principal Component 1')\n",
    "plt.ylabel('Principal Component 2')\n",
    "plt.show()"
   ]
  },
  {
   "cell_type": "markdown",
   "id": "3f9570a0",
   "metadata": {
    "papermill": {
     "duration": 0.019456,
     "end_time": "2023-09-30T09:54:02.381843",
     "exception": false,
     "start_time": "2023-09-30T09:54:02.362387",
     "status": "completed"
    },
    "tags": []
   },
   "source": [
    "## Modeling\n"
   ]
  },
  {
   "cell_type": "markdown",
   "id": "eb6fa9d4",
   "metadata": {
    "papermill": {
     "duration": 0.019618,
     "end_time": "2023-09-30T09:54:02.421424",
     "exception": false,
     "start_time": "2023-09-30T09:54:02.401806",
     "status": "completed"
    },
    "tags": []
   },
   "source": [
    "### Decision Tree"
   ]
  },
  {
   "cell_type": "code",
   "execution_count": 22,
   "id": "a6f59fcf",
   "metadata": {
    "execution": {
     "iopub.execute_input": "2023-09-30T09:54:02.462490Z",
     "iopub.status.busy": "2023-09-30T09:54:02.462153Z",
     "iopub.status.idle": "2023-09-30T09:54:02.553698Z",
     "shell.execute_reply": "2023-09-30T09:54:02.552862Z"
    },
    "papermill": {
     "duration": 0.114594,
     "end_time": "2023-09-30T09:54:02.555798",
     "exception": false,
     "start_time": "2023-09-30T09:54:02.441204",
     "status": "completed"
    },
    "tags": []
   },
   "outputs": [],
   "source": [
    "import sklearn\n",
    "from sklearn.tree import DecisionTreeClassifier\n",
    "import sklearn.tree as tree\n",
    "from sklearn.metrics import classification_report\n",
    "from sklearn import metrics"
   ]
  },
  {
   "cell_type": "code",
   "execution_count": 23,
   "id": "672afa80",
   "metadata": {
    "execution": {
     "iopub.execute_input": "2023-09-30T09:54:02.598671Z",
     "iopub.status.busy": "2023-09-30T09:54:02.598146Z",
     "iopub.status.idle": "2023-09-30T09:54:02.604234Z",
     "shell.execute_reply": "2023-09-30T09:54:02.603285Z"
    },
    "papermill": {
     "duration": 0.02969,
     "end_time": "2023-09-30T09:54:02.606111",
     "exception": false,
     "start_time": "2023-09-30T09:54:02.576421",
     "status": "completed"
    },
    "tags": []
   },
   "outputs": [],
   "source": [
    "# tentukan mana yg prediktor dan target\n",
    "xlatih, xval, ylatih, yval = handel_1.drop(['House'],axis=1), df_val.drop(['House','First Name', 'Last Name', 'Birthday'], axis=1), handel_1['House'], df_val['House']"
   ]
  },
  {
   "cell_type": "code",
   "execution_count": 24,
   "id": "90a74cbd",
   "metadata": {
    "execution": {
     "iopub.execute_input": "2023-09-30T09:54:02.648014Z",
     "iopub.status.busy": "2023-09-30T09:54:02.647651Z",
     "iopub.status.idle": "2023-09-30T09:54:02.657811Z",
     "shell.execute_reply": "2023-09-30T09:54:02.657083Z"
    },
    "papermill": {
     "duration": 0.033407,
     "end_time": "2023-09-30T09:54:02.659576",
     "exception": false,
     "start_time": "2023-09-30T09:54:02.626169",
     "status": "completed"
    },
    "tags": []
   },
   "outputs": [],
   "source": [
    "# Normalisasi\n",
    "latih_norm = scaler.fit_transform(xlatih)\n",
    "val_norm = scaler.transform(xval)"
   ]
  },
  {
   "cell_type": "code",
   "execution_count": 25,
   "id": "b76bc324",
   "metadata": {
    "execution": {
     "iopub.execute_input": "2023-09-30T09:54:02.701670Z",
     "iopub.status.busy": "2023-09-30T09:54:02.701317Z",
     "iopub.status.idle": "2023-09-30T09:54:02.706532Z",
     "shell.execute_reply": "2023-09-30T09:54:02.705531Z"
    },
    "papermill": {
     "duration": 0.028987,
     "end_time": "2023-09-30T09:54:02.708792",
     "exception": false,
     "start_time": "2023-09-30T09:54:02.679805",
     "status": "completed"
    },
    "tags": []
   },
   "outputs": [
    {
     "name": "stdout",
     "output_type": "stream",
     "text": [
      "ukuran datalatih X: (750, 16)  & ukuran datalatih y: (750,)\n"
     ]
    }
   ],
   "source": [
    "print('ukuran datalatih X: {} '.format(xlatih.shape), '&','ukuran datalatih y: {}'.format(ylatih.shape))"
   ]
  },
  {
   "cell_type": "code",
   "execution_count": 26,
   "id": "f7ca6afc",
   "metadata": {
    "execution": {
     "iopub.execute_input": "2023-09-30T09:54:02.751014Z",
     "iopub.status.busy": "2023-09-30T09:54:02.750657Z",
     "iopub.status.idle": "2023-09-30T09:54:02.755117Z",
     "shell.execute_reply": "2023-09-30T09:54:02.754436Z"
    },
    "papermill": {
     "duration": 0.027865,
     "end_time": "2023-09-30T09:54:02.757275",
     "exception": false,
     "start_time": "2023-09-30T09:54:02.729410",
     "status": "completed"
    },
    "tags": []
   },
   "outputs": [
    {
     "name": "stdout",
     "output_type": "stream",
     "text": [
      "ukuran datalatih X: (250, 16)  & ukuran datalatih y: (250,)\n"
     ]
    }
   ],
   "source": [
    "print('ukuran datalatih X: {} '.format(xval.shape), '&','ukuran datalatih y: {}'.format(yval.shape))"
   ]
  },
  {
   "cell_type": "code",
   "execution_count": 27,
   "id": "d0941fac",
   "metadata": {
    "execution": {
     "iopub.execute_input": "2023-09-30T09:54:02.799545Z",
     "iopub.status.busy": "2023-09-30T09:54:02.799209Z",
     "iopub.status.idle": "2023-09-30T09:54:02.830442Z",
     "shell.execute_reply": "2023-09-30T09:54:02.829120Z"
    },
    "papermill": {
     "duration": 0.054789,
     "end_time": "2023-09-30T09:54:02.832362",
     "exception": false,
     "start_time": "2023-09-30T09:54:02.777573",
     "status": "completed"
    },
    "tags": []
   },
   "outputs": [
    {
     "name": "stdout",
     "output_type": "stream",
     "text": [
      "              precision    recall  f1-score   support\n",
      "\n",
      "  Gryffindor       0.98      0.96      0.97        48\n",
      "  Hufflepuff       0.78      0.67      0.72        79\n",
      "   Ravenclaw       0.61      0.69      0.64        70\n",
      "   Slytherin       0.71      0.75      0.73        53\n",
      "\n",
      "    accuracy                           0.75       250\n",
      "   macro avg       0.77      0.77      0.77       250\n",
      "weighted avg       0.76      0.75      0.75       250\n",
      "\n",
      "DecisionTrees's Accuracy Gini:  0.748\n"
     ]
    }
   ],
   "source": [
    "# Model 1 setting criterion menjadi gini index.\n",
    "# Model\n",
    "potterTree_Gini = DecisionTreeClassifier(criterion=\"gini\", max_depth =7)\n",
    "potterTree_Gini\n",
    "potterTree_Gini.fit(xlatih,y_latih)\n",
    "\n",
    "# Prediction\n",
    "predTree_Gini = potterTree_Gini.predict(xval)\n",
    "\n",
    "# Evaluasi\n",
    "print(classification_report(yval,predTree_Gini))\n",
    "print(\"DecisionTrees's Accuracy Gini: \", metrics.accuracy_score(yval, predTree_Gini))"
   ]
  },
  {
   "cell_type": "code",
   "execution_count": 28,
   "id": "551b1d16",
   "metadata": {
    "execution": {
     "iopub.execute_input": "2023-09-30T09:54:02.875405Z",
     "iopub.status.busy": "2023-09-30T09:54:02.875062Z",
     "iopub.status.idle": "2023-09-30T09:54:05.014109Z",
     "shell.execute_reply": "2023-09-30T09:54:05.013015Z"
    },
    "papermill": {
     "duration": 2.163328,
     "end_time": "2023-09-30T09:54:05.016440",
     "exception": false,
     "start_time": "2023-09-30T09:54:02.853112",
     "status": "completed"
    },
    "tags": []
   },
   "outputs": [
    {
     "data": {
      "image/png": "[encoded data removed]",
      "text/plain": [
       "<Figure size 640x480 with 1 Axes>"
      ]
     },
     "metadata": {},
     "output_type": "display_data"
    },
    {
     "data": {
      "text/plain": [
       "<Figure size 1500x600 with 0 Axes>"
      ]
     },
     "metadata": {},
     "output_type": "display_data"
    }
   ],
   "source": [
    "tree.plot_tree(potterTree_Gini)\n",
    "plt.figure(figsize=(15, 6))\n",
    "plt.show()"
   ]
  },
  {
   "cell_type": "code",
   "execution_count": 29,
   "id": "cb439876",
   "metadata": {
    "execution": {
     "iopub.execute_input": "2023-09-30T09:54:05.061156Z",
     "iopub.status.busy": "2023-09-30T09:54:05.060520Z",
     "iopub.status.idle": "2023-09-30T09:54:05.097368Z",
     "shell.execute_reply": "2023-09-30T09:54:05.096161Z"
    },
    "papermill": {
     "duration": 0.061629,
     "end_time": "2023-09-30T09:54:05.099363",
     "exception": false,
     "start_time": "2023-09-30T09:54:05.037734",
     "status": "completed"
    },
    "tags": []
   },
   "outputs": [
    {
     "name": "stdout",
     "output_type": "stream",
     "text": [
      "              precision    recall  f1-score   support\n",
      "\n",
      "  Gryffindor       0.98      0.98      0.98        48\n",
      "  Hufflepuff       0.69      0.82      0.75        79\n",
      "   Ravenclaw       0.73      0.59      0.65        70\n",
      "   Slytherin       0.77      0.75      0.76        53\n",
      "\n",
      "    accuracy                           0.77       250\n",
      "   macro avg       0.79      0.79      0.79       250\n",
      "weighted avg       0.77      0.77      0.77       250\n",
      "\n",
      "DecisionTrees's Accuracy Entro:  0.772\n"
     ]
    }
   ],
   "source": [
    "#  Model 2 setting criterion menjadi gini entropy\n",
    "# Model\n",
    "potterTree_Entro = DecisionTreeClassifier(criterion=\"entropy\", max_depth = 10)\n",
    "potterTree_Entro\n",
    "potterTree_Entro.fit(xlatih,y_latih)\n",
    "\n",
    "# Prediction\n",
    "predTree_Entro = potterTree_Entro.predict(xval)\n",
    "\n",
    "# Evaluasi\n",
    "print(classification_report(yval,predTree_Entro))\n",
    "print(\"DecisionTrees's Accuracy Entro: \", metrics.accuracy_score(yval, predTree_Entro))"
   ]
  },
  {
   "cell_type": "code",
   "execution_count": 30,
   "id": "f45cccf9",
   "metadata": {
    "execution": {
     "iopub.execute_input": "2023-09-30T09:54:05.144444Z",
     "iopub.status.busy": "2023-09-30T09:54:05.143356Z",
     "iopub.status.idle": "2023-09-30T09:54:08.805408Z",
     "shell.execute_reply": "2023-09-30T09:54:08.804407Z"
    },
    "papermill": {
     "duration": 3.686338,
     "end_time": "2023-09-30T09:54:08.807182",
     "exception": false,
     "start_time": "2023-09-30T09:54:05.120844",
     "status": "completed"
    },
    "tags": []
   },
   "outputs": [
    {
     "data": {
      "image/png": "[encoded data removed]",
      "text/plain": [
       "<Figure size 640x480 with 1 Axes>"
      ]
     },
     "metadata": {},
     "output_type": "display_data"
    },
    {
     "data": {
      "text/plain": [
       "<Figure size 1500x600 with 0 Axes>"
      ]
     },
     "metadata": {},
     "output_type": "display_data"
    }
   ],
   "source": [
    "tree.plot_tree(potterTree_Entro)\n",
    "plt.figure(figsize=(15, 6))\n",
    "plt.show()"
   ]
  },
  {
   "cell_type": "markdown",
   "id": "367a7605",
   "metadata": {
    "papermill": {
     "duration": 0.023123,
     "end_time": "2023-09-30T09:54:08.853077",
     "exception": false,
     "start_time": "2023-09-30T09:54:08.829954",
     "status": "completed"
    },
    "tags": []
   },
   "source": [
    "**Analisa:**"
   ]
  },
  {
   "cell_type": "markdown",
   "id": "c4e4f42c",
   "metadata": {
    "papermill": {
     "duration": 0.022203,
     "end_time": "2023-09-30T09:54:08.898122",
     "exception": false,
     "start_time": "2023-09-30T09:54:08.875919",
     "status": "completed"
    },
    "tags": []
   },
   "source": [
    "### Logistic Regression"
   ]
  },
  {
   "cell_type": "code",
   "execution_count": 31,
   "id": "486d62a8",
   "metadata": {
    "execution": {
     "iopub.execute_input": "2023-09-30T09:54:08.945205Z",
     "iopub.status.busy": "2023-09-30T09:54:08.944806Z",
     "iopub.status.idle": "2023-09-30T09:54:08.949547Z",
     "shell.execute_reply": "2023-09-30T09:54:08.948567Z"
    },
    "papermill": {
     "duration": 0.030488,
     "end_time": "2023-09-30T09:54:08.951374",
     "exception": false,
     "start_time": "2023-09-30T09:54:08.920886",
     "status": "completed"
    },
    "tags": []
   },
   "outputs": [],
   "source": [
    "from sklearn.linear_model import LogisticRegression\n",
    "from sklearn.metrics import confusion_matrix\n",
    "from sklearn.metrics import log_loss\n",
    "from sklearn.model_selection import GridSearchCV"
   ]
  },
  {
   "cell_type": "code",
   "execution_count": 32,
   "id": "1dc90095",
   "metadata": {
    "execution": {
     "iopub.execute_input": "2023-09-30T09:54:09.000034Z",
     "iopub.status.busy": "2023-09-30T09:54:08.999636Z",
     "iopub.status.idle": "2023-09-30T09:54:09.037447Z",
     "shell.execute_reply": "2023-09-30T09:54:09.036385Z"
    },
    "papermill": {
     "duration": 0.06477,
     "end_time": "2023-09-30T09:54:09.039742",
     "exception": false,
     "start_time": "2023-09-30T09:54:08.974972",
     "status": "completed"
    },
    "tags": []
   },
   "outputs": [
    {
     "name": "stdout",
     "output_type": "stream",
     "text": [
      "              precision    recall  f1-score   support\n",
      "\n",
      "           1       0.73      0.70      0.71        53\n",
      "           2       0.90      0.98      0.94        48\n",
      "           3       0.60      0.70      0.65        79\n",
      "           4       0.62      0.50      0.56        70\n",
      "\n",
      "    accuracy                           0.70       250\n",
      "   macro avg       0.71      0.72      0.71       250\n",
      "weighted avg       0.69      0.70      0.69       250\n",
      "\n",
      "log loss tanpa tunning:  0.6603129537615097\n"
     ]
    }
   ],
   "source": [
    "# Model 1 tidak dilakukan tunning (model default)\n",
    "LR = LogisticRegression(solver='lbfgs', max_iter=1000).fit(latih_norm ,ylatih)\n",
    "LR\n",
    "\n",
    "# prediksi menggunakan xvalidasi\n",
    "yhat = LR.predict(val_norm)\n",
    "yhat\n",
    "\n",
    "# Prediksi probabilitas kelas target\n",
    "yhat_prob = LR.predict_proba(val_norm)\n",
    "yhat_prob\n",
    "\n",
    "# Evaluasi\n",
    "yval_lr =  y_val['House'].replace({'Slytherin':1, 'Gryffindor':2,'Hufflepuff':3,'Ravenclaw':4})\n",
    "print (classification_report(yval_lr, yhat))\n",
    "\n",
    "print(\"log loss tanpa tunning: \", log_loss(yval_lr, yhat_prob))"
   ]
  },
  {
   "cell_type": "code",
   "execution_count": 33,
   "id": "162d4cb5",
   "metadata": {
    "execution": {
     "iopub.execute_input": "2023-09-30T09:54:09.087644Z",
     "iopub.status.busy": "2023-09-30T09:54:09.086888Z",
     "iopub.status.idle": "2023-09-30T09:54:26.965070Z",
     "shell.execute_reply": "2023-09-30T09:54:26.964356Z"
    },
    "papermill": {
     "duration": 17.904445,
     "end_time": "2023-09-30T09:54:26.966822",
     "exception": false,
     "start_time": "2023-09-30T09:54:09.062377",
     "status": "completed"
    },
    "tags": []
   },
   "outputs": [
    {
     "name": "stdout",
     "output_type": "stream",
     "text": [
      "Parameter terbaik: {'C': 0.1, 'max_iter': 100, 'penalty': 'l1', 'solver': 'saga'}\n",
      "Skor terbaik: 0.7453333333333333\n",
      "              precision    recall  f1-score   support\n",
      "\n",
      "           1       0.78      0.68      0.73        53\n",
      "           2       0.98      0.98      0.98        48\n",
      "           3       0.61      0.82      0.70        79\n",
      "           4       0.66      0.47      0.55        70\n",
      "\n",
      "    accuracy                           0.72       250\n",
      "   macro avg       0.76      0.74      0.74       250\n",
      "weighted avg       0.73      0.72      0.72       250\n",
      "\n",
      "log loss dengan tunning gridsearch cv:  0.6612074779875953\n"
     ]
    }
   ],
   "source": [
    "# Model 2 dilakukan dengan tunning metode gridsearch cv\n",
    "\n",
    "import warnings\n",
    "# Mengabaikan semua peringatan\n",
    "warnings.filterwarnings(\"ignore\")\n",
    "\n",
    "# Buat objek model Regresi Logistik\n",
    "LogR = LogisticRegression()\n",
    "\n",
    "# parameter grid search dan nilai-nilai yang ingin diuji\n",
    "param_grid = {\n",
    "    'solver': ['newton-cg', 'lbfgs', 'liblinear', 'sag', 'saga'],\n",
    "    'max_iter': [100, 500, 1000],\n",
    "    'C': [0.01, 0.1, 1, 10],\n",
    "    'penalty': [None, 'l1', 'l2', 'elasticnet']\n",
    "}\n",
    "\n",
    "# Buat objek GridSearchCV\n",
    "grid_search = GridSearchCV(estimator=LogR, param_grid=param_grid, cv=5, scoring='accuracy')\n",
    "\n",
    "# grid search pada data latih\n",
    "grid_search.fit(latih_norm, ylatih)\n",
    "\n",
    "# Tampilkan parameter terbaik dan skor terbaik\n",
    "print(\"Parameter terbaik:\", grid_search.best_params_)\n",
    "print(\"Skor terbaik:\", grid_search.best_score_)\n",
    "\n",
    "# Model dengan parameter terbaik\n",
    "best_LR = grid_search.best_estimator_\n",
    "\n",
    "# Gunakan model terbaik untuk prediksi\n",
    "yhat_grd =best_LR.predict(val_norm)\n",
    "yhat_grd\n",
    "yhat_prob_grd = best_LR.predict_proba(val_norm)\n",
    "\n",
    "# Evaluasi\n",
    "print (classification_report(yval_lr, yhat_grd))\n",
    "print(\"log loss dengan tunning gridsearch cv: \", log_loss(yval_lr, yhat_prob_grd))\n"
   ]
  },
  {
   "cell_type": "markdown",
   "id": "11dbb335",
   "metadata": {
    "papermill": {
     "duration": 0.024175,
     "end_time": "2023-09-30T09:54:27.013486",
     "exception": false,
     "start_time": "2023-09-30T09:54:26.989311",
     "status": "completed"
    },
    "tags": []
   },
   "source": [
    "**Analisa:**"
   ]
  },
  {
   "cell_type": "markdown",
   "id": "8f448973",
   "metadata": {
    "papermill": {
     "duration": 0.02206,
     "end_time": "2023-09-30T09:54:27.058016",
     "exception": false,
     "start_time": "2023-09-30T09:54:27.035956",
     "status": "completed"
    },
    "tags": []
   },
   "source": [
    "### SVM (Support Vector Machine)"
   ]
  },
  {
   "cell_type": "code",
   "execution_count": 34,
   "id": "650baaaa",
   "metadata": {
    "execution": {
     "iopub.execute_input": "2023-09-30T09:54:27.104816Z",
     "iopub.status.busy": "2023-09-30T09:54:27.104435Z",
     "iopub.status.idle": "2023-09-30T09:54:27.154238Z",
     "shell.execute_reply": "2023-09-30T09:54:27.152998Z"
    },
    "papermill": {
     "duration": 0.075826,
     "end_time": "2023-09-30T09:54:27.156374",
     "exception": false,
     "start_time": "2023-09-30T09:54:27.080548",
     "status": "completed"
    },
    "tags": []
   },
   "outputs": [
    {
     "name": "stdout",
     "output_type": "stream",
     "text": [
      "              precision    recall  f1-score   support\n",
      "\n",
      "           1       0.82      0.53      0.64        53\n",
      "           2       0.98      0.96      0.97        48\n",
      "           3       0.62      0.92      0.74        79\n",
      "           4       0.67      0.50      0.57        70\n",
      "\n",
      "    accuracy                           0.73       250\n",
      "   macro avg       0.77      0.73      0.73       250\n",
      "weighted avg       0.75      0.73      0.72       250\n",
      "\n"
     ]
    }
   ],
   "source": [
    "# Model 1 SVM tanpa tunning\n",
    "from sklearn import svm\n",
    "clf = svm.SVC(kernel='rbf')\n",
    "clf.fit(latih_norm, ylatih) \n",
    "yhat_svm = clf.predict(val_norm)\n",
    "\n",
    "# Evaluasi\n",
    "print (classification_report(yval_lr, yhat_svm))"
   ]
  },
  {
   "cell_type": "code",
   "execution_count": 35,
   "id": "185ced75",
   "metadata": {
    "execution": {
     "iopub.execute_input": "2023-09-30T09:54:27.203095Z",
     "iopub.status.busy": "2023-09-30T09:54:27.202692Z",
     "iopub.status.idle": "2023-09-30T09:54:45.031686Z",
     "shell.execute_reply": "2023-09-30T09:54:45.030966Z"
    },
    "papermill": {
     "duration": 17.854929,
     "end_time": "2023-09-30T09:54:45.033819",
     "exception": false,
     "start_time": "2023-09-30T09:54:27.178890",
     "status": "completed"
    },
    "tags": []
   },
   "outputs": [
    {
     "name": "stdout",
     "output_type": "stream",
     "text": [
      "Parameter terbaik: {'C': 0.1, 'max_iter': 100, 'penalty': 'l1', 'solver': 'saga'}\n",
      "Skor terbaik: 0.7453333333333333\n",
      "              precision    recall  f1-score   support\n",
      "\n",
      "           1       0.78      0.68      0.73        53\n",
      "           2       0.98      0.98      0.98        48\n",
      "           3       0.61      0.82      0.70        79\n",
      "           4       0.66      0.47      0.55        70\n",
      "\n",
      "    accuracy                           0.72       250\n",
      "   macro avg       0.76      0.74      0.74       250\n",
      "weighted avg       0.73      0.72      0.72       250\n",
      "\n"
     ]
    }
   ],
   "source": [
    "# Model 2 SVM dengan tunning\n",
    "param_grid_svm = {\n",
    "    'C': [0.1, 1, 10],\n",
    "    'kernel': ['linear', 'poly', 'rbf', 'sigmoid'],\n",
    "    'gamma': ['scale', 'auto'] + [0.001, 0.01, 0.1, 1, 10],\n",
    "}\n",
    "\n",
    "svm = SVC()\n",
    "grid_search_svm = GridSearchCV(estimator=svm, param_grid=param_grid_svm, cv=5, scoring='accuracy')\n",
    "grid_search.fit(latih_norm, ylatih)\n",
    "print(\"Parameter terbaik:\", grid_search.best_params_)\n",
    "print(\"Skor terbaik:\", grid_search.best_score_)\n",
    "\n",
    "best_svm = grid_search.best_estimator_\n",
    "yhat_svm = best_svm.predict(val_norm)\n",
    "\n",
    "# Evaluasi\n",
    "print (classification_report(yval_lr, yhat_svm))"
   ]
  },
  {
   "cell_type": "markdown",
   "id": "6273c5e8",
   "metadata": {
    "papermill": {
     "duration": 0.022,
     "end_time": "2023-09-30T09:54:45.078461",
     "exception": false,
     "start_time": "2023-09-30T09:54:45.056461",
     "status": "completed"
    },
    "tags": []
   },
   "source": [
    "**Analisa:**"
   ]
  },
  {
   "cell_type": "markdown",
   "id": "48c21c6f",
   "metadata": {
    "papermill": {
     "duration": 0.021924,
     "end_time": "2023-09-30T09:54:45.122972",
     "exception": false,
     "start_time": "2023-09-30T09:54:45.101048",
     "status": "completed"
    },
    "tags": []
   },
   "source": [
    "### Random Forest"
   ]
  },
  {
   "cell_type": "code",
   "execution_count": 36,
   "id": "e1974b85",
   "metadata": {
    "execution": {
     "iopub.execute_input": "2023-09-30T09:54:45.170320Z",
     "iopub.status.busy": "2023-09-30T09:54:45.169972Z",
     "iopub.status.idle": "2023-09-30T09:54:45.595320Z",
     "shell.execute_reply": "2023-09-30T09:54:45.594121Z"
    },
    "papermill": {
     "duration": 0.452,
     "end_time": "2023-09-30T09:54:45.597630",
     "exception": false,
     "start_time": "2023-09-30T09:54:45.145630",
     "status": "completed"
    },
    "tags": []
   },
   "outputs": [
    {
     "name": "stdout",
     "output_type": "stream",
     "text": [
      "              precision    recall  f1-score   support\n",
      "\n",
      "           1       0.85      0.74      0.79        53\n",
      "           2       0.98      1.00      0.99        48\n",
      "           3       0.70      0.87      0.78        79\n",
      "           4       0.73      0.59      0.65        70\n",
      "\n",
      "    accuracy                           0.79       250\n",
      "   macro avg       0.81      0.80      0.80       250\n",
      "weighted avg       0.79      0.79      0.78       250\n",
      "\n"
     ]
    }
   ],
   "source": [
    "# Model 1 tanpa tunning\n",
    "from sklearn.ensemble import RandomForestClassifier\n",
    "# Membuat model Random Forest\n",
    "rf_classifier = RandomForestClassifier(n_estimators=100, random_state=42)\n",
    "\n",
    "# Melatih model pada data pelatihan\n",
    "rf_classifier.fit(latih_norm, ylatih)\n",
    "\n",
    "# Melakukan prediksi pada data uji\n",
    "y_pred_rf = rf_classifier.predict(val_norm)\n",
    "\n",
    "# Evaluasi\n",
    "print (classification_report(yval_lr, y_pred_rf ))"
   ]
  },
  {
   "cell_type": "code",
   "execution_count": 37,
   "id": "3fed34cd",
   "metadata": {
    "execution": {
     "iopub.execute_input": "2023-09-30T09:54:45.645132Z",
     "iopub.status.busy": "2023-09-30T09:54:45.644759Z",
     "iopub.status.idle": "2023-09-30T10:00:26.671685Z",
     "shell.execute_reply": "2023-09-30T10:00:26.670860Z"
    },
    "papermill": {
     "duration": 341.07532,
     "end_time": "2023-09-30T10:00:26.695981",
     "exception": false,
     "start_time": "2023-09-30T09:54:45.620661",
     "status": "completed"
    },
    "tags": []
   },
   "outputs": [
    {
     "name": "stdout",
     "output_type": "stream",
     "text": [
      "              precision    recall  f1-score   support\n",
      "\n",
      "           1       0.86      0.70      0.77        53\n",
      "           2       0.98      1.00      0.99        48\n",
      "           3       0.67      0.87      0.76        79\n",
      "           4       0.71      0.56      0.62        70\n",
      "\n",
      "    accuracy                           0.77       250\n",
      "   macro avg       0.80      0.78      0.79       250\n",
      "weighted avg       0.78      0.77      0.77       250\n",
      "\n"
     ]
    }
   ],
   "source": [
    "# Model 2 dengan tunning gridsearch\n",
    "rf_classifier = RandomForestClassifier(random_state=42)\n",
    "\n",
    "# Menentukan daftar parameter yang akan diuji dalam Grid Search\n",
    "param_grid_rf = {\n",
    "    'n_estimators': [50, 100, 200],\n",
    "    'max_depth': [None, 10, 20, 30],\n",
    "    'min_samples_split': [2, 5, 10],\n",
    "    'min_samples_leaf': [1, 2, 4],\n",
    "    'bootstrap': [True, False]\n",
    "}\n",
    "\n",
    "# Membuat objek GridSearchCV\n",
    "grid_search = GridSearchCV(estimator=rf_classifier, param_grid=param_grid_rf, cv=5, scoring='accuracy')\n",
    "\n",
    "# Melatih model dengan Grid Search\n",
    "grid_search.fit(latih_norm, ylatih)\n",
    "\n",
    "# Mendapatkan model terbaik dari Grid Search\n",
    "best_rf = grid_search.best_estimator_\n",
    "\n",
    "# Melakukan prediksi pada data uji menggunakan model terbaik\n",
    "y_pred_rf_terbaik = best_rf.predict(val_norm)\n",
    "\n",
    "# Evaluasi\n",
    "print (classification_report(yval_lr, y_pred_rf_terbaik ))"
   ]
  },
  {
   "cell_type": "markdown",
   "id": "7b24db8e",
   "metadata": {
    "papermill": {
     "duration": 0.022413,
     "end_time": "2023-09-30T10:00:26.741055",
     "exception": false,
     "start_time": "2023-09-30T10:00:26.718642",
     "status": "completed"
    },
    "tags": []
   },
   "source": [
    "**Analisa:**"
   ]
  },
  {
   "cell_type": "markdown",
   "id": "42c05359",
   "metadata": {
    "papermill": {
     "duration": 0.023237,
     "end_time": "2023-09-30T10:00:26.786572",
     "exception": false,
     "start_time": "2023-09-30T10:00:26.763335",
     "status": "completed"
    },
    "tags": []
   },
   "source": [
    "### XGBoost"
   ]
  },
  {
   "cell_type": "code",
   "execution_count": 38,
   "id": "331a201d",
   "metadata": {
    "execution": {
     "iopub.execute_input": "2023-09-30T10:00:26.833186Z",
     "iopub.status.busy": "2023-09-30T10:00:26.832522Z",
     "iopub.status.idle": "2023-09-30T10:00:27.018164Z",
     "shell.execute_reply": "2023-09-30T10:00:27.017272Z"
    },
    "papermill": {
     "duration": 0.211776,
     "end_time": "2023-09-30T10:00:27.020452",
     "exception": false,
     "start_time": "2023-09-30T10:00:26.808676",
     "status": "completed"
    },
    "tags": []
   },
   "outputs": [],
   "source": [
    "# Model 1 XGBoost tanpa tunnning\n",
    "import xgboost as xgb\n",
    "\n",
    "\n",
    "latx = handel_1.drop(['House'],axis=1)\n",
    "laty = handel_1['House']\n",
    "valx = df_val.drop(['House','First Name', 'Last Name', 'Birthday'], axis=1)\n",
    "valy = yval_lr\n",
    "y_transformed_lat = laty - 1\n",
    "y_transformed_val = valy - 1\n",
    "xgb_model = xgb.XGBClassifier()\n"
   ]
  },
  {
   "cell_type": "code",
   "execution_count": 39,
   "id": "039b8679",
   "metadata": {
    "execution": {
     "iopub.execute_input": "2023-09-30T10:00:27.067677Z",
     "iopub.status.busy": "2023-09-30T10:00:27.067326Z",
     "iopub.status.idle": "2023-09-30T10:00:27.521538Z",
     "shell.execute_reply": "2023-09-30T10:00:27.520753Z"
    },
    "papermill": {
     "duration": 0.480246,
     "end_time": "2023-09-30T10:00:27.523555",
     "exception": false,
     "start_time": "2023-09-30T10:00:27.043309",
     "status": "completed"
    },
    "tags": []
   },
   "outputs": [
    {
     "data": {
      "text/html": [
       "<style>#sk-container-id-1 {color: black;background-color: white;}#sk-container-id-1 pre{padding: 0;}#sk-container-id-1 div.sk-toggleable {background-color: white;}#sk-container-id-1 label.sk-toggleable__label {cursor: pointer;display: block;width: 100%;margin-bottom: 0;padding: 0.3em;box-sizing: border-box;text-align: center;}#sk-container-id-1 label.sk-toggleable__label-arrow:before {content: \"▸\";float: left;margin-right: 0.25em;color: #696969;}#sk-container-id-1 label.sk-toggleable__label-arrow:hover:before {color: black;}#sk-container-id-1 div.sk-estimator:hover label.sk-toggleable__label-arrow:before {color: black;}#sk-container-id-1 div.sk-toggleable__content {max-height: 0;max-width: 0;overflow: hidden;text-align: left;background-color: #f0f8ff;}#sk-container-id-1 div.sk-toggleable__content pre {margin: 0.2em;color: black;border-radius: 0.25em;background-color: #f0f8ff;}#sk-container-id-1 input.sk-toggleable__control:checked~div.sk-toggleable__content {max-height: 200px;max-width: 100%;overflow: auto;}#sk-container-id-1 input.sk-toggleable__control:checked~label.sk-toggleable__label-arrow:before {content: \"▾\";}#sk-container-id-1 div.sk-estimator input.sk-toggleable__control:checked~label.sk-toggleable__label {background-color: #d4ebff;}#sk-container-id-1 div.sk-label input.sk-toggleable__control:checked~label.sk-toggleable__label {background-color: #d4ebff;}#sk-container-id-1 input.sk-hidden--visually {border: 0;clip: rect(1px 1px 1px 1px);clip: rect(1px, 1px, 1px, 1px);height: 1px;margin: -1px;overflow: hidden;padding: 0;position: absolute;width: 1px;}#sk-container-id-1 div.sk-estimator {font-family: monospace;background-color: #f0f8ff;border: 1px dotted black;border-radius: 0.25em;box-sizing: border-box;margin-bottom: 0.5em;}#sk-container-id-1 div.sk-estimator:hover {background-color: #d4ebff;}#sk-container-id-1 div.sk-parallel-item::after {content: \"\";width: 100%;border-bottom: 1px solid gray;flex-grow: 1;}#sk-container-id-1 div.sk-label:hover label.sk-toggleable__label {background-color: #d4ebff;}#sk-container-id-1 div.sk-serial::before {content: \"\";position: absolute;border-left: 1px solid gray;box-sizing: border-box;top: 0;bottom: 0;left: 50%;z-index: 0;}#sk-container-id-1 div.sk-serial {display: flex;flex-direction: column;align-items: center;background-color: white;padding-right: 0.2em;padding-left: 0.2em;position: relative;}#sk-container-id-1 div.sk-item {position: relative;z-index: 1;}#sk-container-id-1 div.sk-parallel {display: flex;align-items: stretch;justify-content: center;background-color: white;position: relative;}#sk-container-id-1 div.sk-item::before, #sk-container-id-1 div.sk-parallel-item::before {content: \"\";position: absolute;border-left: 1px solid gray;box-sizing: border-box;top: 0;bottom: 0;left: 50%;z-index: -1;}#sk-container-id-1 div.sk-parallel-item {display: flex;flex-direction: column;z-index: 1;position: relative;background-color: white;}#sk-container-id-1 div.sk-parallel-item:first-child::after {align-self: flex-end;width: 50%;}#sk-container-id-1 div.sk-parallel-item:last-child::after {align-self: flex-start;width: 50%;}#sk-container-id-1 div.sk-parallel-item:only-child::after {width: 0;}#sk-container-id-1 div.sk-dashed-wrapped {border: 1px dashed gray;margin: 0 0.4em 0.5em 0.4em;box-sizing: border-box;padding-bottom: 0.4em;background-color: white;}#sk-container-id-1 div.sk-label label {font-family: monospace;font-weight: bold;display: inline-block;line-height: 1.2em;}#sk-container-id-1 div.sk-label-container {text-align: center;}#sk-container-id-1 div.sk-container {/* jupyter's `normalize.less` sets `[hidden] { display: none; }` but bootstrap.min.css set `[hidden] { display: none !important; }` so we also need the `!important` here to be able to override the default hidden behavior on the sphinx rendered scikit-learn.org. See: https://github.com/scikit-learn/scikit-learn/issues/21755 */display: inline-block !important;position: relative;}#sk-container-id-1 div.sk-text-repr-fallback {display: none;}</style><div id=\"sk-container-id-1\" class=\"sk-top-container\"><div class=\"sk-text-repr-fallback\"><pre>XGBClassifier(base_score=None, booster=None, callbacks=None,\n",
       "              colsample_bylevel=None, colsample_bynode=None,\n",
       "              colsample_bytree=None, early_stopping_rounds=None,\n",
       "              enable_categorical=False, eval_metric=None, feature_types=None,\n",
       "              gamma=None, gpu_id=None, grow_policy=None, importance_type=None,\n",
       "              interaction_constraints=None, learning_rate=None, max_bin=None,\n",
       "              max_cat_threshold=None, max_cat_to_onehot=None,\n",
       "              max_delta_step=None, max_depth=None, max_leaves=None,\n",
       "              min_child_weight=None, missing=nan, monotone_constraints=None,\n",
       "              n_estimators=100, n_jobs=None, num_parallel_tree=None,\n",
       "              objective=&#x27;multi:softprob&#x27;, predictor=None, ...)</pre><b>In a Jupyter environment, please rerun this cell to show the HTML representation or trust the notebook. <br />On GitHub, the HTML representation is unable to render, please try loading this page with nbviewer.org.</b></div><div class=\"sk-container\" hidden><div class=\"sk-item\"><div class=\"sk-estimator sk-toggleable\"><input class=\"sk-toggleable__control sk-hidden--visually\" id=\"sk-estimator-id-1\" type=\"checkbox\" checked><label for=\"sk-estimator-id-1\" class=\"sk-toggleable__label sk-toggleable__label-arrow\">XGBClassifier</label><div class=\"sk-toggleable__content\"><pre>XGBClassifier(base_score=None, booster=None, callbacks=None,\n",
       "              colsample_bylevel=None, colsample_bynode=None,\n",
       "              colsample_bytree=None, early_stopping_rounds=None,\n",
       "              enable_categorical=False, eval_metric=None, feature_types=None,\n",
       "              gamma=None, gpu_id=None, grow_policy=None, importance_type=None,\n",
       "              interaction_constraints=None, learning_rate=None, max_bin=None,\n",
       "              max_cat_threshold=None, max_cat_to_onehot=None,\n",
       "              max_delta_step=None, max_depth=None, max_leaves=None,\n",
       "              min_child_weight=None, missing=nan, monotone_constraints=None,\n",
       "              n_estimators=100, n_jobs=None, num_parallel_tree=None,\n",
       "              objective=&#x27;multi:softprob&#x27;, predictor=None, ...)</pre></div></div></div></div></div>"
      ],
      "text/plain": [
       "XGBClassifier(base_score=None, booster=None, callbacks=None,\n",
       "              colsample_bylevel=None, colsample_bynode=None,\n",
       "              colsample_bytree=None, early_stopping_rounds=None,\n",
       "              enable_categorical=False, eval_metric=None, feature_types=None,\n",
       "              gamma=None, gpu_id=None, grow_policy=None, importance_type=None,\n",
       "              interaction_constraints=None, learning_rate=None, max_bin=None,\n",
       "              max_cat_threshold=None, max_cat_to_onehot=None,\n",
       "              max_delta_step=None, max_depth=None, max_leaves=None,\n",
       "              min_child_weight=None, missing=nan, monotone_constraints=None,\n",
       "              n_estimators=100, n_jobs=None, num_parallel_tree=None,\n",
       "              objective='multi:softprob', predictor=None, ...)"
      ]
     },
     "execution_count": 39,
     "metadata": {},
     "output_type": "execute_result"
    }
   ],
   "source": [
    "# Latih model pada data pelatihan\n",
    "xgb_model.fit(latx, y_transformed_lat)"
   ]
  },
  {
   "cell_type": "code",
   "execution_count": 40,
   "id": "af468619",
   "metadata": {
    "execution": {
     "iopub.execute_input": "2023-09-30T10:00:27.572716Z",
     "iopub.status.busy": "2023-09-30T10:00:27.572392Z",
     "iopub.status.idle": "2023-09-30T10:00:27.584742Z",
     "shell.execute_reply": "2023-09-30T10:00:27.583998Z"
    },
    "papermill": {
     "duration": 0.039358,
     "end_time": "2023-09-30T10:00:27.586990",
     "exception": false,
     "start_time": "2023-09-30T10:00:27.547632",
     "status": "completed"
    },
    "tags": []
   },
   "outputs": [],
   "source": [
    "# Prediksi pada data pengujian\n",
    "y_pred_xg = xgb_model.predict(valx)"
   ]
  },
  {
   "cell_type": "code",
   "execution_count": 41,
   "id": "81b1bd94",
   "metadata": {
    "execution": {
     "iopub.execute_input": "2023-09-30T10:00:27.639596Z",
     "iopub.status.busy": "2023-09-30T10:00:27.638605Z",
     "iopub.status.idle": "2023-09-30T10:00:27.651392Z",
     "shell.execute_reply": "2023-09-30T10:00:27.650181Z"
    },
    "papermill": {
     "duration": 0.039407,
     "end_time": "2023-09-30T10:00:27.653166",
     "exception": false,
     "start_time": "2023-09-30T10:00:27.613759",
     "status": "completed"
    },
    "tags": []
   },
   "outputs": [
    {
     "name": "stdout",
     "output_type": "stream",
     "text": [
      "Akurasi: 0.804\n",
      "Classification Report:\n",
      "               precision    recall  f1-score   support\n",
      "\n",
      "           0       0.80      0.77      0.79        53\n",
      "           1       0.96      1.00      0.98        48\n",
      "           2       0.76      0.82      0.79        79\n",
      "           3       0.75      0.67      0.71        70\n",
      "\n",
      "    accuracy                           0.80       250\n",
      "   macro avg       0.82      0.82      0.82       250\n",
      "weighted avg       0.80      0.80      0.80       250\n",
      "\n"
     ]
    }
   ],
   "source": [
    "# Mengukur akurasi\n",
    "accuracy = accuracy_score(y_transformed_val, y_pred_xg)\n",
    "print(\"Akurasi:\", accuracy)\n",
    "\n",
    "# Menampilkan classification report\n",
    "classification_rep = classification_report(y_transformed_val, y_pred_xg)\n",
    "print(\"Classification Report:\\n\", classification_rep)"
   ]
  },
  {
   "cell_type": "code",
   "execution_count": 42,
   "id": "e5b3dc4a",
   "metadata": {
    "execution": {
     "iopub.execute_input": "2023-09-30T10:00:27.702505Z",
     "iopub.status.busy": "2023-09-30T10:00:27.702148Z",
     "iopub.status.idle": "2023-09-30T10:01:22.829636Z",
     "shell.execute_reply": "2023-09-30T10:01:22.828421Z"
    },
    "papermill": {
     "duration": 55.172764,
     "end_time": "2023-09-30T10:01:22.849845",
     "exception": false,
     "start_time": "2023-09-30T10:00:27.677081",
     "status": "completed"
    },
    "tags": []
   },
   "outputs": [
    {
     "name": "stdout",
     "output_type": "stream",
     "text": [
      "Akurasi: 0.812\n",
      "Parameter terbaik: {'learning_rate': 0.1, 'max_depth': 4, 'n_estimators': 50}\n",
      "Classification Report:\n",
      "               precision    recall  f1-score   support\n",
      "\n",
      "           0       0.83      0.81      0.82        53\n",
      "           1       0.98      1.00      0.99        48\n",
      "           2       0.73      0.84      0.78        79\n",
      "           3       0.78      0.66      0.71        70\n",
      "\n",
      "    accuracy                           0.81       250\n",
      "   macro avg       0.83      0.83      0.83       250\n",
      "weighted avg       0.81      0.81      0.81       250\n",
      "\n"
     ]
    }
   ],
   "source": [
    "# Model 2 XGBoost dengan tunning gridsearch\n",
    "# Membuat objek XGBoostClassifier\n",
    "xgb_model = xgb.XGBClassifier()\n",
    "\n",
    "# Menentukan daftar parameter yang akan diuji dalam Grid Search\n",
    "param_grid_xgb = {\n",
    "    'n_estimators': [50, 100, 200],\n",
    "    'max_depth': [3, 4, 5],\n",
    "    'learning_rate': [0.01, 0.1, 0.2]\n",
    "}\n",
    "\n",
    "# Membuat objek GridSearchCV\n",
    "grid_search = GridSearchCV(estimator=xgb_model, param_grid=param_grid_xgb, cv=5, scoring='accuracy')\n",
    "\n",
    "# Melatih model dengan Grid Search\n",
    "grid_search.fit(latx, y_transformed_lat)\n",
    "\n",
    "# Mendapatkan model terbaik dari Grid Search\n",
    "best_xgb = grid_search.best_estimator_\n",
    "\n",
    "# Melakukan prediksi pada data uji menggunakan model terbaik\n",
    "y_pred_xgb = best_xgb.predict(valx)\n",
    "\n",
    "# Menghitung akurasi prediksi\n",
    "accuracy = accuracy_score(y_transformed_val, y_pred_xgb)\n",
    "print(\"Akurasi:\", accuracy)\n",
    "\n",
    "# Menampilkan parameter terbaik\n",
    "print(\"Parameter terbaik:\", grid_search.best_params_)\n",
    "\n",
    "# Menampilkan classification report\n",
    "classification_rep = classification_report(y_transformed_val, y_pred_xgb)\n",
    "print(\"Classification Report:\\n\", classification_rep)"
   ]
  },
  {
   "cell_type": "markdown",
   "id": "feeba8b3",
   "metadata": {
    "papermill": {
     "duration": 0.025037,
     "end_time": "2023-09-30T10:01:22.898842",
     "exception": false,
     "start_time": "2023-09-30T10:01:22.873805",
     "status": "completed"
    },
    "tags": []
   },
   "source": [
    "**Analisis:**"
   ]
  },
  {
   "cell_type": "markdown",
   "id": "19ad20a1",
   "metadata": {
    "papermill": {
     "duration": 0.024941,
     "end_time": "2023-09-30T10:01:22.948113",
     "exception": false,
     "start_time": "2023-09-30T10:01:22.923172",
     "status": "completed"
    },
    "tags": []
   },
   "source": [
    "## Result (Leaderboards)\n",
    "Gunakan model terbaik untuk memprediksi x_test. \n",
    "- Model terbaik bisa menggunakan model yang sudah dibuat sebelumnya atau membuat model baru.\n",
    "- Dapat menggunakan skema preprocessing yang lain seperti normalisasi, feature selection, data imbalance, dan teknik lainnya.\n",
    "- Tampilkan hasil classification report dan confusion matrix.\n",
    "- Lakukan analisis berdasarkan classification report.\n",
    "- Simpan hasil prediksi data uji dalam file `.csv` dan upload ke dalam submission di Kaggle Competition."
   ]
  },
  {
   "cell_type": "markdown",
   "id": "9fca3768",
   "metadata": {
    "papermill": {
     "duration": 0.024056,
     "end_time": "2023-09-30T10:01:22.998362",
     "exception": false,
     "start_time": "2023-09-30T10:01:22.974306",
     "status": "completed"
    },
    "tags": []
   },
   "source": [
    "### Best model to predict x_test\n",
    "Analisis model terbaik dan berikan alasan mengapa kinerja paling baik di antara model-model yang lain. "
   ]
  },
  {
   "cell_type": "code",
   "execution_count": 43,
   "id": "3f2c3df9",
   "metadata": {
    "execution": {
     "iopub.execute_input": "2023-09-30T10:01:23.051309Z",
     "iopub.status.busy": "2023-09-30T10:01:23.050875Z",
     "iopub.status.idle": "2023-09-30T10:01:23.066437Z",
     "shell.execute_reply": "2023-09-30T10:01:23.065345Z"
    },
    "papermill": {
     "duration": 0.043352,
     "end_time": "2023-09-30T10:01:23.068603",
     "exception": false,
     "start_time": "2023-09-30T10:01:23.025251",
     "status": "completed"
    },
    "tags": []
   },
   "outputs": [
    {
     "name": "stdout",
     "output_type": "stream",
     "text": [
      "<class 'pandas.core.frame.DataFrame'>\n",
      "RangeIndex: 251 entries, 0 to 250\n",
      "Data columns (total 16 columns):\n",
      " #   Column                         Non-Null Count  Dtype  \n",
      "---  ------                         --------------  -----  \n",
      " 0   Species                        251 non-null    int64  \n",
      " 1   Blood Status                   251 non-null    int64  \n",
      " 2   Best Hand                      251 non-null    int64  \n",
      " 3   Arithmancy                     251 non-null    float64\n",
      " 4   Astronomy                      251 non-null    float64\n",
      " 5   Herbology                      251 non-null    float64\n",
      " 6   Defense Against the Dark Arts  251 non-null    float64\n",
      " 7   Divination                     251 non-null    float64\n",
      " 8   Muggle Studies                 251 non-null    float64\n",
      " 9   Ancient Runes                  251 non-null    float64\n",
      " 10  History of Magic               251 non-null    float64\n",
      " 11  Transfiguration                251 non-null    float64\n",
      " 12  Potions                        251 non-null    float64\n",
      " 13  Care of Magical Creatures      251 non-null    float64\n",
      " 14  Charms                         251 non-null    float64\n",
      " 15  Flying                         251 non-null    float64\n",
      "dtypes: float64(13), int64(3)\n",
      "memory usage: 31.5 KB\n"
     ]
    }
   ],
   "source": [
    "# preparasi data uji\n",
    "xt = x_uji.drop(['ID','First Name', 'Last Name', 'Birthday'], axis=1)\n",
    "xt\n",
    "\n",
    "# Substitusi value domain kategorikal ke numerikal\n",
    "xt['Species'] = xt['Species'].replace({'Human':1,'Werewolf':2,'Half Giant':3})\n",
    "xt['Blood Status'] = xt['Blood Status'].replace({'Pure Blood':1, 'Half Blood':2, 'Muggle':3})\n",
    "xt['Best Hand'] = xt['Best Hand'].replace({'Left':1, 'Right':2})\n",
    "xt.info()\n"
   ]
  },
  {
   "cell_type": "code",
   "execution_count": 44,
   "id": "a945bec0",
   "metadata": {
    "execution": {
     "iopub.execute_input": "2023-09-30T10:01:23.119999Z",
     "iopub.status.busy": "2023-09-30T10:01:23.119194Z",
     "iopub.status.idle": "2023-09-30T10:01:23.132234Z",
     "shell.execute_reply": "2023-09-30T10:01:23.131423Z"
    },
    "papermill": {
     "duration": 0.040686,
     "end_time": "2023-09-30T10:01:23.134277",
     "exception": false,
     "start_time": "2023-09-30T10:01:23.093591",
     "status": "completed"
    },
    "tags": []
   },
   "outputs": [
    {
     "data": {
      "text/plain": [
       "array([2, 3, 2, 0, 0, 3, 0, 3, 1, 2, 3, 3, 1, 0, 2, 3, 3, 3, 0, 3, 3, 0,\n",
       "       3, 1, 2, 2, 1, 2, 1, 3, 0, 2, 0, 1, 0, 1, 2, 1, 2, 1, 3, 3, 3, 2,\n",
       "       1, 0, 3, 2, 3, 0, 1, 3, 1, 1, 3, 1, 2, 3, 3, 3, 1, 2, 3, 2, 0, 2,\n",
       "       3, 3, 0, 0, 1, 2, 0, 0, 2, 3, 0, 3, 0, 3, 1, 3, 1, 2, 3, 3, 1, 3,\n",
       "       3, 2, 0, 3, 2, 3, 2, 1, 0, 2, 0, 3, 2, 3, 1, 2, 3, 3, 1, 3, 3, 1,\n",
       "       3, 2, 2, 3, 0, 0, 3, 3, 1, 1, 0, 0, 3, 3, 3, 3, 1, 1, 2, 2, 2, 2,\n",
       "       3, 1, 2, 1, 3, 3, 3, 2, 3, 2, 3, 1, 3, 2, 2, 3, 3, 1, 1, 0, 2, 2,\n",
       "       2, 2, 2, 3, 3, 0, 3, 3, 0, 1, 2, 0, 0, 1, 1, 2, 2, 0, 0, 2, 0, 1,\n",
       "       3, 2, 3, 0, 2, 2, 3, 0, 2, 3, 3, 2, 2, 2, 3, 3, 3, 2, 2, 2, 2, 2,\n",
       "       0, 3, 2, 1, 1, 1, 3, 2, 1, 3, 1, 2, 3, 3, 3, 3, 3, 1, 2, 3, 2, 3,\n",
       "       0, 0, 2, 1, 0, 1, 1, 0, 2, 2, 2, 2, 2, 3, 3, 2, 0, 1, 2, 2, 2, 3,\n",
       "       1, 1, 3, 2, 0, 1, 2, 2, 1])"
      ]
     },
     "execution_count": 44,
     "metadata": {},
     "output_type": "execute_result"
    }
   ],
   "source": [
    "# Melakukan prediksi pada data uji menggunakan model terbaik\n",
    "y_pred_fin = best_xgb.predict(xt)\n",
    "y_pred_fin"
   ]
  },
  {
   "cell_type": "code",
   "execution_count": 45,
   "id": "097763d3",
   "metadata": {
    "execution": {
     "iopub.execute_input": "2023-09-30T10:01:23.187630Z",
     "iopub.status.busy": "2023-09-30T10:01:23.187149Z",
     "iopub.status.idle": "2023-09-30T10:01:23.194179Z",
     "shell.execute_reply": "2023-09-30T10:01:23.193092Z"
    },
    "papermill": {
     "duration": 0.035115,
     "end_time": "2023-09-30T10:01:23.196148",
     "exception": false,
     "start_time": "2023-09-30T10:01:23.161033",
     "status": "completed"
    },
    "tags": []
   },
   "outputs": [
    {
     "data": {
      "text/plain": [
       "array([3, 4, 3, 1, 1, 4, 1, 4, 2, 3, 4, 4, 2, 1, 3, 4, 4, 4, 1, 4, 4, 1,\n",
       "       4, 2, 3, 3, 2, 3, 2, 4, 1, 3, 1, 2, 1, 2, 3, 2, 3, 2, 4, 4, 4, 3,\n",
       "       2, 1, 4, 3, 4, 1, 2, 4, 2, 2, 4, 2, 3, 4, 4, 4, 2, 3, 4, 3, 1, 3,\n",
       "       4, 4, 1, 1, 2, 3, 1, 1, 3, 4, 1, 4, 1, 4, 2, 4, 2, 3, 4, 4, 2, 4,\n",
       "       4, 3, 1, 4, 3, 4, 3, 2, 1, 3, 1, 4, 3, 4, 2, 3, 4, 4, 2, 4, 4, 2,\n",
       "       4, 3, 3, 4, 1, 1, 4, 4, 2, 2, 1, 1, 4, 4, 4, 4, 2, 2, 3, 3, 3, 3,\n",
       "       4, 2, 3, 2, 4, 4, 4, 3, 4, 3, 4, 2, 4, 3, 3, 4, 4, 2, 2, 1, 3, 3,\n",
       "       3, 3, 3, 4, 4, 1, 4, 4, 1, 2, 3, 1, 1, 2, 2, 3, 3, 1, 1, 3, 1, 2,\n",
       "       4, 3, 4, 1, 3, 3, 4, 1, 3, 4, 4, 3, 3, 3, 4, 4, 4, 3, 3, 3, 3, 3,\n",
       "       1, 4, 3, 2, 2, 2, 4, 3, 2, 4, 2, 3, 4, 4, 4, 4, 4, 2, 3, 4, 3, 4,\n",
       "       1, 1, 3, 2, 1, 2, 2, 1, 3, 3, 3, 3, 3, 4, 4, 3, 1, 2, 3, 3, 3, 4,\n",
       "       2, 2, 4, 3, 1, 2, 3, 3, 2])"
      ]
     },
     "execution_count": 45,
     "metadata": {},
     "output_type": "execute_result"
    }
   ],
   "source": [
    " # Mengembalikkan class ke range awal\n",
    "yfin = y_pred_fin +1\n",
    "yfin"
   ]
  },
  {
   "cell_type": "code",
   "execution_count": 46,
   "id": "1cb9be76",
   "metadata": {
    "execution": {
     "iopub.execute_input": "2023-09-30T10:01:23.247124Z",
     "iopub.status.busy": "2023-09-30T10:01:23.246738Z",
     "iopub.status.idle": "2023-09-30T10:01:23.257559Z",
     "shell.execute_reply": "2023-09-30T10:01:23.256525Z"
    },
    "papermill": {
     "duration": 0.038512,
     "end_time": "2023-09-30T10:01:23.259462",
     "exception": false,
     "start_time": "2023-09-30T10:01:23.220950",
     "status": "completed"
    },
    "tags": []
   },
   "outputs": [
    {
     "data": {
      "text/html": [
       "<div>\n",
       "<style scoped>\n",
       "    .dataframe tbody tr th:only-of-type {\n",
       "        vertical-align: middle;\n",
       "    }\n",
       "\n",
       "    .dataframe tbody tr th {\n",
       "        vertical-align: top;\n",
       "    }\n",
       "\n",
       "    .dataframe thead th {\n",
       "        text-align: right;\n",
       "    }\n",
       "</style>\n",
       "<table border=\"1\" class=\"dataframe\">\n",
       "  <thead>\n",
       "    <tr style=\"text-align: right;\">\n",
       "      <th></th>\n",
       "      <th>House</th>\n",
       "    </tr>\n",
       "  </thead>\n",
       "  <tbody>\n",
       "    <tr>\n",
       "      <th>0</th>\n",
       "      <td>3</td>\n",
       "    </tr>\n",
       "    <tr>\n",
       "      <th>1</th>\n",
       "      <td>4</td>\n",
       "    </tr>\n",
       "    <tr>\n",
       "      <th>2</th>\n",
       "      <td>3</td>\n",
       "    </tr>\n",
       "    <tr>\n",
       "      <th>3</th>\n",
       "      <td>1</td>\n",
       "    </tr>\n",
       "    <tr>\n",
       "      <th>4</th>\n",
       "      <td>1</td>\n",
       "    </tr>\n",
       "    <tr>\n",
       "      <th>...</th>\n",
       "      <td>...</td>\n",
       "    </tr>\n",
       "    <tr>\n",
       "      <th>246</th>\n",
       "      <td>1</td>\n",
       "    </tr>\n",
       "    <tr>\n",
       "      <th>247</th>\n",
       "      <td>2</td>\n",
       "    </tr>\n",
       "    <tr>\n",
       "      <th>248</th>\n",
       "      <td>3</td>\n",
       "    </tr>\n",
       "    <tr>\n",
       "      <th>249</th>\n",
       "      <td>3</td>\n",
       "    </tr>\n",
       "    <tr>\n",
       "      <th>250</th>\n",
       "      <td>2</td>\n",
       "    </tr>\n",
       "  </tbody>\n",
       "</table>\n",
       "<p>251 rows × 1 columns</p>\n",
       "</div>"
      ],
      "text/plain": [
       "     House\n",
       "0        3\n",
       "1        4\n",
       "2        3\n",
       "3        1\n",
       "4        1\n",
       "..     ...\n",
       "246      1\n",
       "247      2\n",
       "248      3\n",
       "249      3\n",
       "250      2\n",
       "\n",
       "[251 rows x 1 columns]"
      ]
     },
     "execution_count": 46,
     "metadata": {},
     "output_type": "execute_result"
    }
   ],
   "source": [
    "columns = ['House']\n",
    "sub = pd.DataFrame(yfin, columns=columns)\n",
    "sub"
   ]
  },
  {
   "cell_type": "code",
   "execution_count": 47,
   "id": "8655d5ca",
   "metadata": {
    "execution": {
     "iopub.execute_input": "2023-09-30T10:01:23.311225Z",
     "iopub.status.busy": "2023-09-30T10:01:23.310478Z",
     "iopub.status.idle": "2023-09-30T10:01:23.322123Z",
     "shell.execute_reply": "2023-09-30T10:01:23.321158Z"
    },
    "papermill": {
     "duration": 0.039597,
     "end_time": "2023-09-30T10:01:23.323906",
     "exception": false,
     "start_time": "2023-09-30T10:01:23.284309",
     "status": "completed"
    },
    "tags": []
   },
   "outputs": [
    {
     "data": {
      "text/html": [
       "<div>\n",
       "<style scoped>\n",
       "    .dataframe tbody tr th:only-of-type {\n",
       "        vertical-align: middle;\n",
       "    }\n",
       "\n",
       "    .dataframe tbody tr th {\n",
       "        vertical-align: top;\n",
       "    }\n",
       "\n",
       "    .dataframe thead th {\n",
       "        text-align: right;\n",
       "    }\n",
       "</style>\n",
       "<table border=\"1\" class=\"dataframe\">\n",
       "  <thead>\n",
       "    <tr style=\"text-align: right;\">\n",
       "      <th></th>\n",
       "      <th>House</th>\n",
       "    </tr>\n",
       "  </thead>\n",
       "  <tbody>\n",
       "    <tr>\n",
       "      <th>0</th>\n",
       "      <td>Hufflepuff</td>\n",
       "    </tr>\n",
       "    <tr>\n",
       "      <th>1</th>\n",
       "      <td>Ravenclaw</td>\n",
       "    </tr>\n",
       "    <tr>\n",
       "      <th>2</th>\n",
       "      <td>Hufflepuff</td>\n",
       "    </tr>\n",
       "    <tr>\n",
       "      <th>3</th>\n",
       "      <td>Slytherin</td>\n",
       "    </tr>\n",
       "    <tr>\n",
       "      <th>4</th>\n",
       "      <td>Slytherin</td>\n",
       "    </tr>\n",
       "    <tr>\n",
       "      <th>...</th>\n",
       "      <td>...</td>\n",
       "    </tr>\n",
       "    <tr>\n",
       "      <th>246</th>\n",
       "      <td>Slytherin</td>\n",
       "    </tr>\n",
       "    <tr>\n",
       "      <th>247</th>\n",
       "      <td>Gryffindor</td>\n",
       "    </tr>\n",
       "    <tr>\n",
       "      <th>248</th>\n",
       "      <td>Hufflepuff</td>\n",
       "    </tr>\n",
       "    <tr>\n",
       "      <th>249</th>\n",
       "      <td>Hufflepuff</td>\n",
       "    </tr>\n",
       "    <tr>\n",
       "      <th>250</th>\n",
       "      <td>Gryffindor</td>\n",
       "    </tr>\n",
       "  </tbody>\n",
       "</table>\n",
       "<p>251 rows × 1 columns</p>\n",
       "</div>"
      ],
      "text/plain": [
       "          House\n",
       "0    Hufflepuff\n",
       "1     Ravenclaw\n",
       "2    Hufflepuff\n",
       "3     Slytherin\n",
       "4     Slytherin\n",
       "..          ...\n",
       "246   Slytherin\n",
       "247  Gryffindor\n",
       "248  Hufflepuff\n",
       "249  Hufflepuff\n",
       "250  Gryffindor\n",
       "\n",
       "[251 rows x 1 columns]"
      ]
     },
     "execution_count": 47,
     "metadata": {},
     "output_type": "execute_result"
    }
   ],
   "source": [
    "# Mengembalikkan nama kelas\n",
    "sub['House'] = sub['House'].replace({1:'Slytherin', 2:'Gryffindor',3:'Hufflepuff',4:'Ravenclaw'})\n",
    "sub"
   ]
  },
  {
   "cell_type": "code",
   "execution_count": 48,
   "id": "a1fd0d3d",
   "metadata": {
    "execution": {
     "iopub.execute_input": "2023-09-30T10:01:23.375519Z",
     "iopub.status.busy": "2023-09-30T10:01:23.375173Z",
     "iopub.status.idle": "2023-09-30T10:01:23.382281Z",
     "shell.execute_reply": "2023-09-30T10:01:23.381350Z"
    },
    "papermill": {
     "duration": 0.035412,
     "end_time": "2023-09-30T10:01:23.384411",
     "exception": false,
     "start_time": "2023-09-30T10:01:23.348999",
     "status": "completed"
    },
    "tags": []
   },
   "outputs": [],
   "source": [
    "sub.to_csv(\"submission.csv\", index=False, sep=\",\")"
   ]
  },
  {
   "cell_type": "code",
   "execution_count": 49,
   "id": "b578484b",
   "metadata": {
    "execution": {
     "iopub.execute_input": "2023-09-30T10:01:23.436616Z",
     "iopub.status.busy": "2023-09-30T10:01:23.436259Z",
     "iopub.status.idle": "2023-09-30T10:01:23.445842Z",
     "shell.execute_reply": "2023-09-30T10:01:23.444818Z"
    },
    "papermill": {
     "duration": 0.038594,
     "end_time": "2023-09-30T10:01:23.448392",
     "exception": false,
     "start_time": "2023-09-30T10:01:23.409798",
     "status": "completed"
    },
    "tags": []
   },
   "outputs": [],
   "source": [
    "sub_df = pd.DataFrame({'ID': sub.index+1, 'House': sub['House']})\n",
    "sub_df.to_csv('submission.csv', index=False)"
   ]
  },
  {
   "cell_type": "code",
   "execution_count": 50,
   "id": "87e8f64b",
   "metadata": {
    "execution": {
     "iopub.execute_input": "2023-09-30T10:01:23.500216Z",
     "iopub.status.busy": "2023-09-30T10:01:23.499538Z",
     "iopub.status.idle": "2023-09-30T10:01:23.510054Z",
     "shell.execute_reply": "2023-09-30T10:01:23.509005Z"
    },
    "papermill": {
     "duration": 0.038626,
     "end_time": "2023-09-30T10:01:23.512296",
     "exception": false,
     "start_time": "2023-09-30T10:01:23.473670",
     "status": "completed"
    },
    "tags": []
   },
   "outputs": [
    {
     "data": {
      "text/html": [
       "<div>\n",
       "<style scoped>\n",
       "    .dataframe tbody tr th:only-of-type {\n",
       "        vertical-align: middle;\n",
       "    }\n",
       "\n",
       "    .dataframe tbody tr th {\n",
       "        vertical-align: top;\n",
       "    }\n",
       "\n",
       "    .dataframe thead th {\n",
       "        text-align: right;\n",
       "    }\n",
       "</style>\n",
       "<table border=\"1\" class=\"dataframe\">\n",
       "  <thead>\n",
       "    <tr style=\"text-align: right;\">\n",
       "      <th></th>\n",
       "      <th>ID</th>\n",
       "      <th>House</th>\n",
       "    </tr>\n",
       "  </thead>\n",
       "  <tbody>\n",
       "    <tr>\n",
       "      <th>0</th>\n",
       "      <td>1</td>\n",
       "      <td>Hufflepuff</td>\n",
       "    </tr>\n",
       "    <tr>\n",
       "      <th>1</th>\n",
       "      <td>2</td>\n",
       "      <td>Ravenclaw</td>\n",
       "    </tr>\n",
       "    <tr>\n",
       "      <th>2</th>\n",
       "      <td>3</td>\n",
       "      <td>Hufflepuff</td>\n",
       "    </tr>\n",
       "    <tr>\n",
       "      <th>3</th>\n",
       "      <td>4</td>\n",
       "      <td>Slytherin</td>\n",
       "    </tr>\n",
       "    <tr>\n",
       "      <th>4</th>\n",
       "      <td>5</td>\n",
       "      <td>Slytherin</td>\n",
       "    </tr>\n",
       "    <tr>\n",
       "      <th>...</th>\n",
       "      <td>...</td>\n",
       "      <td>...</td>\n",
       "    </tr>\n",
       "    <tr>\n",
       "      <th>246</th>\n",
       "      <td>247</td>\n",
       "      <td>Slytherin</td>\n",
       "    </tr>\n",
       "    <tr>\n",
       "      <th>247</th>\n",
       "      <td>248</td>\n",
       "      <td>Gryffindor</td>\n",
       "    </tr>\n",
       "    <tr>\n",
       "      <th>248</th>\n",
       "      <td>249</td>\n",
       "      <td>Hufflepuff</td>\n",
       "    </tr>\n",
       "    <tr>\n",
       "      <th>249</th>\n",
       "      <td>250</td>\n",
       "      <td>Hufflepuff</td>\n",
       "    </tr>\n",
       "    <tr>\n",
       "      <th>250</th>\n",
       "      <td>251</td>\n",
       "      <td>Gryffindor</td>\n",
       "    </tr>\n",
       "  </tbody>\n",
       "</table>\n",
       "<p>251 rows × 2 columns</p>\n",
       "</div>"
      ],
      "text/plain": [
       "      ID       House\n",
       "0      1  Hufflepuff\n",
       "1      2   Ravenclaw\n",
       "2      3  Hufflepuff\n",
       "3      4   Slytherin\n",
       "4      5   Slytherin\n",
       "..   ...         ...\n",
       "246  247   Slytherin\n",
       "247  248  Gryffindor\n",
       "248  249  Hufflepuff\n",
       "249  250  Hufflepuff\n",
       "250  251  Gryffindor\n",
       "\n",
       "[251 rows x 2 columns]"
      ]
     },
     "execution_count": 50,
     "metadata": {},
     "output_type": "execute_result"
    }
   ],
   "source": [
    "sub_df"
   ]
  },
  {
   "cell_type": "markdown",
   "id": "2f031c61",
   "metadata": {
    "papermill": {
     "duration": 0.030411,
     "end_time": "2023-09-30T10:01:23.567676",
     "exception": false,
     "start_time": "2023-09-30T10:01:23.537265",
     "status": "completed"
    },
    "tags": []
   },
   "source": [
    "### Save submission"
   ]
  },
  {
   "cell_type": "code",
   "execution_count": null,
   "id": "b177c527",
   "metadata": {
    "papermill": {
     "duration": 0.03251,
     "end_time": "2023-09-30T10:01:23.628955",
     "exception": false,
     "start_time": "2023-09-30T10:01:23.596445",
     "status": "completed"
    },
    "tags": []
   },
   "outputs": [],
   "source": []
  }
 ],
 "metadata": {
  "kernelspec": {
   "display_name": "Python 3",
   "language": "python",
   "name": "python3"
  },
  "language_info": {
   "codemirror_mode": {
    "name": "ipython",
    "version": 3
   },
   "file_extension": ".py",
   "mimetype": "text/x-python",
   "name": "python",
   "nbconvert_exporter": "python",
   "pygments_lexer": "ipython3",
   "version": "3.10.12"
  },
  "papermill": {
   "default_parameters": {},
   "duration": 450.815165,
   "end_time": "2023-09-30T10:01:24.282043",
   "environment_variables": {},
   "exception": null,
   "input_path": "__notebook__.ipynb",
   "output_path": "__notebook__.ipynb",
   "parameters": {},
   "start_time": "2023-09-30T09:53:53.466878",
   "version": "2.4.0"
  }
 },
 "nbformat": 4,
 "nbformat_minor": 5
}
