{
  "cells": [
    {
      "cell_type": "code",
      "execution_count": 1,
      "metadata": {
        "colab": {
          "base_uri": "https://localhost:8080/",
          "height": 1000
        },
        "id": "TrxVD2260aXU",
        "outputId": "b342cb74-53ff-416c-90d0-627445d2902a"
      },
      "outputs": [],
      "source": [
        "# PREPARE SCIKERAS DAN TENSOR\n",
        "%pip uninstall tensorflow scikeras\n",
        "%pip install tensorflow==2.12.0\n",
        "%pip install scikeras==0.9.0"
      ]
    },
    {
      "cell_type": "code",
      "execution_count": 1,
      "metadata": {
        "id": "mhvfVHBb1DX5"
      },
      "outputs": [],
      "source": [
        "import numpy as np\n",
        "import pandas as pd\n",
        "from matplotlib import pyplot as plt\n",
        "from tensorflow.keras.models import Sequential\n",
        "from tensorflow.keras.layers import LSTM\n",
        "from tensorflow.keras.layers import Dense, Dropout\n",
        "from sklearn.preprocessing import MinMaxScaler\n",
        "from keras.wrappers.scikit_learn import KerasRegressor\n",
        "from sklearn.model_selection import GridSearchCV\n",
        "from sklearn.metrics import mean_absolute_error, mean_squared_error, mean_absolute_percentage_error"
      ]
    },
    {
      "cell_type": "code",
      "execution_count": 2,
      "metadata": {
        "colab": {
          "base_uri": "https://localhost:8080/"
        },
        "id": "Jhe7w6fwz9Nk",
        "outputId": "cc8df235-fa88-4ab4-d627-0b7e2bcc9133"
      },
      "outputs": [
        {
          "name": "stdout",
          "output_type": "stream",
          "text": [
            "<class 'pandas.core.frame.DataFrame'>\n",
            "DatetimeIndex: 9360 entries, 2024-01-09 00:30:00 to 2024-07-22 23:59:00\n",
            "Data columns (total 2 columns):\n",
            " #   Column  Non-Null Count  Dtype  \n",
            "---  ------  --------------  -----  \n",
            " 0   Suhu    9360 non-null   float64\n",
            " 1   MW      9360 non-null   float64\n",
            "dtypes: float64(2)\n",
            "memory usage: 219.4 KB\n"
          ]
        },
        {
          "data": {
            "text/plain": [
              "(None,\n",
              "                       Suhu        MW\n",
              " Datetime                            \n",
              " 2024-01-09 00:30:00  21.50  23206.91\n",
              " 2024-01-09 01:00:00  21.30  22942.26\n",
              " 2024-01-09 01:30:00  21.30  22793.85\n",
              " 2024-01-09 02:00:00  21.55  22610.97\n",
              " 2024-01-09 02:30:00  21.55  22419.90,\n",
              "               Suhu            MW\n",
              " count  9360.000000   9360.000000\n",
              " mean     22.856448  25546.226328\n",
              " std       2.154657   3046.366198\n",
              " min      16.450000  14873.300000\n",
              " 25%      21.250000  23438.132500\n",
              " 50%      22.400000  25467.910000\n",
              " 75%      24.650000  28170.247500\n",
              " max      28.250000  31329.910000)"
            ]
          },
          "execution_count": 2,
          "metadata": {},
          "output_type": "execute_result"
        }
      ],
      "source": [
        "import pandas as pd\n",
        "\n",
        "# Load the provided data\n",
        "#file_path = '/content/drive/My Drive/intern/historical.csv'\n",
        "#data = pd.read_csv(file_path)\n",
        "data = pd.read_csv('D:/Akademik/PLN/historical.csv')\n",
        "\n",
        "# Convert 'Datetime' to datetime objects\n",
        "data['Datetime'] = pd.to_datetime(data['Datetime'])\n",
        "data.set_index('Datetime', inplace=True)\n",
        "\n",
        "# Display the first few rows and summary statistics of the dataset\n",
        "data_info = data.info()\n",
        "data_head = data.head()\n",
        "data_description = data.describe()\n",
        "\n",
        "data_info, data_head, data_description"
      ]
    },
    {
      "cell_type": "code",
      "execution_count": 3,
      "metadata": {
        "colab": {
          "base_uri": "https://localhost:8080/"
        },
        "id": "7Ybay1WF0dbq",
        "outputId": "aa89f3e0-17f1-4dc6-ea8d-0759f4c1c67b"
      },
      "outputs": [
        {
          "data": {
            "text/plain": [
              "(9360, 2)"
            ]
          },
          "execution_count": 3,
          "metadata": {},
          "output_type": "execute_result"
        }
      ],
      "source": [
        "df = data.copy()\n",
        "df.shape"
      ]
    },
    {
      "cell_type": "code",
      "execution_count": 4,
      "metadata": {
        "colab": {
          "base_uri": "https://localhost:8080/",
          "height": 238
        },
        "id": "gO5_YXTj0dd9",
        "outputId": "18ecbefc-4162-4d54-a7bc-3a3c5d9e5598"
      },
      "outputs": [
        {
          "data": {
            "text/html": [
              "<div>\n",
              "<style scoped>\n",
              "    .dataframe tbody tr th:only-of-type {\n",
              "        vertical-align: middle;\n",
              "    }\n",
              "\n",
              "    .dataframe tbody tr th {\n",
              "        vertical-align: top;\n",
              "    }\n",
              "\n",
              "    .dataframe thead th {\n",
              "        text-align: right;\n",
              "    }\n",
              "</style>\n",
              "<table border=\"1\" class=\"dataframe\">\n",
              "  <thead>\n",
              "    <tr style=\"text-align: right;\">\n",
              "      <th></th>\n",
              "      <th>Suhu</th>\n",
              "      <th>MW</th>\n",
              "    </tr>\n",
              "    <tr>\n",
              "      <th>Datetime</th>\n",
              "      <th></th>\n",
              "      <th></th>\n",
              "    </tr>\n",
              "  </thead>\n",
              "  <tbody>\n",
              "    <tr>\n",
              "      <th>2024-01-09 00:30:00</th>\n",
              "      <td>21.50</td>\n",
              "      <td>23206.91</td>\n",
              "    </tr>\n",
              "    <tr>\n",
              "      <th>2024-01-09 01:00:00</th>\n",
              "      <td>21.30</td>\n",
              "      <td>22942.26</td>\n",
              "    </tr>\n",
              "    <tr>\n",
              "      <th>2024-01-09 01:30:00</th>\n",
              "      <td>21.30</td>\n",
              "      <td>22793.85</td>\n",
              "    </tr>\n",
              "    <tr>\n",
              "      <th>2024-01-09 02:00:00</th>\n",
              "      <td>21.55</td>\n",
              "      <td>22610.97</td>\n",
              "    </tr>\n",
              "    <tr>\n",
              "      <th>2024-01-09 02:30:00</th>\n",
              "      <td>21.55</td>\n",
              "      <td>22419.90</td>\n",
              "    </tr>\n",
              "  </tbody>\n",
              "</table>\n",
              "</div>"
            ],
            "text/plain": [
              "                      Suhu        MW\n",
              "Datetime                            \n",
              "2024-01-09 00:30:00  21.50  23206.91\n",
              "2024-01-09 01:00:00  21.30  22942.26\n",
              "2024-01-09 01:30:00  21.30  22793.85\n",
              "2024-01-09 02:00:00  21.55  22610.97\n",
              "2024-01-09 02:30:00  21.55  22419.90"
            ]
          },
          "execution_count": 4,
          "metadata": {},
          "output_type": "execute_result"
        }
      ],
      "source": [
        "df.head()"
      ]
    },
    {
      "cell_type": "code",
      "execution_count": 5,
      "metadata": {
        "colab": {
          "base_uri": "https://localhost:8080/"
        },
        "id": "xLGHYpI50dgc",
        "outputId": "c6a13b96-bb23-487a-cf01-880193ae314c"
      },
      "outputs": [
        {
          "name": "stdout",
          "output_type": "stream",
          "text": [
            "(8319, 2)\n",
            "(1041, 2)\n"
          ]
        }
      ],
      "source": [
        "# Split train test set\n",
        "test_split=round(len(df)*0.20)\n",
        "df_for_training=df[:-1041]\n",
        "df_for_testing=df[-1041:]\n",
        "print(df_for_training.shape)\n",
        "print(df_for_testing.shape)"
      ]
    },
    {
      "cell_type": "code",
      "execution_count": 6,
      "metadata": {
        "colab": {
          "base_uri": "https://localhost:8080/"
        },
        "id": "RQICjLOm0-Gu",
        "outputId": "4b4b82db-02a1-41c5-be2a-29264ba5afe6"
      },
      "outputs": [
        {
          "data": {
            "text/plain": [
              "array([[0.33823529, 0.50639895],\n",
              "       [0.31862745, 0.49031726],\n",
              "       [0.31862745, 0.481299  ],\n",
              "       ...,\n",
              "       [0.29411765, 0.5259297 ],\n",
              "       [0.44117647, 0.55492048],\n",
              "       [0.44117647, 0.62383869]])"
            ]
          },
          "execution_count": 6,
          "metadata": {},
          "output_type": "execute_result"
        }
      ],
      "source": [
        "# Normalization\n",
        "scaler = MinMaxScaler(feature_range=(0,1))\n",
        "df_for_training_scaled = scaler.fit_transform(df_for_training)\n",
        "df_for_testing_scaled=scaler.transform(df_for_testing)\n",
        "df_for_training_scaled"
      ]
    },
    {
      "cell_type": "markdown",
      "metadata": {
        "id": "n_qVAUGO1iMN"
      },
      "source": [
        "# GRU\n"
      ]
    },
    {
      "cell_type": "code",
      "execution_count": 7,
      "metadata": {
        "id": "s013Ij6F1jwP"
      },
      "outputs": [],
      "source": [
        "# Membuat sekuens\n",
        "def createXY(dataset,n_past):\n",
        "    dataX = []\n",
        "    dataY = []\n",
        "    for i in range(n_past, len(dataset)):\n",
        "            dataX.append(dataset[i - n_past:i, 0:dataset.shape[1]])\n",
        "            dataY.append(dataset[i, 1])\n",
        "    return np.array(dataX),np.array(dataY)\n",
        "trainX,trainY=createXY(df_for_training_scaled,30)\n",
        "testX,testY=createXY(df_for_testing_scaled,30)"
      ]
    },
    {
      "cell_type": "code",
      "execution_count": 8,
      "metadata": {
        "colab": {
          "base_uri": "https://localhost:8080/"
        },
        "id": "UuW9SUdc1jyW",
        "outputId": "59f927e5-6906-4c27-fba0-4aa91eb49348"
      },
      "outputs": [
        {
          "name": "stdout",
          "output_type": "stream",
          "text": [
            "trainX Shape--  (8289, 30, 2)\n",
            "trainY Shape--  (8289,)\n"
          ]
        }
      ],
      "source": [
        "print(\"trainX Shape-- \",trainX.shape)\n",
        "print(\"trainY Shape-- \",trainY.shape)"
      ]
    },
    {
      "cell_type": "code",
      "execution_count": 9,
      "metadata": {
        "colab": {
          "base_uri": "https://localhost:8080/"
        },
        "id": "wxoFNAvd1j04",
        "outputId": "7fe8297c-740d-481b-a219-c693d7b1a87b"
      },
      "outputs": [
        {
          "name": "stdout",
          "output_type": "stream",
          "text": [
            "testX Shape--  (1011, 30, 2)\n",
            "testY Shape--  (1011,)\n"
          ]
        }
      ],
      "source": [
        "print(\"testX Shape-- \",testX.shape)\n",
        "print(\"testY Shape-- \",testY.shape)"
      ]
    },
    {
      "cell_type": "code",
      "execution_count": 10,
      "metadata": {
        "colab": {
          "base_uri": "https://localhost:8080/"
        },
        "id": "qmBO3ik11rnJ",
        "outputId": "9a9820b8-64e1-414c-9ce2-03e5c1241df5"
      },
      "outputs": [
        {
          "name": "stdout",
          "output_type": "stream",
          "text": [
            "trainX[0]-- \n",
            " [[0.33823529 0.50639895]\n",
            " [0.31862745 0.49031726]\n",
            " [0.31862745 0.481299  ]\n",
            " [0.34313725 0.47018614]\n",
            " [0.34313725 0.45857561]\n",
            " [0.32843137 0.44214695]\n",
            " [0.32843137 0.45142712]\n",
            " [0.32352941 0.45842977]\n",
            " [0.32352941 0.49566648]\n",
            " [0.31862745 0.52695847]\n",
            " [0.31862745 0.55334969]\n",
            " [0.3627451  0.5362362 ]\n",
            " [0.3627451  0.52933867]\n",
            " [0.53431373 0.52660299]\n",
            " [0.53431373 0.59723722]\n",
            " [0.62254902 0.65010412]\n",
            " [0.62254902 0.71629333]\n",
            " [0.75       0.74443765]\n",
            " [0.75       0.77472639]\n",
            " [0.85294118 0.80948446]\n",
            " [0.85294118 0.82070913]\n",
            " [0.89215686 0.82669395]\n",
            " [0.89215686 0.82135142]\n",
            " [0.75       0.76782764]\n",
            " [0.75       0.77344727]\n",
            " [0.74509804 0.81729773]\n",
            " [0.74509804 0.86774068]\n",
            " [0.75490196 0.8745817 ]\n",
            " [0.75490196 0.87214378]\n",
            " [0.59313725 0.85417531]]\n",
            "trainY[0]--  0.8594418899153593\n"
          ]
        }
      ],
      "source": [
        "print(\"trainX[0]-- \\n\",trainX[0])\n",
        "print(\"trainY[0]-- \",trainY[0])"
      ]
    },
    {
      "cell_type": "code",
      "execution_count": 11,
      "metadata": {
        "colab": {
          "base_uri": "https://localhost:8080/",
          "height": 532
        },
        "id": "hOsBAwbA1rpG",
        "outputId": "6fed66e2-0965-4ee0-bff9-ddbd77beb21a"
      },
      "outputs": [
        {
          "name": "stderr",
          "output_type": "stream",
          "text": [
            "C:\\Users\\fatih\\AppData\\Local\\Temp\\ipykernel_50620\\1163741390.py:19: DeprecationWarning: KerasRegressor is deprecated, use Sci-Keras (https://github.com/adriangb/scikeras) instead. See https://www.adriangb.com/scikeras/stable/migration.html for help migrating.\n",
            "  model = KerasRegressor(build_fn=create_gru_model, verbose=0)\n"
          ]
        },
        {
          "name": "stdout",
          "output_type": "stream",
          "text": [
            "Fitting 3 folds for each of 36 candidates, totalling 108 fits\n",
            "[CV] END batch_size=16, dropout_rate=0.2, epochs=40, units=50; total time= 2.2min\n",
            "[CV] END batch_size=16, dropout_rate=0.2, epochs=40, units=50; total time= 2.1min\n",
            "[CV] END batch_size=16, dropout_rate=0.2, epochs=40, units=50; total time= 2.3min\n",
            "[CV] END batch_size=16, dropout_rate=0.2, epochs=40, units=100; total time= 2.8min\n",
            "[CV] END batch_size=16, dropout_rate=0.2, epochs=40, units=100; total time= 2.5min\n",
            "[CV] END batch_size=16, dropout_rate=0.2, epochs=40, units=100; total time= 3.2min\n",
            "[CV] END batch_size=16, dropout_rate=0.2, epochs=40, units=150; total time= 6.0min\n",
            "[CV] END batch_size=16, dropout_rate=0.2, epochs=40, units=150; total time= 7.0min\n",
            "[CV] END batch_size=16, dropout_rate=0.2, epochs=40, units=150; total time= 6.6min\n",
            "[CV] END batch_size=16, dropout_rate=0.2, epochs=60, units=50; total time= 3.4min\n",
            "[CV] END batch_size=16, dropout_rate=0.2, epochs=60, units=50; total time= 3.6min\n",
            "[CV] END batch_size=16, dropout_rate=0.2, epochs=60, units=50; total time= 3.5min\n",
            "[CV] END batch_size=16, dropout_rate=0.2, epochs=60, units=100; total time= 6.0min\n",
            "[CV] END batch_size=16, dropout_rate=0.2, epochs=60, units=100; total time= 5.8min\n",
            "[CV] END batch_size=16, dropout_rate=0.2, epochs=60, units=100; total time= 6.8min\n",
            "[CV] END batch_size=16, dropout_rate=0.2, epochs=60, units=150; total time=15.6min\n",
            "[CV] END batch_size=16, dropout_rate=0.2, epochs=60, units=150; total time=15.8min\n",
            "[CV] END batch_size=16, dropout_rate=0.2, epochs=60, units=150; total time=17.0min\n",
            "[CV] END batch_size=16, dropout_rate=0.3, epochs=40, units=50; total time= 2.9min\n",
            "[CV] END batch_size=16, dropout_rate=0.3, epochs=40, units=50; total time= 2.9min\n",
            "[CV] END batch_size=16, dropout_rate=0.3, epochs=40, units=50; total time= 3.0min\n",
            "[CV] END batch_size=16, dropout_rate=0.3, epochs=40, units=100; total time= 4.6min\n",
            "[CV] END batch_size=16, dropout_rate=0.3, epochs=40, units=100; total time= 4.7min\n",
            "[CV] END batch_size=16, dropout_rate=0.3, epochs=40, units=100; total time= 4.5min\n",
            "[CV] END batch_size=16, dropout_rate=0.3, epochs=40, units=150; total time= 9.8min\n",
            "[CV] END batch_size=16, dropout_rate=0.3, epochs=40, units=150; total time=11.0min\n",
            "[CV] END batch_size=16, dropout_rate=0.3, epochs=40, units=150; total time=10.8min\n",
            "[CV] END batch_size=16, dropout_rate=0.3, epochs=60, units=50; total time= 4.9min\n",
            "[CV] END batch_size=16, dropout_rate=0.3, epochs=60, units=50; total time= 4.7min\n",
            "[CV] END batch_size=16, dropout_rate=0.3, epochs=60, units=50; total time= 4.9min\n",
            "[CV] END batch_size=16, dropout_rate=0.3, epochs=60, units=100; total time= 7.7min\n",
            "[CV] END batch_size=16, dropout_rate=0.3, epochs=60, units=100; total time= 7.4min\n",
            "[CV] END batch_size=16, dropout_rate=0.3, epochs=60, units=100; total time= 7.6min\n",
            "[CV] END batch_size=16, dropout_rate=0.3, epochs=60, units=150; total time=15.9min\n",
            "[CV] END batch_size=16, dropout_rate=0.3, epochs=60, units=150; total time=15.7min\n",
            "[CV] END batch_size=16, dropout_rate=0.3, epochs=60, units=150; total time=16.9min\n",
            "[CV] END batch_size=16, dropout_rate=0.4, epochs=40, units=50; total time= 3.4min\n",
            "[CV] END batch_size=16, dropout_rate=0.4, epochs=40, units=50; total time= 3.2min\n",
            "[CV] END batch_size=16, dropout_rate=0.4, epochs=40, units=50; total time= 3.3min\n",
            "[CV] END batch_size=16, dropout_rate=0.4, epochs=40, units=100; total time= 5.0min\n",
            "[CV] END batch_size=16, dropout_rate=0.4, epochs=40, units=100; total time= 5.2min\n",
            "[CV] END batch_size=16, dropout_rate=0.4, epochs=40, units=100; total time= 5.0min\n",
            "[CV] END batch_size=16, dropout_rate=0.4, epochs=40, units=150; total time=10.6min\n",
            "[CV] END batch_size=16, dropout_rate=0.4, epochs=40, units=150; total time=11.5min\n",
            "[CV] END batch_size=16, dropout_rate=0.4, epochs=40, units=150; total time=11.9min\n",
            "[CV] END batch_size=16, dropout_rate=0.4, epochs=60, units=50; total time= 5.8min\n",
            "[CV] END batch_size=16, dropout_rate=0.4, epochs=60, units=50; total time= 5.5min\n",
            "[CV] END batch_size=16, dropout_rate=0.4, epochs=60, units=50; total time= 4.7min\n",
            "[CV] END batch_size=16, dropout_rate=0.4, epochs=60, units=100; total time= 8.8min\n",
            "[CV] END batch_size=16, dropout_rate=0.4, epochs=60, units=100; total time= 8.4min\n",
            "[CV] END batch_size=16, dropout_rate=0.4, epochs=60, units=100; total time= 8.9min\n",
            "[CV] END batch_size=16, dropout_rate=0.4, epochs=60, units=150; total time=16.6min\n",
            "[CV] END batch_size=16, dropout_rate=0.4, epochs=60, units=150; total time=15.9min\n",
            "[CV] END batch_size=16, dropout_rate=0.4, epochs=60, units=150; total time=17.7min\n",
            "[CV] END batch_size=32, dropout_rate=0.2, epochs=40, units=50; total time= 2.0min\n",
            "[CV] END batch_size=32, dropout_rate=0.2, epochs=40, units=50; total time= 1.9min\n",
            "[CV] END batch_size=32, dropout_rate=0.2, epochs=40, units=50; total time= 2.0min\n",
            "[CV] END batch_size=32, dropout_rate=0.2, epochs=40, units=100; total time= 5.0min\n",
            "[CV] END batch_size=32, dropout_rate=0.2, epochs=40, units=100; total time= 6.1min\n",
            "[CV] END batch_size=32, dropout_rate=0.2, epochs=40, units=100; total time= 5.6min\n",
            "[CV] END batch_size=32, dropout_rate=0.2, epochs=40, units=150; total time=11.4min\n",
            "[CV] END batch_size=32, dropout_rate=0.2, epochs=40, units=150; total time=12.4min\n",
            "[CV] END batch_size=32, dropout_rate=0.2, epochs=40, units=150; total time=10.6min\n",
            "[CV] END batch_size=32, dropout_rate=0.2, epochs=60, units=50; total time= 2.8min\n",
            "[CV] END batch_size=32, dropout_rate=0.2, epochs=60, units=50; total time= 2.6min\n",
            "[CV] END batch_size=32, dropout_rate=0.2, epochs=60, units=50; total time= 2.5min\n",
            "[CV] END batch_size=32, dropout_rate=0.2, epochs=60, units=100; total time= 7.6min\n",
            "[CV] END batch_size=32, dropout_rate=0.2, epochs=60, units=100; total time= 7.0min\n",
            "[CV] END batch_size=32, dropout_rate=0.2, epochs=60, units=100; total time= 6.1min\n",
            "[CV] END batch_size=32, dropout_rate=0.2, epochs=60, units=150; total time=11.4min\n",
            "[CV] END batch_size=32, dropout_rate=0.2, epochs=60, units=150; total time=10.7min\n",
            "[CV] END batch_size=32, dropout_rate=0.2, epochs=60, units=150; total time=11.4min\n",
            "[CV] END batch_size=32, dropout_rate=0.3, epochs=40, units=50; total time= 1.6min\n",
            "[CV] END batch_size=32, dropout_rate=0.3, epochs=40, units=50; total time= 1.5min\n",
            "[CV] END batch_size=32, dropout_rate=0.3, epochs=40, units=50; total time= 1.6min\n",
            "[CV] END batch_size=32, dropout_rate=0.3, epochs=40, units=100; total time= 4.1min\n",
            "[CV] END batch_size=32, dropout_rate=0.3, epochs=40, units=100; total time= 4.4min\n",
            "[CV] END batch_size=32, dropout_rate=0.3, epochs=40, units=100; total time= 4.2min\n",
            "[CV] END batch_size=32, dropout_rate=0.3, epochs=40, units=150; total time= 6.9min\n",
            "[CV] END batch_size=32, dropout_rate=0.3, epochs=40, units=150; total time= 7.6min\n",
            "[CV] END batch_size=32, dropout_rate=0.3, epochs=40, units=150; total time= 7.2min\n",
            "[CV] END batch_size=32, dropout_rate=0.3, epochs=60, units=50; total time= 2.3min\n",
            "[CV] END batch_size=32, dropout_rate=0.3, epochs=60, units=50; total time= 2.3min\n",
            "[CV] END batch_size=32, dropout_rate=0.3, epochs=60, units=50; total time= 2.3min\n",
            "[CV] END batch_size=32, dropout_rate=0.3, epochs=60, units=100; total time= 6.4min\n",
            "[CV] END batch_size=32, dropout_rate=0.3, epochs=60, units=100; total time= 6.0min\n",
            "[CV] END batch_size=32, dropout_rate=0.3, epochs=60, units=100; total time= 5.7min\n",
            "[CV] END batch_size=32, dropout_rate=0.3, epochs=60, units=150; total time=10.9min\n",
            "[CV] END batch_size=32, dropout_rate=0.3, epochs=60, units=150; total time=10.4min\n",
            "[CV] END batch_size=32, dropout_rate=0.3, epochs=60, units=150; total time=11.0min\n",
            "[CV] END batch_size=32, dropout_rate=0.4, epochs=40, units=50; total time= 1.5min\n",
            "[CV] END batch_size=32, dropout_rate=0.4, epochs=40, units=50; total time= 1.5min\n",
            "[CV] END batch_size=32, dropout_rate=0.4, epochs=40, units=50; total time= 1.6min\n",
            "[CV] END batch_size=32, dropout_rate=0.4, epochs=40, units=100; total time= 4.0min\n",
            "[CV] END batch_size=32, dropout_rate=0.4, epochs=40, units=100; total time= 3.7min\n",
            "[CV] END batch_size=32, dropout_rate=0.4, epochs=40, units=100; total time= 3.9min\n",
            "[CV] END batch_size=32, dropout_rate=0.4, epochs=40, units=150; total time= 6.6min\n",
            "[CV] END batch_size=32, dropout_rate=0.4, epochs=40, units=150; total time= 7.4min\n",
            "[CV] END batch_size=32, dropout_rate=0.4, epochs=40, units=150; total time= 7.0min\n",
            "[CV] END batch_size=32, dropout_rate=0.4, epochs=60, units=50; total time= 2.2min\n",
            "[CV] END batch_size=32, dropout_rate=0.4, epochs=60, units=50; total time= 2.3min\n",
            "[CV] END batch_size=32, dropout_rate=0.4, epochs=60, units=50; total time= 2.2min\n",
            "[CV] END batch_size=32, dropout_rate=0.4, epochs=60, units=100; total time= 6.2min\n",
            "[CV] END batch_size=32, dropout_rate=0.4, epochs=60, units=100; total time= 5.9min\n",
            "[CV] END batch_size=32, dropout_rate=0.4, epochs=60, units=100; total time= 5.6min\n",
            "[CV] END batch_size=32, dropout_rate=0.4, epochs=60, units=150; total time=11.1min\n",
            "[CV] END batch_size=32, dropout_rate=0.4, epochs=60, units=150; total time=10.6min\n",
            "[CV] END batch_size=32, dropout_rate=0.4, epochs=60, units=150; total time=11.0min\n",
            "Best: -0.000258 using {'batch_size': 32, 'dropout_rate': 0.2, 'epochs': 60, 'units': 150}\n"
          ]
        }
      ],
      "source": [
        "import tensorflow as tf\n",
        "from tensorflow.keras.models import Sequential\n",
        "from tensorflow.keras.layers import GRU, Dense, Dropout\n",
        "from tensorflow.keras.wrappers.scikit_learn import KerasRegressor\n",
        "from sklearn.model_selection import GridSearchCV\n",
        "\n",
        "# Build the LSTM Model\n",
        "def create_gru_model(units=50, dropout_rate=0.2):\n",
        "    model = Sequential()\n",
        "    model.add(GRU(units=units, return_sequences=True, input_shape=(trainX.shape[1], trainX.shape[2])))\n",
        "    model.add(Dropout(dropout_rate))\n",
        "    model.add(GRU(units=units))\n",
        "    model.add(Dropout(dropout_rate))\n",
        "    model.add(Dense(1))  # Single output for regression\n",
        "    model.compile(optimizer='adam', loss='mse', metrics=['mae'])\n",
        "    return model\n",
        "\n",
        "\n",
        "model = KerasRegressor(build_fn=create_gru_model, verbose=0)\n",
        "param_grid = {\n",
        "    'units': [50, 100, 150],\n",
        "    'dropout_rate': [0.2, 0.3, 0.4],\n",
        "    'batch_size': [16, 32],\n",
        "    'epochs': [40, 60]\n",
        "}\n",
        "\n",
        "\n",
        "grid = GridSearchCV(estimator=model, param_grid=param_grid, cv=3, verbose=2)\n",
        "grid_result = grid.fit(trainX, trainY)\n",
        "best_model = grid_result.best_estimator_.model\n",
        "print(\"Best: %f using %s\" % (grid_result.best_score_, grid_result.best_params_))\n",
        "\n"
      ]
    },
    {
      "cell_type": "code",
      "execution_count": 50,
      "metadata": {
        "colab": {
          "base_uri": "https://localhost:8080/"
        },
        "id": "1hDXSDi41rtj",
        "outputId": "c69edb2c-deac-42cc-ea3b-ed0363451ee8"
      },
      "outputs": [
        {
          "name": "stdout",
          "output_type": "stream",
          "text": [
            "32/32 [==============================] - 0s 11ms/step\n"
          ]
        },
        {
          "ename": "ValueError",
          "evalue": "the 'axis' parameter is not supported in the pandas implementation of repeat()",
          "output_type": "error",
          "traceback": [
            "\u001b[1;31m---------------------------------------------------------------------------\u001b[0m",
            "\u001b[1;31mValueError\u001b[0m                                Traceback (most recent call last)",
            "Cell \u001b[1;32mIn[50], line 10\u001b[0m\n\u001b[0;32m      7\u001b[0m gru_prediction_copies_array \u001b[38;5;241m=\u001b[39m np\u001b[38;5;241m.\u001b[39mrepeat(y_pred_gru,\u001b[38;5;241m2\u001b[39m, axis\u001b[38;5;241m=\u001b[39m\u001b[38;5;241m-\u001b[39m\u001b[38;5;241m1\u001b[39m)\n\u001b[0;32m      8\u001b[0m gru_pred\u001b[38;5;241m=\u001b[39mscaler\u001b[38;5;241m.\u001b[39minverse_transform(np\u001b[38;5;241m.\u001b[39mreshape(gru_prediction_copies_array,(\u001b[38;5;28mlen\u001b[39m(y_pred_gru),\u001b[38;5;241m2\u001b[39m)))[:,\u001b[38;5;241m1\u001b[39m]\n\u001b[1;32m---> 10\u001b[0m original_copies_array \u001b[38;5;241m=\u001b[39m \u001b[43mnp\u001b[49m\u001b[38;5;241;43m.\u001b[39;49m\u001b[43mrepeat\u001b[49m\u001b[43m(\u001b[49m\u001b[43mtestY\u001b[49m\u001b[43m,\u001b[49m\u001b[38;5;241;43m2\u001b[39;49m\u001b[43m,\u001b[49m\u001b[43m \u001b[49m\u001b[43maxis\u001b[49m\u001b[38;5;241;43m=\u001b[39;49m\u001b[38;5;241;43m-\u001b[39;49m\u001b[38;5;241;43m1\u001b[39;49m\u001b[43m)\u001b[49m\n\u001b[0;32m     11\u001b[0m original\u001b[38;5;241m=\u001b[39mscaler\u001b[38;5;241m.\u001b[39minverse_transform(np\u001b[38;5;241m.\u001b[39mreshape(original_copies_array,(\u001b[38;5;28mlen\u001b[39m(testY),\u001b[38;5;241m2\u001b[39m)))[:,\u001b[38;5;241m1\u001b[39m]\n\u001b[0;32m     13\u001b[0m \u001b[38;5;28mprint\u001b[39m(\u001b[38;5;124m\"\u001b[39m\u001b[38;5;124mPred Values-- \u001b[39m\u001b[38;5;124m\"\u001b[39m ,gru_pred)\n",
            "File \u001b[1;32m<__array_function__ internals>:180\u001b[0m, in \u001b[0;36mrepeat\u001b[1;34m(*args, **kwargs)\u001b[0m\n",
            "File \u001b[1;32mc:\\Users\\fatih\\AppData\\Local\\Programs\\Python\\Python310\\lib\\site-packages\\numpy\\core\\fromnumeric.py:479\u001b[0m, in \u001b[0;36mrepeat\u001b[1;34m(a, repeats, axis)\u001b[0m\n\u001b[0;32m    436\u001b[0m \u001b[38;5;129m@array_function_dispatch\u001b[39m(_repeat_dispatcher)\n\u001b[0;32m    437\u001b[0m \u001b[38;5;28;01mdef\u001b[39;00m \u001b[38;5;21mrepeat\u001b[39m(a, repeats, axis\u001b[38;5;241m=\u001b[39m\u001b[38;5;28;01mNone\u001b[39;00m):\n\u001b[0;32m    438\u001b[0m \u001b[38;5;250m    \u001b[39m\u001b[38;5;124;03m\"\"\"\u001b[39;00m\n\u001b[0;32m    439\u001b[0m \u001b[38;5;124;03m    Repeat elements of an array.\u001b[39;00m\n\u001b[0;32m    440\u001b[0m \n\u001b[1;32m   (...)\u001b[0m\n\u001b[0;32m    477\u001b[0m \n\u001b[0;32m    478\u001b[0m \u001b[38;5;124;03m    \"\"\"\u001b[39;00m\n\u001b[1;32m--> 479\u001b[0m     \u001b[38;5;28;01mreturn\u001b[39;00m \u001b[43m_wrapfunc\u001b[49m\u001b[43m(\u001b[49m\u001b[43ma\u001b[49m\u001b[43m,\u001b[49m\u001b[43m \u001b[49m\u001b[38;5;124;43m'\u001b[39;49m\u001b[38;5;124;43mrepeat\u001b[39;49m\u001b[38;5;124;43m'\u001b[39;49m\u001b[43m,\u001b[49m\u001b[43m \u001b[49m\u001b[43mrepeats\u001b[49m\u001b[43m,\u001b[49m\u001b[43m \u001b[49m\u001b[43maxis\u001b[49m\u001b[38;5;241;43m=\u001b[39;49m\u001b[43maxis\u001b[49m\u001b[43m)\u001b[49m\n",
            "File \u001b[1;32mc:\\Users\\fatih\\AppData\\Local\\Programs\\Python\\Python310\\lib\\site-packages\\numpy\\core\\fromnumeric.py:57\u001b[0m, in \u001b[0;36m_wrapfunc\u001b[1;34m(obj, method, *args, **kwds)\u001b[0m\n\u001b[0;32m     54\u001b[0m     \u001b[38;5;28;01mreturn\u001b[39;00m _wrapit(obj, method, \u001b[38;5;241m*\u001b[39margs, \u001b[38;5;241m*\u001b[39m\u001b[38;5;241m*\u001b[39mkwds)\n\u001b[0;32m     56\u001b[0m \u001b[38;5;28;01mtry\u001b[39;00m:\n\u001b[1;32m---> 57\u001b[0m     \u001b[38;5;28;01mreturn\u001b[39;00m bound(\u001b[38;5;241m*\u001b[39margs, \u001b[38;5;241m*\u001b[39m\u001b[38;5;241m*\u001b[39mkwds)\n\u001b[0;32m     58\u001b[0m \u001b[38;5;28;01mexcept\u001b[39;00m \u001b[38;5;167;01mTypeError\u001b[39;00m:\n\u001b[0;32m     59\u001b[0m     \u001b[38;5;66;03m# A TypeError occurs if the object does have such a method in its\u001b[39;00m\n\u001b[0;32m     60\u001b[0m     \u001b[38;5;66;03m# class, but its signature is not identical to that of NumPy's. This\u001b[39;00m\n\u001b[1;32m   (...)\u001b[0m\n\u001b[0;32m     64\u001b[0m     \u001b[38;5;66;03m# Call _wrapit from within the except clause to ensure a potential\u001b[39;00m\n\u001b[0;32m     65\u001b[0m     \u001b[38;5;66;03m# exception has a traceback chain.\u001b[39;00m\n\u001b[0;32m     66\u001b[0m     \u001b[38;5;28;01mreturn\u001b[39;00m _wrapit(obj, method, \u001b[38;5;241m*\u001b[39margs, \u001b[38;5;241m*\u001b[39m\u001b[38;5;241m*\u001b[39mkwds)\n",
            "File \u001b[1;32mc:\\Users\\fatih\\AppData\\Local\\Programs\\Python\\Python310\\lib\\site-packages\\pandas\\core\\indexes\\base.py:1241\u001b[0m, in \u001b[0;36mIndex.repeat\u001b[1;34m(self, repeats, axis)\u001b[0m\n\u001b[0;32m   1238\u001b[0m \u001b[38;5;129m@Appender\u001b[39m(_index_shared_docs[\u001b[38;5;124m\"\u001b[39m\u001b[38;5;124mrepeat\u001b[39m\u001b[38;5;124m\"\u001b[39m] \u001b[38;5;241m%\u001b[39m _index_doc_kwargs)\n\u001b[0;32m   1239\u001b[0m \u001b[38;5;28;01mdef\u001b[39;00m \u001b[38;5;21mrepeat\u001b[39m(\u001b[38;5;28mself\u001b[39m, repeats, axis: \u001b[38;5;28;01mNone\u001b[39;00m \u001b[38;5;241m=\u001b[39m \u001b[38;5;28;01mNone\u001b[39;00m) \u001b[38;5;241m-\u001b[39m\u001b[38;5;241m>\u001b[39m Self:\n\u001b[0;32m   1240\u001b[0m     repeats \u001b[38;5;241m=\u001b[39m ensure_platform_int(repeats)\n\u001b[1;32m-> 1241\u001b[0m     \u001b[43mnv\u001b[49m\u001b[38;5;241;43m.\u001b[39;49m\u001b[43mvalidate_repeat\u001b[49m\u001b[43m(\u001b[49m\u001b[43m(\u001b[49m\u001b[43m)\u001b[49m\u001b[43m,\u001b[49m\u001b[43m \u001b[49m\u001b[43m{\u001b[49m\u001b[38;5;124;43m\"\u001b[39;49m\u001b[38;5;124;43maxis\u001b[39;49m\u001b[38;5;124;43m\"\u001b[39;49m\u001b[43m:\u001b[49m\u001b[43m \u001b[49m\u001b[43maxis\u001b[49m\u001b[43m}\u001b[49m\u001b[43m)\u001b[49m\n\u001b[0;32m   1242\u001b[0m     res_values \u001b[38;5;241m=\u001b[39m \u001b[38;5;28mself\u001b[39m\u001b[38;5;241m.\u001b[39m_values\u001b[38;5;241m.\u001b[39mrepeat(repeats)\n\u001b[0;32m   1244\u001b[0m     \u001b[38;5;66;03m# _constructor so RangeIndex-> Index with an int64 dtype\u001b[39;00m\n",
            "File \u001b[1;32mc:\\Users\\fatih\\AppData\\Local\\Programs\\Python\\Python310\\lib\\site-packages\\pandas\\compat\\numpy\\function.py:88\u001b[0m, in \u001b[0;36mCompatValidator.__call__\u001b[1;34m(self, args, kwargs, fname, max_fname_arg_count, method)\u001b[0m\n\u001b[0;32m     86\u001b[0m     validate_kwargs(fname, kwargs, \u001b[38;5;28mself\u001b[39m\u001b[38;5;241m.\u001b[39mdefaults)\n\u001b[0;32m     87\u001b[0m \u001b[38;5;28;01melif\u001b[39;00m method \u001b[38;5;241m==\u001b[39m \u001b[38;5;124m\"\u001b[39m\u001b[38;5;124mboth\u001b[39m\u001b[38;5;124m\"\u001b[39m:\n\u001b[1;32m---> 88\u001b[0m     \u001b[43mvalidate_args_and_kwargs\u001b[49m\u001b[43m(\u001b[49m\n\u001b[0;32m     89\u001b[0m \u001b[43m        \u001b[49m\u001b[43mfname\u001b[49m\u001b[43m,\u001b[49m\u001b[43m \u001b[49m\u001b[43margs\u001b[49m\u001b[43m,\u001b[49m\u001b[43m \u001b[49m\u001b[43mkwargs\u001b[49m\u001b[43m,\u001b[49m\u001b[43m \u001b[49m\u001b[43mmax_fname_arg_count\u001b[49m\u001b[43m,\u001b[49m\u001b[43m \u001b[49m\u001b[38;5;28;43mself\u001b[39;49m\u001b[38;5;241;43m.\u001b[39;49m\u001b[43mdefaults\u001b[49m\n\u001b[0;32m     90\u001b[0m \u001b[43m    \u001b[49m\u001b[43m)\u001b[49m\n\u001b[0;32m     91\u001b[0m \u001b[38;5;28;01melse\u001b[39;00m:\n\u001b[0;32m     92\u001b[0m     \u001b[38;5;28;01mraise\u001b[39;00m \u001b[38;5;167;01mValueError\u001b[39;00m(\u001b[38;5;124mf\u001b[39m\u001b[38;5;124m\"\u001b[39m\u001b[38;5;124minvalid validation method \u001b[39m\u001b[38;5;124m'\u001b[39m\u001b[38;5;132;01m{\u001b[39;00mmethod\u001b[38;5;132;01m}\u001b[39;00m\u001b[38;5;124m'\u001b[39m\u001b[38;5;124m\"\u001b[39m)\n",
            "File \u001b[1;32mc:\\Users\\fatih\\AppData\\Local\\Programs\\Python\\Python310\\lib\\site-packages\\pandas\\util\\_validators.py:223\u001b[0m, in \u001b[0;36mvalidate_args_and_kwargs\u001b[1;34m(fname, args, kwargs, max_fname_arg_count, compat_args)\u001b[0m\n\u001b[0;32m    218\u001b[0m         \u001b[38;5;28;01mraise\u001b[39;00m \u001b[38;5;167;01mTypeError\u001b[39;00m(\n\u001b[0;32m    219\u001b[0m             \u001b[38;5;124mf\u001b[39m\u001b[38;5;124m\"\u001b[39m\u001b[38;5;132;01m{\u001b[39;00mfname\u001b[38;5;132;01m}\u001b[39;00m\u001b[38;5;124m() got multiple values for keyword argument \u001b[39m\u001b[38;5;124m'\u001b[39m\u001b[38;5;132;01m{\u001b[39;00mkey\u001b[38;5;132;01m}\u001b[39;00m\u001b[38;5;124m'\u001b[39m\u001b[38;5;124m\"\u001b[39m\n\u001b[0;32m    220\u001b[0m         )\n\u001b[0;32m    222\u001b[0m kwargs\u001b[38;5;241m.\u001b[39mupdate(args_dict)\n\u001b[1;32m--> 223\u001b[0m \u001b[43mvalidate_kwargs\u001b[49m\u001b[43m(\u001b[49m\u001b[43mfname\u001b[49m\u001b[43m,\u001b[49m\u001b[43m \u001b[49m\u001b[43mkwargs\u001b[49m\u001b[43m,\u001b[49m\u001b[43m \u001b[49m\u001b[43mcompat_args\u001b[49m\u001b[43m)\u001b[49m\n",
            "File \u001b[1;32mc:\\Users\\fatih\\AppData\\Local\\Programs\\Python\\Python310\\lib\\site-packages\\pandas\\util\\_validators.py:165\u001b[0m, in \u001b[0;36mvalidate_kwargs\u001b[1;34m(fname, kwargs, compat_args)\u001b[0m\n\u001b[0;32m    163\u001b[0m kwds \u001b[38;5;241m=\u001b[39m kwargs\u001b[38;5;241m.\u001b[39mcopy()\n\u001b[0;32m    164\u001b[0m _check_for_invalid_keys(fname, kwargs, compat_args)\n\u001b[1;32m--> 165\u001b[0m \u001b[43m_check_for_default_values\u001b[49m\u001b[43m(\u001b[49m\u001b[43mfname\u001b[49m\u001b[43m,\u001b[49m\u001b[43m \u001b[49m\u001b[43mkwds\u001b[49m\u001b[43m,\u001b[49m\u001b[43m \u001b[49m\u001b[43mcompat_args\u001b[49m\u001b[43m)\u001b[49m\n",
            "File \u001b[1;32mc:\\Users\\fatih\\AppData\\Local\\Programs\\Python\\Python310\\lib\\site-packages\\pandas\\util\\_validators.py:81\u001b[0m, in \u001b[0;36m_check_for_default_values\u001b[1;34m(fname, arg_val_dict, compat_args)\u001b[0m\n\u001b[0;32m     78\u001b[0m     match \u001b[38;5;241m=\u001b[39m arg_val_dict[key] \u001b[38;5;129;01mis\u001b[39;00m compat_args[key]\n\u001b[0;32m     80\u001b[0m \u001b[38;5;28;01mif\u001b[39;00m \u001b[38;5;129;01mnot\u001b[39;00m match:\n\u001b[1;32m---> 81\u001b[0m     \u001b[38;5;28;01mraise\u001b[39;00m \u001b[38;5;167;01mValueError\u001b[39;00m(\n\u001b[0;32m     82\u001b[0m         \u001b[38;5;124mf\u001b[39m\u001b[38;5;124m\"\u001b[39m\u001b[38;5;124mthe \u001b[39m\u001b[38;5;124m'\u001b[39m\u001b[38;5;132;01m{\u001b[39;00mkey\u001b[38;5;132;01m}\u001b[39;00m\u001b[38;5;124m'\u001b[39m\u001b[38;5;124m parameter is not supported in \u001b[39m\u001b[38;5;124m\"\u001b[39m\n\u001b[0;32m     83\u001b[0m         \u001b[38;5;124mf\u001b[39m\u001b[38;5;124m\"\u001b[39m\u001b[38;5;124mthe pandas implementation of \u001b[39m\u001b[38;5;132;01m{\u001b[39;00mfname\u001b[38;5;132;01m}\u001b[39;00m\u001b[38;5;124m()\u001b[39m\u001b[38;5;124m\"\u001b[39m\n\u001b[0;32m     84\u001b[0m     )\n",
            "\u001b[1;31mValueError\u001b[0m: the 'axis' parameter is not supported in the pandas implementation of repeat()"
          ]
        }
      ],
      "source": [
        "from sklearn.metrics import r2_score\n",
        "\n",
        "# Prediksi menggunakan model pada data pengujian\n",
        "y_pred_gru = best_model.predict(testX)\n",
        "\n",
        "# hasil estimasi/ prediksi menggunakan Xtest (reverse)\n",
        "gru_prediction_copies_array = np.repeat(y_pred_gru,2, axis=-1)\n",
        "gru_pred=scaler.inverse_transform(np.reshape(gru_prediction_copies_array,(len(y_pred_gru),2)))[:,1]\n",
        "\n",
        "original_copies_array = np.repeat(testY,2, axis=-1)\n",
        "original=scaler.inverse_transform(np.reshape(original_copies_array,(len(testY),2)))[:,1]\n",
        "\n",
        "print(\"Pred Values-- \" ,gru_pred)\n",
        "print(\"\\nOriginal Values-- \" ,original)\n",
        "\n",
        "\n",
        "# Metric score\n",
        "mae_gru = mean_absolute_error(original, gru_pred)\n",
        "mse_gru= mean_squared_error(original, gru_pred)\n",
        "rmse_gru= np.sqrt(mse_gru)\n",
        "mape_gru= np.mean(np.abs((original - gru_pred) / original)) * 100\n",
        "r2_gru = r2_score(original, gru_pred)\n",
        "\n",
        "print(f\"R2 gru: {r2_gru}\")\n",
        "print(f\"MAE gru: {mae_gru}\")\n",
        "print(f\"MSE gru: {mse_gru}\")\n",
        "print(f\"RMSE gru: {rmse_gru}\")\n",
        "print(f\"MAPE in % gru: {mape_gru}\")"
      ]
    },
    {
      "cell_type": "code",
      "execution_count": 53,
      "metadata": {},
      "outputs": [
        {
          "name": "stdout",
          "output_type": "stream",
          "text": [
            "Length of original: 1041\n",
            "Length of gru_pred: 1011\n"
          ]
        }
      ],
      "source": [
        "# Check the length of original and gru_pred\n",
        "print(f\"Length of original: {len(original)}\")\n",
        "print(f\"Length of gru_pred: {len(gru_pred)}\")"
      ]
    },
    {
      "cell_type": "code",
      "execution_count": 54,
      "metadata": {},
      "outputs": [
        {
          "name": "stdout",
          "output_type": "stream",
          "text": [
            "32/32 [==============================] - 0s 12ms/step\n",
            "Pred Values--  [25959.98  25441.209 25192.014 ... 25754.553 25012.568 24856.771]\n",
            "\n",
            "Original Values--  [2.83024202e+22 2.83024498e+22 2.83024794e+22 ... 2.83331677e+22\n",
            " 2.83331973e+22 2.83332260e+22]\n",
            "R2 gru: -10729012.671174325\n",
            "MAE gru: 2.831737921346828e+22\n",
            "MSE gru: 8.018740402582056e+44\n",
            "RMSE gru: 2.8317380533132043e+22\n",
            "MAPE in % gru: 100.0\n"
          ]
        }
      ],
      "source": [
        "import numpy as np\n",
        "\n",
        "# Ensure testY is a NumPy array\n",
        "testY = np.array(testY)  # Convert testY to a NumPy array if it's not already one\n",
        "\n",
        "# Prediksi menggunakan model pada data pengujian\n",
        "y_pred_gru = best_model.predict(testX)\n",
        "\n",
        "# hasil estimasi/ prediksi menggunakan Xtest (reverse)\n",
        "gru_prediction_copies_array = np.repeat(y_pred_gru, 2, axis=-1)\n",
        "gru_pred = scaler.inverse_transform(np.reshape(gru_prediction_copies_array, (len(y_pred_gru), 2)))[:, 1]\n",
        "\n",
        "# Safeguard to ensure testY is a NumPy array\n",
        "if not isinstance(testY, np.ndarray):\n",
        "    testY = np.array(testY)\n",
        "\n",
        "original_copies_array = np.repeat(testY, 2, axis=-1)\n",
        "original = scaler.inverse_transform(np.reshape(original_copies_array, (len(testY), 2)))[:, 1]\n",
        "\n",
        "print(\"Pred Values-- \", gru_pred)\n",
        "print(\"\\nOriginal Values-- \", original)\n",
        "\n",
        "# Ensure both arrays have the same length\n",
        "min_len = min(len(original), len(gru_pred))\n",
        "original = original[:min_len]\n",
        "gru_pred = gru_pred[:min_len]\n",
        "\n",
        "# Now you can safely calculate the metrics\n",
        "mae_gru = mean_absolute_error(original, gru_pred)\n",
        "mse_gru = mean_squared_error(original, gru_pred)\n",
        "rmse_gru = np.sqrt(mse_gru)\n",
        "mape_gru = np.mean(np.abs((original - gru_pred) / original)) * 100\n",
        "r2_gru = r2_score(original, gru_pred)\n",
        "\n",
        "print(f\"R2 gru: {r2_gru}\")\n",
        "print(f\"MAE gru: {mae_gru}\")\n",
        "print(f\"MSE gru: {mse_gru}\")\n",
        "print(f\"RMSE gru: {rmse_gru}\")\n",
        "print(f\"MAPE in % gru: {mape_gru}\")\n"
      ]
    },
    {
      "cell_type": "code",
      "execution_count": 55,
      "metadata": {},
      "outputs": [
        {
          "name": "stdout",
          "output_type": "stream",
          "text": [
            "Tipe data original: <class 'numpy.ndarray'>\n",
            "Tipe data gru_pred: <class 'numpy.ndarray'>\n",
            "Tipe elemen dalam original: float64\n",
            "Tipe elemen dalam gru_pred: float32\n"
          ]
        }
      ],
      "source": [
        "# Mengidentifikasi tipe data\n",
        "print(\"Tipe data original:\", type(original))\n",
        "print(\"Tipe data gru_pred:\", type(gru_pred))\n",
        "\n",
        "# Jika original dan gru_pred adalah numpy array, Anda bisa melihat tipe elemen dalam array\n",
        "if isinstance(original, np.ndarray):\n",
        "    print(\"Tipe elemen dalam original:\", original.dtype)\n",
        "\n",
        "if isinstance(gru_pred, np.ndarray):\n",
        "    print(\"Tipe elemen dalam gru_pred:\", gru_pred.dtype)"
      ]
    },
    {
      "cell_type": "code",
      "execution_count": 56,
      "metadata": {},
      "outputs": [
        {
          "name": "stdout",
          "output_type": "stream",
          "text": [
            "Isi original: [2.83024202e+22 2.83024498e+22 2.83024794e+22 ... 2.83322790e+22\n",
            " 2.83323087e+22 2.83323383e+22]\n",
            "Isi gru_pred: [25959.98  25441.209 25192.014 ... 25754.553 25012.568 24856.771]\n"
          ]
        }
      ],
      "source": [
        "print(\"Isi original:\", original)\n",
        "print(\"Isi gru_pred:\", gru_pred)"
      ]
    },
    {
      "cell_type": "code",
      "execution_count": 60,
      "metadata": {},
      "outputs": [
        {
          "name": "stdout",
          "output_type": "stream",
          "text": [
            "Panjang original: 1011\n",
            "Panjang gru_pred: 1011\n",
            "Panjang datetime_array: 1011\n"
          ]
        }
      ],
      "source": [
        "datetime_array = df_for_testing.index\n",
        "datetime_array = datetime_array[:len(original)]\n",
        "\n",
        "print(\"Panjang original:\", len(original))\n",
        "print(\"Panjang gru_pred:\", len(gru_pred))\n",
        "print(\"Panjang datetime_array:\", len(datetime_array))"
      ]
    },
    {
      "cell_type": "code",
      "execution_count": 62,
      "metadata": {},
      "outputs": [
        {
          "name": "stdout",
          "output_type": "stream",
          "text": [
            "Length of original: 1011\n",
            "Length of gru_pred: 1011\n",
            "Length of datetime_array: 1011\n",
            "Max length: 1011\n",
            "Adjusted length of datetime_array: 1011\n",
            "Length of original after adjustment: 1011\n",
            "Length of gru_pred after adjustment: 1011\n",
            "Length of MAPE values: 1011\n",
            "Length of RMSE values: 1011\n"
          ]
        },
        {
          "data": {
            "text/html": [
              "<div>\n",
              "<style scoped>\n",
              "    .dataframe tbody tr th:only-of-type {\n",
              "        vertical-align: middle;\n",
              "    }\n",
              "\n",
              "    .dataframe tbody tr th {\n",
              "        vertical-align: top;\n",
              "    }\n",
              "\n",
              "    .dataframe thead th {\n",
              "        text-align: right;\n",
              "    }\n",
              "</style>\n",
              "<table border=\"1\" class=\"dataframe\">\n",
              "  <thead>\n",
              "    <tr style=\"text-align: right;\">\n",
              "      <th></th>\n",
              "      <th>datetime</th>\n",
              "      <th>actual</th>\n",
              "      <th>prediction</th>\n",
              "      <th>MAPE (%)</th>\n",
              "      <th>RMSE (MW)</th>\n",
              "    </tr>\n",
              "  </thead>\n",
              "  <tbody>\n",
              "    <tr>\n",
              "      <th>0</th>\n",
              "      <td>2024-07-01 08:00:00</td>\n",
              "      <td>2.830242e+22</td>\n",
              "      <td>25959.980469</td>\n",
              "      <td>100.0</td>\n",
              "      <td>2.830242e+22</td>\n",
              "    </tr>\n",
              "    <tr>\n",
              "      <th>1</th>\n",
              "      <td>2024-07-01 08:30:00</td>\n",
              "      <td>2.830245e+22</td>\n",
              "      <td>25441.208984</td>\n",
              "      <td>100.0</td>\n",
              "      <td>2.830245e+22</td>\n",
              "    </tr>\n",
              "    <tr>\n",
              "      <th>2</th>\n",
              "      <td>2024-07-01 09:00:00</td>\n",
              "      <td>2.830248e+22</td>\n",
              "      <td>25192.013672</td>\n",
              "      <td>100.0</td>\n",
              "      <td>2.830248e+22</td>\n",
              "    </tr>\n",
              "    <tr>\n",
              "      <th>3</th>\n",
              "      <td>2024-07-01 09:30:00</td>\n",
              "      <td>2.830251e+22</td>\n",
              "      <td>24444.119141</td>\n",
              "      <td>100.0</td>\n",
              "      <td>2.830251e+22</td>\n",
              "    </tr>\n",
              "    <tr>\n",
              "      <th>4</th>\n",
              "      <td>2024-07-01 10:00:00</td>\n",
              "      <td>2.830254e+22</td>\n",
              "      <td>24322.316406</td>\n",
              "      <td>100.0</td>\n",
              "      <td>2.830254e+22</td>\n",
              "    </tr>\n",
              "  </tbody>\n",
              "</table>\n",
              "</div>"
            ],
            "text/plain": [
              "             datetime        actual    prediction  MAPE (%)     RMSE (MW)\n",
              "0 2024-07-01 08:00:00  2.830242e+22  25959.980469     100.0  2.830242e+22\n",
              "1 2024-07-01 08:30:00  2.830245e+22  25441.208984     100.0  2.830245e+22\n",
              "2 2024-07-01 09:00:00  2.830248e+22  25192.013672     100.0  2.830248e+22\n",
              "3 2024-07-01 09:30:00  2.830251e+22  24444.119141     100.0  2.830251e+22\n",
              "4 2024-07-01 10:00:00  2.830254e+22  24322.316406     100.0  2.830254e+22"
            ]
          },
          "execution_count": 62,
          "metadata": {},
          "output_type": "execute_result"
        }
      ],
      "source": [
        "datetime_array = df_for_testing.index\n",
        "datetime_array = datetime_array[:len(original)]\n",
        "max_len = max(len(original), len(gru_pred), len(datetime_array))\n",
        "\n",
        "# Print the lengths of all arrays before adjusting\n",
        "print(f\"Length of original: {len(original)}\")\n",
        "print(f\"Length of gru_pred: {len(gru_pred)}\")\n",
        "print(f\"Length of datetime_array: {len(datetime_array)}\")\n",
        "print(f\"Max length: {max_len}\")\n",
        "\n",
        "mape_values = np.abs((original - gru_pred) / original) * 100\n",
        "rmse_values = np.sqrt((original - gru_pred) ** 2)\n",
        "\n",
        "# Adjust the length of datetime_array if necessary\n",
        "if len(datetime_array) < max_len:\n",
        "    datetime_array = datetime_array.append([datetime_array[-1]] * (max_len - len(datetime_array)))\n",
        "elif len(datetime_array) > max_len:\n",
        "    datetime_array = datetime_array[:max_len]\n",
        "\n",
        "# Print the lengths again after adjustments\n",
        "print(f\"Adjusted length of datetime_array: {len(datetime_array)}\")\n",
        "print(f\"Length of original after adjustment: {len(original)}\")\n",
        "print(f\"Length of gru_pred after adjustment: {len(gru_pred)}\")\n",
        "print(f\"Length of MAPE values: {len(mape_values)}\")\n",
        "print(f\"Length of RMSE values: {len(rmse_values)}\")\n",
        "\n",
        "# Create the DataFrame\n",
        "results_df = pd.DataFrame({\n",
        "    'datetime': datetime_array,\n",
        "    'actual': original,\n",
        "    'prediction': gru_pred,\n",
        "    'MAPE (%)': mape_values,\n",
        "    'RMSE (MW)': rmse_values\n",
        "})\n",
        "\n",
        "# Simpan hasil prediksi dan model\n",
        "results_df.to_csv('gru_prediction_results.csv', index=False)\n",
        "best_model.save('gru_model.h5')\n",
        "results_df.head()\n"
      ]
    },
    {
      "cell_type": "code",
      "execution_count": 44,
      "metadata": {},
      "outputs": [
        {
          "ename": "ValueError",
          "evalue": "All arrays must be of the same length",
          "output_type": "error",
          "traceback": [
            "\u001b[1;31m---------------------------------------------------------------------------\u001b[0m",
            "\u001b[1;31mValueError\u001b[0m                                Traceback (most recent call last)",
            "Cell \u001b[1;32mIn[44], line 1\u001b[0m\n\u001b[1;32m----> 1\u001b[0m results_df \u001b[38;5;241m=\u001b[39m \u001b[43mpd\u001b[49m\u001b[38;5;241;43m.\u001b[39;49m\u001b[43mDataFrame\u001b[49m\u001b[43m(\u001b[49m\u001b[43m{\u001b[49m\n\u001b[0;32m      2\u001b[0m \u001b[43m    \u001b[49m\u001b[38;5;124;43m'\u001b[39;49m\u001b[38;5;124;43mdatetime\u001b[39;49m\u001b[38;5;124;43m'\u001b[39;49m\u001b[43m:\u001b[49m\u001b[43m \u001b[49m\u001b[43mdatetime_array\u001b[49m\u001b[43m,\u001b[49m\n\u001b[0;32m      3\u001b[0m \u001b[43m    \u001b[49m\u001b[38;5;124;43m'\u001b[39;49m\u001b[38;5;124;43mactual\u001b[39;49m\u001b[38;5;124;43m'\u001b[39;49m\u001b[43m:\u001b[49m\u001b[43m \u001b[49m\u001b[43moriginal\u001b[49m\u001b[43m,\u001b[49m\n\u001b[0;32m      4\u001b[0m \u001b[43m    \u001b[49m\u001b[38;5;124;43m'\u001b[39;49m\u001b[38;5;124;43mprediction\u001b[39;49m\u001b[38;5;124;43m'\u001b[39;49m\u001b[43m:\u001b[49m\u001b[43m \u001b[49m\u001b[43mgru_pred\u001b[49m\u001b[43m,\u001b[49m\n\u001b[0;32m      5\u001b[0m \u001b[43m    \u001b[49m\u001b[38;5;124;43m'\u001b[39;49m\u001b[38;5;124;43mMAPE (\u001b[39;49m\u001b[38;5;124;43m%\u001b[39;49m\u001b[38;5;124;43m)\u001b[39;49m\u001b[38;5;124;43m'\u001b[39;49m\u001b[43m:\u001b[49m\u001b[43m \u001b[49m\u001b[43mmape_values\u001b[49m\u001b[43m,\u001b[49m\n\u001b[0;32m      6\u001b[0m \u001b[43m    \u001b[49m\u001b[38;5;124;43m'\u001b[39;49m\u001b[38;5;124;43mRMSE (MW)\u001b[39;49m\u001b[38;5;124;43m'\u001b[39;49m\u001b[43m:\u001b[49m\u001b[43m \u001b[49m\u001b[43mrmse_values\u001b[49m\n\u001b[0;32m      7\u001b[0m \u001b[43m}\u001b[49m\u001b[43m)\u001b[49m\n\u001b[0;32m      9\u001b[0m \u001b[38;5;66;03m# Save prediksi dan model\u001b[39;00m\n\u001b[0;32m     10\u001b[0m results_df\u001b[38;5;241m.\u001b[39mto_csv(\u001b[38;5;124m'\u001b[39m\u001b[38;5;124mgru_prediction_results.csv\u001b[39m\u001b[38;5;124m'\u001b[39m, index\u001b[38;5;241m=\u001b[39m\u001b[38;5;28;01mFalse\u001b[39;00m)\n",
            "File \u001b[1;32mc:\\Users\\fatih\\AppData\\Local\\Programs\\Python\\Python310\\lib\\site-packages\\pandas\\core\\frame.py:778\u001b[0m, in \u001b[0;36mDataFrame.__init__\u001b[1;34m(self, data, index, columns, dtype, copy)\u001b[0m\n\u001b[0;32m    772\u001b[0m     mgr \u001b[38;5;241m=\u001b[39m \u001b[38;5;28mself\u001b[39m\u001b[38;5;241m.\u001b[39m_init_mgr(\n\u001b[0;32m    773\u001b[0m         data, axes\u001b[38;5;241m=\u001b[39m{\u001b[38;5;124m\"\u001b[39m\u001b[38;5;124mindex\u001b[39m\u001b[38;5;124m\"\u001b[39m: index, \u001b[38;5;124m\"\u001b[39m\u001b[38;5;124mcolumns\u001b[39m\u001b[38;5;124m\"\u001b[39m: columns}, dtype\u001b[38;5;241m=\u001b[39mdtype, copy\u001b[38;5;241m=\u001b[39mcopy\n\u001b[0;32m    774\u001b[0m     )\n\u001b[0;32m    776\u001b[0m \u001b[38;5;28;01melif\u001b[39;00m \u001b[38;5;28misinstance\u001b[39m(data, \u001b[38;5;28mdict\u001b[39m):\n\u001b[0;32m    777\u001b[0m     \u001b[38;5;66;03m# GH#38939 de facto copy defaults to False only in non-dict cases\u001b[39;00m\n\u001b[1;32m--> 778\u001b[0m     mgr \u001b[38;5;241m=\u001b[39m \u001b[43mdict_to_mgr\u001b[49m\u001b[43m(\u001b[49m\u001b[43mdata\u001b[49m\u001b[43m,\u001b[49m\u001b[43m \u001b[49m\u001b[43mindex\u001b[49m\u001b[43m,\u001b[49m\u001b[43m \u001b[49m\u001b[43mcolumns\u001b[49m\u001b[43m,\u001b[49m\u001b[43m \u001b[49m\u001b[43mdtype\u001b[49m\u001b[38;5;241;43m=\u001b[39;49m\u001b[43mdtype\u001b[49m\u001b[43m,\u001b[49m\u001b[43m \u001b[49m\u001b[43mcopy\u001b[49m\u001b[38;5;241;43m=\u001b[39;49m\u001b[43mcopy\u001b[49m\u001b[43m,\u001b[49m\u001b[43m \u001b[49m\u001b[43mtyp\u001b[49m\u001b[38;5;241;43m=\u001b[39;49m\u001b[43mmanager\u001b[49m\u001b[43m)\u001b[49m\n\u001b[0;32m    779\u001b[0m \u001b[38;5;28;01melif\u001b[39;00m \u001b[38;5;28misinstance\u001b[39m(data, ma\u001b[38;5;241m.\u001b[39mMaskedArray):\n\u001b[0;32m    780\u001b[0m     \u001b[38;5;28;01mfrom\u001b[39;00m \u001b[38;5;21;01mnumpy\u001b[39;00m\u001b[38;5;21;01m.\u001b[39;00m\u001b[38;5;21;01mma\u001b[39;00m \u001b[38;5;28;01mimport\u001b[39;00m mrecords\n",
            "File \u001b[1;32mc:\\Users\\fatih\\AppData\\Local\\Programs\\Python\\Python310\\lib\\site-packages\\pandas\\core\\internals\\construction.py:503\u001b[0m, in \u001b[0;36mdict_to_mgr\u001b[1;34m(data, index, columns, dtype, typ, copy)\u001b[0m\n\u001b[0;32m    499\u001b[0m     \u001b[38;5;28;01melse\u001b[39;00m:\n\u001b[0;32m    500\u001b[0m         \u001b[38;5;66;03m# dtype check to exclude e.g. range objects, scalars\u001b[39;00m\n\u001b[0;32m    501\u001b[0m         arrays \u001b[38;5;241m=\u001b[39m [x\u001b[38;5;241m.\u001b[39mcopy() \u001b[38;5;28;01mif\u001b[39;00m \u001b[38;5;28mhasattr\u001b[39m(x, \u001b[38;5;124m\"\u001b[39m\u001b[38;5;124mdtype\u001b[39m\u001b[38;5;124m\"\u001b[39m) \u001b[38;5;28;01melse\u001b[39;00m x \u001b[38;5;28;01mfor\u001b[39;00m x \u001b[38;5;129;01min\u001b[39;00m arrays]\n\u001b[1;32m--> 503\u001b[0m \u001b[38;5;28;01mreturn\u001b[39;00m \u001b[43marrays_to_mgr\u001b[49m\u001b[43m(\u001b[49m\u001b[43marrays\u001b[49m\u001b[43m,\u001b[49m\u001b[43m \u001b[49m\u001b[43mcolumns\u001b[49m\u001b[43m,\u001b[49m\u001b[43m \u001b[49m\u001b[43mindex\u001b[49m\u001b[43m,\u001b[49m\u001b[43m \u001b[49m\u001b[43mdtype\u001b[49m\u001b[38;5;241;43m=\u001b[39;49m\u001b[43mdtype\u001b[49m\u001b[43m,\u001b[49m\u001b[43m \u001b[49m\u001b[43mtyp\u001b[49m\u001b[38;5;241;43m=\u001b[39;49m\u001b[43mtyp\u001b[49m\u001b[43m,\u001b[49m\u001b[43m \u001b[49m\u001b[43mconsolidate\u001b[49m\u001b[38;5;241;43m=\u001b[39;49m\u001b[43mcopy\u001b[49m\u001b[43m)\u001b[49m\n",
            "File \u001b[1;32mc:\\Users\\fatih\\AppData\\Local\\Programs\\Python\\Python310\\lib\\site-packages\\pandas\\core\\internals\\construction.py:114\u001b[0m, in \u001b[0;36marrays_to_mgr\u001b[1;34m(arrays, columns, index, dtype, verify_integrity, typ, consolidate)\u001b[0m\n\u001b[0;32m    111\u001b[0m \u001b[38;5;28;01mif\u001b[39;00m verify_integrity:\n\u001b[0;32m    112\u001b[0m     \u001b[38;5;66;03m# figure out the index, if necessary\u001b[39;00m\n\u001b[0;32m    113\u001b[0m     \u001b[38;5;28;01mif\u001b[39;00m index \u001b[38;5;129;01mis\u001b[39;00m \u001b[38;5;28;01mNone\u001b[39;00m:\n\u001b[1;32m--> 114\u001b[0m         index \u001b[38;5;241m=\u001b[39m \u001b[43m_extract_index\u001b[49m\u001b[43m(\u001b[49m\u001b[43marrays\u001b[49m\u001b[43m)\u001b[49m\n\u001b[0;32m    115\u001b[0m     \u001b[38;5;28;01melse\u001b[39;00m:\n\u001b[0;32m    116\u001b[0m         index \u001b[38;5;241m=\u001b[39m ensure_index(index)\n",
            "File \u001b[1;32mc:\\Users\\fatih\\AppData\\Local\\Programs\\Python\\Python310\\lib\\site-packages\\pandas\\core\\internals\\construction.py:677\u001b[0m, in \u001b[0;36m_extract_index\u001b[1;34m(data)\u001b[0m\n\u001b[0;32m    675\u001b[0m lengths \u001b[38;5;241m=\u001b[39m \u001b[38;5;28mlist\u001b[39m(\u001b[38;5;28mset\u001b[39m(raw_lengths))\n\u001b[0;32m    676\u001b[0m \u001b[38;5;28;01mif\u001b[39;00m \u001b[38;5;28mlen\u001b[39m(lengths) \u001b[38;5;241m>\u001b[39m \u001b[38;5;241m1\u001b[39m:\n\u001b[1;32m--> 677\u001b[0m     \u001b[38;5;28;01mraise\u001b[39;00m \u001b[38;5;167;01mValueError\u001b[39;00m(\u001b[38;5;124m\"\u001b[39m\u001b[38;5;124mAll arrays must be of the same length\u001b[39m\u001b[38;5;124m\"\u001b[39m)\n\u001b[0;32m    679\u001b[0m \u001b[38;5;28;01mif\u001b[39;00m have_dicts:\n\u001b[0;32m    680\u001b[0m     \u001b[38;5;28;01mraise\u001b[39;00m \u001b[38;5;167;01mValueError\u001b[39;00m(\n\u001b[0;32m    681\u001b[0m         \u001b[38;5;124m\"\u001b[39m\u001b[38;5;124mMixing dicts with non-Series may lead to ambiguous ordering.\u001b[39m\u001b[38;5;124m\"\u001b[39m\n\u001b[0;32m    682\u001b[0m     )\n",
            "\u001b[1;31mValueError\u001b[0m: All arrays must be of the same length"
          ]
        }
      ],
      "source": []
    },
    {
      "cell_type": "code",
      "execution_count": 64,
      "metadata": {
        "id": "CiWmVnRpLJNx"
      },
      "outputs": [
        {
          "ename": "AttributeError",
          "evalue": "'numpy.ndarray' object has no attribute 'split'",
          "output_type": "error",
          "traceback": [
            "\u001b[1;31m---------------------------------------------------------------------------\u001b[0m",
            "\u001b[1;31mAttributeError\u001b[0m                            Traceback (most recent call last)",
            "Cell \u001b[1;32mIn[64], line 2\u001b[0m\n\u001b[0;32m      1\u001b[0m \u001b[38;5;66;03m# Convert the first (and only) element of the list to a NumPy array\u001b[39;00m\n\u001b[1;32m----> 2\u001b[0m orig \u001b[38;5;241m=\u001b[39m np\u001b[38;5;241m.\u001b[39marray(\u001b[43moriginal\u001b[49m\u001b[38;5;241;43m.\u001b[39;49m\u001b[43msplit\u001b[49m(\u001b[38;5;124m'\u001b[39m\u001b[38;5;124m, \u001b[39m\u001b[38;5;124m'\u001b[39m), dtype\u001b[38;5;241m=\u001b[39m\u001b[38;5;28mfloat\u001b[39m)\n\u001b[0;32m      3\u001b[0m grupred \u001b[38;5;241m=\u001b[39m np\u001b[38;5;241m.\u001b[39marray(gru_pred\u001b[38;5;241m.\u001b[39msplit(\u001b[38;5;124m'\u001b[39m\u001b[38;5;124m, \u001b[39m\u001b[38;5;124m'\u001b[39m), dtype\u001b[38;5;241m=\u001b[39m\u001b[38;5;28mfloat\u001b[39m)\n\u001b[0;32m      4\u001b[0m datetime_array \u001b[38;5;241m=\u001b[39mtestY\u001b[38;5;241m.\u001b[39mindex\n",
            "\u001b[1;31mAttributeError\u001b[0m: 'numpy.ndarray' object has no attribute 'split'"
          ]
        }
      ],
      "source": [
        "# Convert the first (and only) element of the list to a NumPy array\n",
        "orig = np.array(original.split(', '), dtype=float)\n",
        "grupred = np.array(gru_pred.split(', '), dtype=float)\n",
        "datetime_array =testY.index\n",
        "datetime_array = datetime_array[:len(original)]\n",
        "results_df = pd.DataFrame({\n",
        "    'datetime': datetime_array,\n",
        "    'actual': original,\n",
        "    'prediction': gru_pred,\n",
        "    'MAPE (%)': mape_values,\n",
        "    'RMSE (MW)': rmse_values\n",
        "})\n",
        "\n",
        "# Save prediksi dan model\n",
        "results_df.to_csv('gru_prediction_results.csv', index=False)\n",
        "best_model.save('gru_model.h5')\n",
        "results_df.head()"
      ]
    },
    {
      "cell_type": "markdown",
      "metadata": {
        "id": "EyfqFOp3LtDS"
      },
      "source": [
        "# LSTM"
      ]
    },
    {
      "cell_type": "code",
      "execution_count": 14,
      "metadata": {
        "colab": {
          "base_uri": "https://localhost:8080/"
        },
        "id": "-d_EYSoIO-Uz",
        "outputId": "2f3b81df-b87b-4af5-e5c1-8055aa459ac4"
      },
      "outputs": [
        {
          "name": "stdout",
          "output_type": "stream",
          "text": [
            "                      Suhu        MW  Suhu(t-1)   MW(t-1)  Suhu(t-2)  \\\n",
            "Datetime                                                               \n",
            "2024-01-09 12:30:00  25.70  27601.62      25.70  27509.14      27.15   \n",
            "2024-01-09 13:00:00  25.65  28323.25      25.70  27601.62      25.70   \n",
            "2024-01-09 13:30:00  25.65  29153.37      25.65  28323.25      25.70   \n",
            "2024-01-09 14:00:00  25.75  29265.95      25.65  29153.37      25.65   \n",
            "2024-01-09 14:30:00  25.75  29225.83      25.75  29265.95      25.65   \n",
            "\n",
            "                      MW(t-2)  Suhu(t-3)   MW(t-3)  Suhu(t-4)   MW(t-4)  ...  \\\n",
            "Datetime                                                                 ...   \n",
            "2024-01-09 12:30:00  28389.96      27.15  28477.88      26.75  28379.39  ...   \n",
            "2024-01-09 13:00:00  27509.14      27.15  28389.96      27.15  28477.88  ...   \n",
            "2024-01-09 13:30:00  27601.62      25.70  27509.14      27.15  28389.96  ...   \n",
            "2024-01-09 14:00:00  28323.25      25.70  27601.62      25.70  27509.14  ...   \n",
            "2024-01-09 14:30:00  29153.37      25.65  28323.25      25.70  27601.62  ...   \n",
            "\n",
            "                     Suhu(t-21)  MW(t-21)  Suhu(t-22)  MW(t-22)  Suhu(t-23)  \\\n",
            "Datetime                                                                      \n",
            "2024-01-09 12:30:00       21.55  22610.97       21.30  22793.85       21.30   \n",
            "2024-01-09 13:00:00       21.55  22419.90       21.55  22610.97       21.30   \n",
            "2024-01-09 13:30:00       21.40  22149.54       21.55  22419.90       21.55   \n",
            "2024-01-09 14:00:00       21.40  22302.26       21.40  22149.54       21.55   \n",
            "2024-01-09 14:30:00       21.35  22417.50       21.40  22302.26       21.40   \n",
            "\n",
            "                     MW(t-23)  Suhu(t-24)  MW(t-24)  RollingMean_3  \\\n",
            "Datetime                                                             \n",
            "2024-01-09 12:30:00  22942.26       21.50  23206.91   27833.573333   \n",
            "2024-01-09 13:00:00  22793.85       21.30  22942.26   27811.336667   \n",
            "2024-01-09 13:30:00  22610.97       21.30  22793.85   28359.413333   \n",
            "2024-01-09 14:00:00  22419.90       21.55  22610.97   28914.190000   \n",
            "2024-01-09 14:30:00  22149.54       21.55  22419.90   29215.050000   \n",
            "\n",
            "                     RollingStd_3  \n",
            "Datetime                           \n",
            "2024-01-09 12:30:00    484.058602  \n",
            "2024-01-09 13:00:00    445.734880  \n",
            "2024-01-09 13:30:00    776.506829  \n",
            "2024-01-09 14:00:00    514.855443  \n",
            "2024-01-09 14:30:00     57.058920  \n",
            "\n",
            "[5 rows x 52 columns]\n"
          ]
        }
      ],
      "source": [
        "historical_df = data.copy()\n",
        "\n",
        "# Create lagged features\n",
        "for lag in range(1, 25):\n",
        "    historical_df[f'Suhu(t-{lag})'] = historical_df['Suhu'].shift(lag)\n",
        "    historical_df[f'MW(t-{lag})'] = historical_df['MW'].shift(lag)\n",
        "\n",
        "# Add rolling statistics\n",
        "historical_df['RollingMean_3'] = historical_df['MW'].rolling(window=3).mean()\n",
        "historical_df['RollingStd_3'] = historical_df['MW'].rolling(window=3).std()\n",
        "\n",
        "# Drop rows with NaN values (due to lagging)\n",
        "historical_df = historical_df.dropna()\n",
        "\n",
        "# Display the prepared DataFrame\n",
        "print(historical_df.head())"
      ]
    },
    {
      "cell_type": "code",
      "execution_count": 15,
      "metadata": {
        "colab": {
          "base_uri": "https://localhost:8080/",
          "height": 350
        },
        "id": "ul2eca6JQDC_",
        "outputId": "b3bf97cc-b65a-484d-ca93-dc886b515b30"
      },
      "outputs": [
        {
          "data": {
            "text/html": [
              "<div>\n",
              "<style scoped>\n",
              "    .dataframe tbody tr th:only-of-type {\n",
              "        vertical-align: middle;\n",
              "    }\n",
              "\n",
              "    .dataframe tbody tr th {\n",
              "        vertical-align: top;\n",
              "    }\n",
              "\n",
              "    .dataframe thead th {\n",
              "        text-align: right;\n",
              "    }\n",
              "</style>\n",
              "<table border=\"1\" class=\"dataframe\">\n",
              "  <thead>\n",
              "    <tr style=\"text-align: right;\">\n",
              "      <th></th>\n",
              "      <th>Suhu</th>\n",
              "      <th>MW</th>\n",
              "      <th>Suhu(t-1)</th>\n",
              "      <th>MW(t-1)</th>\n",
              "      <th>Suhu(t-2)</th>\n",
              "      <th>MW(t-2)</th>\n",
              "      <th>Suhu(t-3)</th>\n",
              "      <th>MW(t-3)</th>\n",
              "      <th>Suhu(t-4)</th>\n",
              "      <th>MW(t-4)</th>\n",
              "      <th>...</th>\n",
              "      <th>Suhu(t-21)</th>\n",
              "      <th>MW(t-21)</th>\n",
              "      <th>Suhu(t-22)</th>\n",
              "      <th>MW(t-22)</th>\n",
              "      <th>Suhu(t-23)</th>\n",
              "      <th>MW(t-23)</th>\n",
              "      <th>Suhu(t-24)</th>\n",
              "      <th>MW(t-24)</th>\n",
              "      <th>RollingMean_3</th>\n",
              "      <th>RollingStd_3</th>\n",
              "    </tr>\n",
              "  </thead>\n",
              "  <tbody>\n",
              "    <tr>\n",
              "      <th>count</th>\n",
              "      <td>9336.000000</td>\n",
              "      <td>9336.000000</td>\n",
              "      <td>9336.000000</td>\n",
              "      <td>9336.000000</td>\n",
              "      <td>9336.000000</td>\n",
              "      <td>9336.00000</td>\n",
              "      <td>9336.000000</td>\n",
              "      <td>9336.000000</td>\n",
              "      <td>9336.000000</td>\n",
              "      <td>9336.000000</td>\n",
              "      <td>...</td>\n",
              "      <td>9336.000000</td>\n",
              "      <td>9336.000000</td>\n",
              "      <td>9336.000000</td>\n",
              "      <td>9336.000000</td>\n",
              "      <td>9336.000000</td>\n",
              "      <td>9336.000000</td>\n",
              "      <td>9336.000000</td>\n",
              "      <td>9336.000000</td>\n",
              "      <td>9336.000000</td>\n",
              "      <td>9336.000000</td>\n",
              "    </tr>\n",
              "    <tr>\n",
              "      <th>mean</th>\n",
              "      <td>22.855275</td>\n",
              "      <td>25548.181854</td>\n",
              "      <td>22.856084</td>\n",
              "      <td>25548.436313</td>\n",
              "      <td>22.857053</td>\n",
              "      <td>25548.73144</td>\n",
              "      <td>22.858023</td>\n",
              "      <td>25548.996610</td>\n",
              "      <td>22.858917</td>\n",
              "      <td>25549.173314</td>\n",
              "      <td>...</td>\n",
              "      <td>22.861675</td>\n",
              "      <td>25540.242469</td>\n",
              "      <td>22.861247</td>\n",
              "      <td>25539.513847</td>\n",
              "      <td>22.860818</td>\n",
              "      <td>25538.913896</td>\n",
              "      <td>22.860433</td>\n",
              "      <td>25538.420800</td>\n",
              "      <td>25548.449869</td>\n",
              "      <td>353.490436</td>\n",
              "    </tr>\n",
              "    <tr>\n",
              "      <th>std</th>\n",
              "      <td>2.154363</td>\n",
              "      <td>3047.846443</td>\n",
              "      <td>2.154014</td>\n",
              "      <td>3047.910987</td>\n",
              "      <td>2.153910</td>\n",
              "      <td>3048.05273</td>\n",
              "      <td>2.153805</td>\n",
              "      <td>3048.199871</td>\n",
              "      <td>2.153687</td>\n",
              "      <td>3048.316137</td>\n",
              "      <td>...</td>\n",
              "      <td>2.152261</td>\n",
              "      <td>3045.735893</td>\n",
              "      <td>2.152174</td>\n",
              "      <td>3045.579136</td>\n",
              "      <td>2.152087</td>\n",
              "      <td>3045.539020</td>\n",
              "      <td>2.152008</td>\n",
              "      <td>3045.543876</td>\n",
              "      <td>3027.905793</td>\n",
              "      <td>239.975718</td>\n",
              "    </tr>\n",
              "    <tr>\n",
              "      <th>min</th>\n",
              "      <td>16.450000</td>\n",
              "      <td>14873.300000</td>\n",
              "      <td>16.450000</td>\n",
              "      <td>14873.300000</td>\n",
              "      <td>16.450000</td>\n",
              "      <td>14873.30000</td>\n",
              "      <td>16.450000</td>\n",
              "      <td>14873.300000</td>\n",
              "      <td>16.450000</td>\n",
              "      <td>14873.300000</td>\n",
              "      <td>...</td>\n",
              "      <td>16.450000</td>\n",
              "      <td>14873.300000</td>\n",
              "      <td>16.450000</td>\n",
              "      <td>14873.300000</td>\n",
              "      <td>16.450000</td>\n",
              "      <td>14873.300000</td>\n",
              "      <td>16.450000</td>\n",
              "      <td>14873.300000</td>\n",
              "      <td>14927.360000</td>\n",
              "      <td>0.958454</td>\n",
              "    </tr>\n",
              "    <tr>\n",
              "      <th>25%</th>\n",
              "      <td>21.250000</td>\n",
              "      <td>23439.482500</td>\n",
              "      <td>21.250000</td>\n",
              "      <td>23439.482500</td>\n",
              "      <td>21.250000</td>\n",
              "      <td>23439.48250</td>\n",
              "      <td>21.250000</td>\n",
              "      <td>23439.482500</td>\n",
              "      <td>21.250000</td>\n",
              "      <td>23439.482500</td>\n",
              "      <td>...</td>\n",
              "      <td>21.250000</td>\n",
              "      <td>23436.882500</td>\n",
              "      <td>21.250000</td>\n",
              "      <td>23435.812500</td>\n",
              "      <td>21.250000</td>\n",
              "      <td>23435.415000</td>\n",
              "      <td>21.250000</td>\n",
              "      <td>23434.622500</td>\n",
              "      <td>23465.191667</td>\n",
              "      <td>177.648817</td>\n",
              "    </tr>\n",
              "    <tr>\n",
              "      <th>50%</th>\n",
              "      <td>22.400000</td>\n",
              "      <td>25469.675000</td>\n",
              "      <td>22.400000</td>\n",
              "      <td>25470.585000</td>\n",
              "      <td>22.400000</td>\n",
              "      <td>25470.58500</td>\n",
              "      <td>22.400000</td>\n",
              "      <td>25470.585000</td>\n",
              "      <td>22.400000</td>\n",
              "      <td>25470.585000</td>\n",
              "      <td>...</td>\n",
              "      <td>22.400000</td>\n",
              "      <td>25460.255000</td>\n",
              "      <td>22.400000</td>\n",
              "      <td>25459.250000</td>\n",
              "      <td>22.400000</td>\n",
              "      <td>25458.175000</td>\n",
              "      <td>22.400000</td>\n",
              "      <td>25457.880000</td>\n",
              "      <td>25476.790000</td>\n",
              "      <td>296.273809</td>\n",
              "    </tr>\n",
              "    <tr>\n",
              "      <th>75%</th>\n",
              "      <td>24.650000</td>\n",
              "      <td>28172.747500</td>\n",
              "      <td>24.650000</td>\n",
              "      <td>28172.747500</td>\n",
              "      <td>24.650000</td>\n",
              "      <td>28174.17500</td>\n",
              "      <td>24.650000</td>\n",
              "      <td>28174.667500</td>\n",
              "      <td>24.650000</td>\n",
              "      <td>28175.657500</td>\n",
              "      <td>...</td>\n",
              "      <td>24.650000</td>\n",
              "      <td>28163.312500</td>\n",
              "      <td>24.650000</td>\n",
              "      <td>28162.087500</td>\n",
              "      <td>24.650000</td>\n",
              "      <td>28160.820000</td>\n",
              "      <td>24.650000</td>\n",
              "      <td>28160.820000</td>\n",
              "      <td>28171.261667</td>\n",
              "      <td>493.155813</td>\n",
              "    </tr>\n",
              "    <tr>\n",
              "      <th>max</th>\n",
              "      <td>28.250000</td>\n",
              "      <td>31329.910000</td>\n",
              "      <td>28.250000</td>\n",
              "      <td>31329.910000</td>\n",
              "      <td>28.250000</td>\n",
              "      <td>31329.91000</td>\n",
              "      <td>28.250000</td>\n",
              "      <td>31329.910000</td>\n",
              "      <td>28.250000</td>\n",
              "      <td>31329.910000</td>\n",
              "      <td>...</td>\n",
              "      <td>28.250000</td>\n",
              "      <td>31329.910000</td>\n",
              "      <td>28.250000</td>\n",
              "      <td>31329.910000</td>\n",
              "      <td>28.250000</td>\n",
              "      <td>31329.910000</td>\n",
              "      <td>28.250000</td>\n",
              "      <td>31329.910000</td>\n",
              "      <td>31136.440000</td>\n",
              "      <td>1775.152126</td>\n",
              "    </tr>\n",
              "  </tbody>\n",
              "</table>\n",
              "<p>8 rows × 52 columns</p>\n",
              "</div>"
            ],
            "text/plain": [
              "              Suhu            MW    Suhu(t-1)       MW(t-1)    Suhu(t-2)  \\\n",
              "count  9336.000000   9336.000000  9336.000000   9336.000000  9336.000000   \n",
              "mean     22.855275  25548.181854    22.856084  25548.436313    22.857053   \n",
              "std       2.154363   3047.846443     2.154014   3047.910987     2.153910   \n",
              "min      16.450000  14873.300000    16.450000  14873.300000    16.450000   \n",
              "25%      21.250000  23439.482500    21.250000  23439.482500    21.250000   \n",
              "50%      22.400000  25469.675000    22.400000  25470.585000    22.400000   \n",
              "75%      24.650000  28172.747500    24.650000  28172.747500    24.650000   \n",
              "max      28.250000  31329.910000    28.250000  31329.910000    28.250000   \n",
              "\n",
              "           MW(t-2)    Suhu(t-3)       MW(t-3)    Suhu(t-4)       MW(t-4)  ...  \\\n",
              "count   9336.00000  9336.000000   9336.000000  9336.000000   9336.000000  ...   \n",
              "mean   25548.73144    22.858023  25548.996610    22.858917  25549.173314  ...   \n",
              "std     3048.05273     2.153805   3048.199871     2.153687   3048.316137  ...   \n",
              "min    14873.30000    16.450000  14873.300000    16.450000  14873.300000  ...   \n",
              "25%    23439.48250    21.250000  23439.482500    21.250000  23439.482500  ...   \n",
              "50%    25470.58500    22.400000  25470.585000    22.400000  25470.585000  ...   \n",
              "75%    28174.17500    24.650000  28174.667500    24.650000  28175.657500  ...   \n",
              "max    31329.91000    28.250000  31329.910000    28.250000  31329.910000  ...   \n",
              "\n",
              "        Suhu(t-21)      MW(t-21)   Suhu(t-22)      MW(t-22)   Suhu(t-23)  \\\n",
              "count  9336.000000   9336.000000  9336.000000   9336.000000  9336.000000   \n",
              "mean     22.861675  25540.242469    22.861247  25539.513847    22.860818   \n",
              "std       2.152261   3045.735893     2.152174   3045.579136     2.152087   \n",
              "min      16.450000  14873.300000    16.450000  14873.300000    16.450000   \n",
              "25%      21.250000  23436.882500    21.250000  23435.812500    21.250000   \n",
              "50%      22.400000  25460.255000    22.400000  25459.250000    22.400000   \n",
              "75%      24.650000  28163.312500    24.650000  28162.087500    24.650000   \n",
              "max      28.250000  31329.910000    28.250000  31329.910000    28.250000   \n",
              "\n",
              "           MW(t-23)   Suhu(t-24)      MW(t-24)  RollingMean_3  RollingStd_3  \n",
              "count   9336.000000  9336.000000   9336.000000    9336.000000   9336.000000  \n",
              "mean   25538.913896    22.860433  25538.420800   25548.449869    353.490436  \n",
              "std     3045.539020     2.152008   3045.543876    3027.905793    239.975718  \n",
              "min    14873.300000    16.450000  14873.300000   14927.360000      0.958454  \n",
              "25%    23435.415000    21.250000  23434.622500   23465.191667    177.648817  \n",
              "50%    25458.175000    22.400000  25457.880000   25476.790000    296.273809  \n",
              "75%    28160.820000    24.650000  28160.820000   28171.261667    493.155813  \n",
              "max    31329.910000    28.250000  31329.910000   31136.440000   1775.152126  \n",
              "\n",
              "[8 rows x 52 columns]"
            ]
          },
          "execution_count": 15,
          "metadata": {},
          "output_type": "execute_result"
        }
      ],
      "source": [
        "historical_df.describe()"
      ]
    },
    {
      "cell_type": "code",
      "execution_count": null,
      "metadata": {
        "colab": {
          "base_uri": "https://localhost:8080/"
        },
        "id": "_AEgE-kiWUMM",
        "outputId": "4cf3b499-08c6-483d-c674-dbfa61449ffb"
      },
      "outputs": [
        {
          "name": "stdout",
          "output_type": "stream",
          "text": [
            "X_train_scaled shape after reshaping: (7468, 1, 51)\n",
            "X_test_scaled shape after reshaping: (1868, 1, 51)\n"
          ]
        }
      ],
      "source": [
        "# Define features and target\n",
        "features = historical_df.drop(columns=['MW'])\n",
        "target = historical_df['MW']\n",
        "\n",
        "# Split into training and testing sets\n",
        "X_train, X_test, y_train, y_test = train_test_split(features, target, test_size=0.2, shuffle=False)\n",
        "\n",
        "# Scale the Data\n",
        "scaler_X = MinMaxScaler()\n",
        "scaler_y = MinMaxScaler()\n",
        "\n",
        "X_train_scaled = scaler_X.fit_transform(X_train)\n",
        "X_test_scaled = scaler_X.transform(X_test)\n",
        "\n",
        "y_train_scaled = scaler_y.fit_transform(y_train.values.reshape(-1, 1))\n",
        "y_test_scaled = scaler_y.transform(y_test.values.reshape(-1, 1))\n",
        "\n",
        "# Reshape data for LSTM [samples, timesteps, features]\n",
        "SEQ_LENGTH = 1\n",
        "X_train_scaled = X_train_scaled.reshape((X_train_scaled.shape[0], SEQ_LENGTH, X_train_scaled.shape[1]))\n",
        "X_test_scaled = X_test_scaled.reshape((X_test_scaled.shape[0], SEQ_LENGTH, X_test_scaled.shape[1]))\n",
        "\n",
        "\n",
        "# Check the shape after reshaping\n",
        "print(\"X_train_scaled shape after reshaping:\", X_train_scaled.shape)\n",
        "print(\"X_test_scaled shape after reshaping:\", X_test_scaled.shape)"
      ]
    },
    {
      "cell_type": "code",
      "execution_count": null,
      "metadata": {
        "colab": {
          "base_uri": "https://localhost:8080/",
          "height": 1000
        },
        "id": "Zk8QRfr4dT4B",
        "outputId": "a0c84ba2-2766-4a5e-e829-55611e3ba5cf"
      },
      "outputs": [
        {
          "name": "stdout",
          "output_type": "stream",
          "text": [
            "Epoch 1/100\n",
            "234/234 [==============================] - 7s 12ms/step - loss: 0.0377 - val_loss: 0.0027 - lr: 0.0010\n",
            "Epoch 2/100\n",
            "234/234 [==============================] - 2s 8ms/step - loss: 0.0071 - val_loss: 0.0017 - lr: 0.0010\n",
            "Epoch 3/100\n",
            "234/234 [==============================] - 2s 7ms/step - loss: 0.0046 - val_loss: 0.0025 - lr: 0.0010\n",
            "Epoch 4/100\n",
            "234/234 [==============================] - 1s 6ms/step - loss: 0.0035 - val_loss: 0.0033 - lr: 0.0010\n",
            "Epoch 5/100\n",
            "234/234 [==============================] - 1s 5ms/step - loss: 0.0029 - val_loss: 0.0017 - lr: 0.0010\n",
            "Epoch 6/100\n",
            "234/234 [==============================] - 1s 5ms/step - loss: 0.0022 - val_loss: 0.0016 - lr: 0.0010\n",
            "Epoch 7/100\n",
            "234/234 [==============================] - 1s 6ms/step - loss: 0.0019 - val_loss: 0.0010 - lr: 0.0010\n",
            "Epoch 8/100\n",
            "234/234 [==============================] - 1s 6ms/step - loss: 0.0017 - val_loss: 0.0011 - lr: 0.0010\n",
            "Epoch 9/100\n",
            "234/234 [==============================] - 1s 5ms/step - loss: 0.0016 - val_loss: 5.7306e-04 - lr: 0.0010\n",
            "Epoch 10/100\n",
            "234/234 [==============================] - 1s 6ms/step - loss: 0.0015 - val_loss: 0.0014 - lr: 0.0010\n",
            "Epoch 11/100\n",
            "234/234 [==============================] - 2s 7ms/step - loss: 0.0013 - val_loss: 4.7450e-04 - lr: 0.0010\n",
            "Epoch 12/100\n",
            "234/234 [==============================] - 2s 9ms/step - loss: 0.0012 - val_loss: 0.0010 - lr: 0.0010\n",
            "Epoch 13/100\n",
            "234/234 [==============================] - 2s 8ms/step - loss: 0.0012 - val_loss: 0.0010 - lr: 0.0010\n",
            "Epoch 14/100\n",
            "234/234 [==============================] - 1s 6ms/step - loss: 0.0012 - val_loss: 4.3781e-04 - lr: 0.0010\n",
            "Epoch 15/100\n",
            "234/234 [==============================] - 1s 6ms/step - loss: 0.0012 - val_loss: 4.2849e-04 - lr: 0.0010\n",
            "Epoch 16/100\n",
            "234/234 [==============================] - 1s 5ms/step - loss: 0.0010 - val_loss: 4.3810e-04 - lr: 0.0010\n",
            "Epoch 17/100\n",
            "234/234 [==============================] - 1s 6ms/step - loss: 0.0011 - val_loss: 4.0155e-04 - lr: 0.0010\n",
            "Epoch 18/100\n",
            "234/234 [==============================] - 1s 6ms/step - loss: 0.0011 - val_loss: 3.9358e-04 - lr: 0.0010\n",
            "Epoch 19/100\n",
            "234/234 [==============================] - 1s 6ms/step - loss: 0.0010 - val_loss: 4.0511e-04 - lr: 0.0010\n",
            "Epoch 20/100\n",
            "234/234 [==============================] - 1s 6ms/step - loss: 9.2005e-04 - val_loss: 3.5455e-04 - lr: 2.0000e-04\n",
            "Epoch 21/100\n",
            "234/234 [==============================] - 2s 7ms/step - loss: 8.6938e-04 - val_loss: 3.9526e-04 - lr: 2.0000e-04\n",
            "Epoch 22/100\n",
            "234/234 [==============================] - 2s 9ms/step - loss: 8.4524e-04 - val_loss: 3.5596e-04 - lr: 2.0000e-04\n",
            "Epoch 23/100\n",
            "234/234 [==============================] - 2s 8ms/step - loss: 8.6724e-04 - val_loss: 3.4745e-04 - lr: 2.0000e-04\n",
            "Epoch 24/100\n",
            "234/234 [==============================] - 1s 6ms/step - loss: 8.9590e-04 - val_loss: 3.5114e-04 - lr: 2.0000e-04\n",
            "Epoch 25/100\n",
            "234/234 [==============================] - 1s 6ms/step - loss: 8.3493e-04 - val_loss: 3.5503e-04 - lr: 1.0000e-04\n",
            "Epoch 26/100\n",
            "234/234 [==============================] - 1s 6ms/step - loss: 8.6367e-04 - val_loss: 3.1944e-04 - lr: 1.0000e-04\n",
            "Epoch 27/100\n",
            "234/234 [==============================] - 1s 5ms/step - loss: 8.2190e-04 - val_loss: 4.1504e-04 - lr: 1.0000e-04\n",
            "Epoch 28/100\n",
            "234/234 [==============================] - 1s 6ms/step - loss: 8.6743e-04 - val_loss: 3.2298e-04 - lr: 1.0000e-04\n",
            "Epoch 29/100\n",
            "234/234 [==============================] - 1s 6ms/step - loss: 8.3238e-04 - val_loss: 3.1234e-04 - lr: 1.0000e-04\n",
            "Epoch 30/100\n",
            "234/234 [==============================] - 1s 5ms/step - loss: 8.1444e-04 - val_loss: 3.1860e-04 - lr: 1.0000e-04\n",
            "Epoch 31/100\n",
            "234/234 [==============================] - 2s 8ms/step - loss: 7.8811e-04 - val_loss: 3.6903e-04 - lr: 1.0000e-04\n",
            "Epoch 32/100\n",
            "234/234 [==============================] - 2s 8ms/step - loss: 8.2249e-04 - val_loss: 4.3437e-04 - lr: 1.0000e-04\n",
            "Epoch 33/100\n",
            "234/234 [==============================] - 2s 8ms/step - loss: 8.1621e-04 - val_loss: 3.2893e-04 - lr: 1.0000e-04\n",
            "Epoch 34/100\n",
            "234/234 [==============================] - 1s 6ms/step - loss: 8.1044e-04 - val_loss: 3.2016e-04 - lr: 1.0000e-04\n",
            "Epoch 35/100\n",
            "234/234 [==============================] - 1s 5ms/step - loss: 7.8988e-04 - val_loss: 3.3533e-04 - lr: 1.0000e-04\n",
            "Epoch 36/100\n",
            "234/234 [==============================] - 1s 5ms/step - loss: 8.0941e-04 - val_loss: 3.3443e-04 - lr: 1.0000e-04\n",
            "Epoch 37/100\n",
            "234/234 [==============================] - 1s 5ms/step - loss: 7.8660e-04 - val_loss: 3.2766e-04 - lr: 1.0000e-04\n",
            "Epoch 38/100\n",
            "234/234 [==============================] - 1s 6ms/step - loss: 8.0056e-04 - val_loss: 3.2148e-04 - lr: 1.0000e-04\n",
            "Epoch 39/100\n",
            "234/234 [==============================] - 1s 6ms/step - loss: 7.8207e-04 - val_loss: 3.3019e-04 - lr: 1.0000e-04\n",
            "59/59 [==============================] - 1s 2ms/step\n",
            "R2 lstm: 0.9894218016769154\n",
            "MAE lstm: 218.57946600642398\n",
            "MSE lstm: 84587.64550673163\n",
            "RMSE lstm: 290.8395528581552\n",
            "MAPE lstm: 0.848829657141743%\n"
          ]
        },
        {
          "data": {
            "image/png": "[encoded data removed]",
            "text/plain": [
              "<Figure size 1400x700 with 1 Axes>"
            ]
          },
          "metadata": {},
          "output_type": "display_data"
        }
      ],
      "source": [
        "# 3. Build the LSTM Model\n",
        "model2 = Sequential()\n",
        "model2.add(LSTM(50, return_sequences=True, input_shape=(SEQ_LENGTH, X_train_scaled.shape[2])))\n",
        "model2.add(Dropout(0.3))\n",
        "model2.add(LSTM(50, return_sequences=False))\n",
        "model2.add(Dropout(0.3))\n",
        "model2.add(Dense(25, activation='relu'))\n",
        "model2.add(Dense(1, activation='linear'))\n",
        "\n",
        "model2.compile(optimizer='adam', loss='mean_squared_error')\n",
        "\n",
        "# 4. Callbacks\n",
        "early_stopping = EarlyStopping(monitor='val_loss', patience=10, restore_best_weights=True)\n",
        "reduce_lr = ReduceLROnPlateau(monitor='val_loss', factor=0.2, patience=5, min_lr=0.0001)\n",
        "\n",
        "# 5. Train the Model\n",
        "history = model2.fit(\n",
        "    X_train_scaled, y_train_scaled,\n",
        "    epochs=100,\n",
        "    batch_size=32,\n",
        "    validation_data=(X_test_scaled, y_test_scaled),\n",
        "    callbacks=[early_stopping, reduce_lr],\n",
        "    verbose=1\n",
        ")\n",
        "\n",
        "# 6. Make Predictions on the Test Set\n",
        "y_pred_scaled = model2.predict(X_test_scaled)\n",
        "y_pred_lstm = scaler_y.inverse_transform(y_pred_scaled)\n",
        "\n",
        "# 7. Evaluate the Model\n",
        "y_test_actual = scaler_y.inverse_transform(y_test_scaled)\n",
        "\n",
        "r2_lstm = r2_score(y_test_actual, y_pred_lstm)\n",
        "mae_lstm= mean_absolute_error(y_test_actual, y_pred_lstm)\n",
        "mse_lstm= mean_squared_error(y_test_actual, y_pred_lstm)\n",
        "rmse_lstm= np.sqrt(mse_lstm)\n",
        "mape_lstm= np.mean(np.abs((y_test_actual - y_pred_lstm) / y_test_actual)) * 100\n",
        "\n",
        "print(f\"R2 lstm: {r2_lstm}\")\n",
        "print(f\"MAE lstm: {mae_lstm}\")\n",
        "print(f\"MSE lstm: {mse_lstm}\")\n",
        "print(f\"RMSE lstm: {rmse_lstm}\")\n",
        "print(f\"MAPE lstm: {mape_lstm}%\")\n",
        "\n",
        "\n",
        "plt.figure(figsize=(14, 7))\n",
        "plt.plot(y_test.index, y_test_actual, label='Actual')\n",
        "plt.plot(y_test.index, y_pred_lstm, label='Predicted')\n",
        "plt.title('Actual vs Predicted (MW)')\n",
        "plt.xlabel('Datetime')\n",
        "plt.ylabel('MW')\n",
        "plt.legend()\n",
        "plt.show()\n"
      ]
    },
    {
      "cell_type": "code",
      "execution_count": null,
      "metadata": {
        "colab": {
          "base_uri": "https://localhost:8080/"
        },
        "id": "yUZVzXLLlK_a",
        "outputId": "16d92722-f4c1-43ff-e48a-8a7f1943d246"
      },
      "outputs": [
        {
          "name": "stdout",
          "output_type": "stream",
          "text": [
            "             datetime    actual    estimation  MAPE (%)   RMSE (MW)\n",
            "0 2024-06-13 02:30:00  23915.80  23756.583984  0.665736  159.216016\n",
            "1 2024-06-13 03:00:00  23739.54  23708.107422  0.132406   31.432578\n",
            "2 2024-06-13 03:30:00  23626.19  23639.472656  0.056220   13.282656\n",
            "3 2024-06-13 04:00:00  23687.97  23467.558594  0.930478  220.411406\n",
            "4 2024-06-13 04:30:00  24293.57  23763.351562  2.182546  530.218437\n"
          ]
        }
      ],
      "source": [
        "y_test_actual = y_test_actual.flatten()\n",
        "y_pred_lstm = y_pred_lstm.flatten()\n",
        "\n",
        "mape_values = np.abs((y_test_actual - y_pred_lstm) / y_test_actual) * 100\n",
        "rmse_values = np.sqrt((y_test_actual - y_pred_lstm) ** 2)\n",
        "\n",
        "results_df = pd.DataFrame({\n",
        "    'datetime': y_test.index,\n",
        "    'actual': y_test_actual,\n",
        "    'estimation': y_pred_lstm,\n",
        "    'MAPE (%)': mape_values,\n",
        "    'RMSE (MW)': rmse_values\n",
        "})\n",
        "\n",
        "\n",
        "results_df.to_csv('lstm_prediction_results.csv', index=False)\n",
        "model2.save('lstm_model.h5')\n",
        "print(results_df.head())"
      ]
    },
    {
      "cell_type": "markdown",
      "metadata": {
        "id": "gqIbXNHpgJqj"
      },
      "source": [
        "# XGBoost"
      ]
    },
    {
      "cell_type": "code",
      "execution_count": null,
      "metadata": {
        "id": "1WJUYIYKgLod"
      },
      "outputs": [],
      "source": []
    },
    {
      "cell_type": "code",
      "execution_count": null,
      "metadata": {
        "id": "mK2yGnWxgLq0"
      },
      "outputs": [],
      "source": []
    },
    {
      "cell_type": "code",
      "execution_count": null,
      "metadata": {
        "id": "0KevQU_3gLtG"
      },
      "outputs": [],
      "source": []
    },
    {
      "cell_type": "code",
      "execution_count": null,
      "metadata": {
        "id": "NCrVYA2ugLuz"
      },
      "outputs": [],
      "source": []
    },
    {
      "cell_type": "code",
      "execution_count": null,
      "metadata": {
        "id": "wBsOqYCRgLxw"
      },
      "outputs": [],
      "source": []
    }
  ],
  "metadata": {
    "colab": {
      "provenance": []
    },
    "kernelspec": {
      "display_name": "Python 3",
      "name": "python3"
    },
    "language_info": {
      "codemirror_mode": {
        "name": "ipython",
        "version": 3
      },
      "file_extension": ".py",
      "mimetype": "text/x-python",
      "name": "python",
      "nbconvert_exporter": "python",
      "pygments_lexer": "ipython3",
      "version": "3.10.7"
    }
  },
  "nbformat": 4,
  "nbformat_minor": 0
}
